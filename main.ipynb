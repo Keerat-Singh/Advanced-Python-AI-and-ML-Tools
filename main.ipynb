{
 "cells": [
  {
   "attachments": {},
   "cell_type": "markdown",
   "metadata": {},
   "source": [
    "# WEB SCRAPPING DATA FROM IMDB AND PERFORMING K-MEANS CLUSTERING (STEP 1)"
   ]
  },
  {
   "cell_type": "code",
   "execution_count": 2,
   "metadata": {},
   "outputs": [],
   "source": [
    "import pandas as pd\n",
    "import requests\n",
    "from bs4 import BeautifulSoup\n",
    "import re\n",
    "import numpy as np\n",
    "import matplotlib.pyplot as plt\n",
    "import seaborn as sns"
   ]
  },
  {
   "cell_type": "code",
   "execution_count": 2,
   "metadata": {},
   "outputs": [],
   "source": [
    "# Creating an empty list to add our data\n",
    "main_list = []\n",
    "\n",
    "# Start\n",
    "start = 1\n",
    "\n",
    "# Count\n",
    "count = 250         # Max value is 250"
   ]
  },
  {
   "cell_type": "code",
   "execution_count": 3,
   "metadata": {},
   "outputs": [],
   "source": [
    "URL_MOVIES = f\"https://www.imdb.com/search/title/?title_type=feature&start={start}&count={count}\"\n",
    "URL_SERIES = f\"https://www.imdb.com/search/title/?title_type=tv_series&start={start}&count={count}\"\n",
    "URL_UPCOMING = \"https://www.imdb.com/calendar/?ref_=rlm&region=CA&type=MOVIE\""
   ]
  },
  {
   "cell_type": "code",
   "execution_count": 4,
   "metadata": {},
   "outputs": [
    {
     "name": "stdout",
     "output_type": "stream",
     "text": [
      "40\n"
     ]
    }
   ],
   "source": [
    "# How many data you need\n",
    "total_data = 10000\n",
    "\n",
    "# Total loops\n",
    "loop = total_data//count           # we see 50 data on 1 page at a time\n",
    "\n",
    "print(loop)"
   ]
  },
  {
   "cell_type": "code",
   "execution_count": 5,
   "metadata": {},
   "outputs": [
    {
     "data": {
      "text/plain": [
       "10000"
      ]
     },
     "execution_count": 5,
     "metadata": {},
     "output_type": "execute_result"
    }
   ],
   "source": [
    "total_data"
   ]
  },
  {
   "cell_type": "code",
   "execution_count": 6,
   "metadata": {},
   "outputs": [
    {
     "name": "stdout",
     "output_type": "stream",
     "text": [
      "0\n",
      "1\n",
      "2\n",
      "3\n",
      "4\n",
      "5\n",
      "6\n",
      "7\n",
      "8\n",
      "9\n",
      "10\n",
      "11\n",
      "12\n",
      "13\n",
      "14\n",
      "15\n",
      "16\n",
      "17\n",
      "18\n",
      "19\n",
      "20\n",
      "21\n",
      "22\n",
      "23\n",
      "24\n",
      "25\n",
      "26\n",
      "27\n",
      "28\n",
      "29\n",
      "30\n",
      "31\n",
      "32\n",
      "33\n",
      "34\n",
      "35\n",
      "36\n",
      "37\n",
      "38\n",
      "39\n"
     ]
    }
   ],
   "source": [
    "for i in range(loop//2):\n",
    "    URL_MOVIES = f\"https://www.imdb.com/search/title/?title_type=feature&start={start+(i*count)}&count={count}\"\n",
    "    source = requests.get(URL_MOVIES).text\n",
    "    soup = BeautifulSoup(source, 'lxml')\n",
    "    article = soup.findAll('div', class_='lister-item-content')\n",
    "    main_list += article\n",
    "    print(i)\n",
    "for i in range(loop//2):\n",
    "    URL_SERIES = f\"https://www.imdb.com/search/title/?title_type=tv_series&start={start+(i*count)}&count={count}\"\n",
    "    source = requests.get(URL_SERIES).text\n",
    "    soup = BeautifulSoup(source, 'lxml')\n",
    "    article = soup.findAll('div', class_='lister-item-content')\n",
    "    main_list += article\n",
    "    print((loop//2)+i)"
   ]
  },
  {
   "attachments": {},
   "cell_type": "markdown",
   "metadata": {},
   "source": [
    "## -----------------"
   ]
  },
  {
   "cell_type": "code",
   "execution_count": 10,
   "metadata": {},
   "outputs": [
    {
     "name": "stdout",
     "output_type": "stream",
     "text": [
      "The Whale\n"
     ]
    }
   ],
   "source": [
    "# print(main_list[2500].h3.a.text)\n",
    "print(main_list[4].h3.a.text)"
   ]
  },
  {
   "cell_type": "code",
   "execution_count": 11,
   "metadata": {},
   "outputs": [
    {
     "name": "stdout",
     "output_type": "stream",
     "text": [
      "143,979\n",
      "89,630\n"
     ]
    }
   ],
   "source": [
    "# print(main_list[2500].findAll('p')[3].span.text == 'Votes:')\n",
    "print(main_list[2500].findAll('p')[3].findAll('span')[1].text)\n",
    "print(main_list[4].findAll('p')[3].findAll('span')[1].text)"
   ]
  },
  {
   "attachments": {},
   "cell_type": "markdown",
   "metadata": {},
   "source": [
    "All movies have director + stars, whereas series only have stars info"
   ]
  },
  {
   "cell_type": "code",
   "execution_count": 12,
   "metadata": {},
   "outputs": [
    {
     "data": {
      "text/plain": [
       "'(2023)'"
      ]
     },
     "execution_count": 12,
     "metadata": {},
     "output_type": "execute_result"
    }
   ],
   "source": [
    "# print(main_list[4])\n",
    "# print(main_list[4].findAll('p')[3])\n",
    "\n",
    "\n",
    "# temp = ''\n",
    "# for i in main_list[4].findAll('p')[2].findAll('a')[1:]:\n",
    "#     temp += i.text + \", \"\n",
    "\n",
    "# print(temp[:-2])\n",
    "main_list[0].h3.find('span', class_= 'lister-item-year text-muted unbold').text\n",
    "\n",
    "# print(main_list[4].findAll('p')[2].findAll('a')[1:])                                            # For cast\n",
    "# print(main_list[4].findAll('p')[2].findAll())\n",
    "# print(main_list[4].div.div.strong.text)                                                         # Rating\n",
    "# print(main_list[4].findAll('p')[0].findAll('span'))                                \n",
    "# print(main_list[4].findAll('p')[0].find('span', class_='genre').text)                           # Genre                          \n",
    "# print(main_list[4].findAll('p')[0].find('span', class_='runtime').text)                         # Runtime                          \n",
    "# print(main_list[1].findAll('p')[0].find('span', class_= 'certificate').text)                    # Certificate\n",
    "# print((main_list[4].findAll('p')[1].text))                                                      # Summary of the move/series\n",
    "# print((main_list[4].findAll('p')[2]))\n",
    "# print((main_list[4].findAll('p')[3]))\n",
    "# print(main_list[4].h3.a.text)                                                                   # Name of the movie/series\n",
    "# print(main_list[4].h3.span.text)                                                                # Ranking in the popularity list\n",
    "# print(main_list[4].h3.find('span', class_= 'lister-item-year text-muted unbold').text)          # Year\n",
    "# print(main_list[4].findAll('p', class_= 'text-muted'))"
   ]
  },
  {
   "attachments": {},
   "cell_type": "markdown",
   "metadata": {},
   "source": [
    "## -----------------"
   ]
  },
  {
   "attachments": {},
   "cell_type": "markdown",
   "metadata": {},
   "source": [
    "## Raw data collected"
   ]
  },
  {
   "cell_type": "code",
   "execution_count": 13,
   "metadata": {},
   "outputs": [],
   "source": [
    "# Making list for the information to be extracted\n",
    "popularity_ranking = []\n",
    "name = []\n",
    "rating = []\n",
    "summary = []\n",
    "votes = []\n",
    "cast = []\n",
    "certificate = []\n",
    "runtime = []\n",
    "genre = []\n",
    "year = []\n",
    "director = []\n",
    "gross = []\n",
    "type_of_content = []"
   ]
  },
  {
   "cell_type": "code",
   "execution_count": 14,
   "metadata": {},
   "outputs": [],
   "source": [
    "for i in range(len(main_list)):\n",
    "    temp = ''\n",
    "    try:\n",
    "        popularity_ranking.append(main_list[i].h3.span.text)\n",
    "        name.append(main_list[i].h3.a.text)\n",
    "        certificate.append(main_list[i].findAll('p')[0].find('span', class_= 'certificate').text)\n",
    "        genre.append(main_list[i].findAll('p')[0].find('span', class_='genre').text)\n",
    "        rating.append(main_list[i].div.div.strong.text)\n",
    "        year.append(main_list[i].h3.find('span', class_= 'lister-item-year text-muted unbold').text)\n",
    "        runtime.append(main_list[i].findAll('p')[0].find('span', class_='runtime').text)\n",
    "        summary.append(main_list[i].findAll('p')[1].text)\n",
    "        votes.append(main_list[i].findAll('p')[3].findAll('span')[1].text)\n",
    "        gross.append(main_list[i].findAll('p')[3].findAll('span')[4].text)\n",
    "\n",
    "        if i < (total_data//2):                        # It's a movie\n",
    "            type_of_content.append('Movie')\n",
    "            director.append(main_list[i].findAll('p')[2].findAll('a')[0].text)\n",
    "            for casting in main_list[i].findAll('p')[2].findAll('a')[1:]:\n",
    "                temp += casting.text + \", \"\n",
    "            cast.append(temp[:2])\n",
    "        else:\n",
    "            type_of_content.append('Series')\n",
    "            director.append('')\n",
    "            for casting in main_list[i].findAll('p')[2].findAll('a'):\n",
    "                temp += casting.text + \", \"\n",
    "            cast.append(temp[:2])\n",
    "\n",
    "    except:\n",
    "        pass"
   ]
  },
  {
   "cell_type": "code",
   "execution_count": 15,
   "metadata": {},
   "outputs": [
    {
     "name": "stdout",
     "output_type": "stream",
     "text": [
      "Popularity ranking:  10000\n",
      "Name:  10000\n",
      "Rating:  6859\n",
      "Summary:  6763\n",
      "Votes:  6763\n",
      "Certificate:  6903\n",
      "Runtime:  6763\n",
      "Genre:  6903\n",
      "Year:  6859\n",
      "Case:  3436\n",
      "Director:  3436\n",
      "Gross:  3436\n",
      "Types of Content:  3436\n"
     ]
    }
   ],
   "source": [
    "print(\"Popularity ranking: \", len(popularity_ranking))\n",
    "print(\"Name: \", len(name))\n",
    "print(\"Rating: \", len(rating))\n",
    "print(\"Summary: \", len(summary))\n",
    "print(\"Votes: \", len(votes))\n",
    "print(\"Certificate: \", len(certificate))\n",
    "print(\"Runtime: \", len(runtime))\n",
    "print(\"Genre: \", len(genre))\n",
    "print(\"Year: \", len(year))\n",
    "print(\"Case: \", len(cast))\n",
    "print(\"Director: \", len(director))\n",
    "print(\"Gross: \", len(gross))\n",
    "print(\"Types of Content: \", len(type_of_content))"
   ]
  },
  {
   "attachments": {},
   "cell_type": "markdown",
   "metadata": {},
   "source": [
    "# After analysing the issue above and, checking our data with the website; we can confirm that those missing values occur because of movies/series that have no yet released so they have missing values or they don't have all the information (STEP 2)"
   ]
  },
  {
   "attachments": {},
   "cell_type": "markdown",
   "metadata": {},
   "source": [
    "## All of the tags below has no missing values so we can extract the data easily "
   ]
  },
  {
   "cell_type": "code",
   "execution_count": 16,
   "metadata": {},
   "outputs": [],
   "source": [
    "# Making list for the information to be extracted\n",
    "popularity_ranking = []\n",
    "name = []\n",
    "rating = []\n",
    "summary = []\n",
    "votes = []\n",
    "cast = []\n",
    "certificate = []\n",
    "runtime = []\n",
    "genre = []\n",
    "year = []\n",
    "director = []\n",
    "gross = []\n",
    "type_of_content = []"
   ]
  },
  {
   "cell_type": "code",
   "execution_count": 17,
   "metadata": {},
   "outputs": [],
   "source": [
    "for i in range(len(main_list)):\n",
    "    popularity_ranking.append(main_list[i].h3.span.text)\n",
    "    name.append(main_list[i].h3.a.text)\n",
    "    year.append(main_list[i].h3.find('span', class_= 'lister-item-year text-muted unbold').text)\n",
    "    summary.append(main_list[i].findAll('p')[1].text)\n",
    "    temp = ''\n",
    "    if i < total_data//2:                                        # It's a movie\n",
    "        type_of_content.append('Movie')\n",
    "        director.append(main_list[i].findAll('p')[2].findAll('a')[0].text)\n",
    "        for casting in main_list[i].findAll('p')[2].findAll('a')[1:]:\n",
    "            temp += casting.text + \", \"\n",
    "        cast.append(temp[:-2])\n",
    "    else:\n",
    "        type_of_content.append('Series')\n",
    "        director.append('')\n",
    "        for casting in main_list[i].findAll('p')[2].findAll('a'):\n",
    "            temp += casting.text + \", \"\n",
    "        cast.append(temp[:-2])"
   ]
  },
  {
   "attachments": {},
   "cell_type": "markdown",
   "metadata": {},
   "source": [
    "### Tags below has missing values which will throw error; so we are filling those values with '' so we have exact same data size"
   ]
  },
  {
   "cell_type": "code",
   "execution_count": 18,
   "metadata": {},
   "outputs": [],
   "source": [
    "for i in range(len(main_list)):\n",
    "    try:\n",
    "        certificate.append(main_list[i].findAll('p')[0].find('span', class_= 'certificate').text)\n",
    "    except AttributeError:\n",
    "        certificate.append(np.NaN)"
   ]
  },
  {
   "cell_type": "code",
   "execution_count": 19,
   "metadata": {},
   "outputs": [],
   "source": [
    "for i in range(len(main_list)):\n",
    "    try:\n",
    "        rating.append(main_list[i].div.div.strong.text)\n",
    "    except AttributeError:\n",
    "        rating.append(np.NaN)"
   ]
  },
  {
   "cell_type": "code",
   "execution_count": 20,
   "metadata": {},
   "outputs": [],
   "source": [
    "for i in range(len(main_list)):\n",
    "    try:\n",
    "        runtime.append(main_list[i].findAll('p')[0].find('span', class_='runtime').text)\n",
    "    except AttributeError:\n",
    "        runtime.append('Upcoming')"
   ]
  },
  {
   "cell_type": "code",
   "execution_count": 21,
   "metadata": {},
   "outputs": [],
   "source": [
    "for i in range(len(main_list)):\n",
    "    try:\n",
    "        votes.append(main_list[i].findAll('p')[3].findAll('span')[1].text)\n",
    "    except IndexError:\n",
    "        votes.append('Upcoming')"
   ]
  },
  {
   "cell_type": "code",
   "execution_count": 22,
   "metadata": {},
   "outputs": [],
   "source": [
    "for i in range(len(main_list)):\n",
    "    try:\n",
    "        genre.append(main_list[i].findAll('p')[0].find('span', class_='genre').text)\n",
    "    except AttributeError:\n",
    "        genre.append(np.NaN)"
   ]
  },
  {
   "cell_type": "code",
   "execution_count": 23,
   "metadata": {},
   "outputs": [],
   "source": [
    "for i in range(len(main_list)):\n",
    "    try:\n",
    "        gross.append(main_list[i].findAll('p')[3].findAll('span')[4].text)\n",
    "    except IndexError:\n",
    "        gross.append(np.NaN)"
   ]
  },
  {
   "attachments": {},
   "cell_type": "markdown",
   "metadata": {},
   "source": [
    "### Values"
   ]
  },
  {
   "cell_type": "code",
   "execution_count": 24,
   "metadata": {},
   "outputs": [
    {
     "name": "stdout",
     "output_type": "stream",
     "text": [
      "Popularity ranking:  10000\n",
      "Name:  10000\n",
      "Rating:  10000\n",
      "Summary:  10000\n",
      "Votes:  10000\n",
      "Certificate:  10000\n",
      "Runtime:  10000\n",
      "Genre:  10000\n",
      "Year:  10000\n",
      "Case:  10000\n",
      "Director:  10000\n",
      "Gross:  10000\n",
      "Types of Content:  10000\n"
     ]
    }
   ],
   "source": [
    "print(\"Popularity ranking: \", len(popularity_ranking))\n",
    "print(\"Name: \", len(name))\n",
    "print(\"Rating: \", len(rating))\n",
    "print(\"Summary: \", len(summary))\n",
    "print(\"Votes: \", len(votes))\n",
    "print(\"Certificate: \", len(certificate))\n",
    "print(\"Runtime: \", len(runtime))\n",
    "print(\"Genre: \", len(genre))\n",
    "print(\"Year: \", len(year))\n",
    "print(\"Case: \", len(cast))\n",
    "print(\"Director: \", len(director))\n",
    "print(\"Gross: \", len(gross))\n",
    "print(\"Types of Content: \", len(type_of_content))"
   ]
  },
  {
   "attachments": {},
   "cell_type": "markdown",
   "metadata": {},
   "source": [
    "## Creating Database"
   ]
  },
  {
   "cell_type": "code",
   "execution_count": 25,
   "metadata": {},
   "outputs": [],
   "source": [
    "dictonary = {\"Popularity Ranking\" : popularity_ranking,\n",
    "             \"Name\" : name,\n",
    "             \"Year\" : year,\n",
    "             \"Certificate\" : certificate,\n",
    "             \"Runtime\" : runtime,\n",
    "             \"Genre\" : genre,\n",
    "             \"Rating\" : rating,\n",
    "             \"Summary\" : summary, \n",
    "             \"Director\" : director,\n",
    "             \"Stars\" : cast,\n",
    "             \"Votes\" : votes,\n",
    "             \"Gross\" : gross,\n",
    "             \"Type of Content\" : type_of_content}\n",
    "db = pd.DataFrame(dictonary, columns= dictonary.keys())"
   ]
  },
  {
   "cell_type": "code",
   "execution_count": 26,
   "metadata": {},
   "outputs": [
    {
     "data": {
      "text/html": [
       "<div>\n",
       "<style scoped>\n",
       "    .dataframe tbody tr th:only-of-type {\n",
       "        vertical-align: middle;\n",
       "    }\n",
       "\n",
       "    .dataframe tbody tr th {\n",
       "        vertical-align: top;\n",
       "    }\n",
       "\n",
       "    .dataframe thead th {\n",
       "        text-align: right;\n",
       "    }\n",
       "</style>\n",
       "<table border=\"1\" class=\"dataframe\">\n",
       "  <thead>\n",
       "    <tr style=\"text-align: right;\">\n",
       "      <th></th>\n",
       "      <th>Popularity Ranking</th>\n",
       "      <th>Name</th>\n",
       "      <th>Year</th>\n",
       "      <th>Certificate</th>\n",
       "      <th>Runtime</th>\n",
       "      <th>Genre</th>\n",
       "      <th>Rating</th>\n",
       "      <th>Summary</th>\n",
       "      <th>Director</th>\n",
       "      <th>Stars</th>\n",
       "      <th>Votes</th>\n",
       "      <th>Gross</th>\n",
       "      <th>Type of Content</th>\n",
       "    </tr>\n",
       "  </thead>\n",
       "  <tbody>\n",
       "    <tr>\n",
       "      <th>9990</th>\n",
       "      <td>4,991.</td>\n",
       "      <td>Hoops</td>\n",
       "      <td>(2020)</td>\n",
       "      <td>TV-MA</td>\n",
       "      <td>25 min</td>\n",
       "      <td>\\nAnimation, Comedy, Sport</td>\n",
       "      <td>6.0</td>\n",
       "      <td>\\nCenters on a hot-headed, foul-mouthed high s...</td>\n",
       "      <td></td>\n",
       "      <td>Jake Johnson, Ron Funches, Cleo King, Natasha ...</td>\n",
       "      <td>6,712</td>\n",
       "      <td>NaN</td>\n",
       "      <td>Series</td>\n",
       "    </tr>\n",
       "    <tr>\n",
       "      <th>9991</th>\n",
       "      <td>4,992.</td>\n",
       "      <td>Mai</td>\n",
       "      <td>(2022– )</td>\n",
       "      <td>NaN</td>\n",
       "      <td>45 min</td>\n",
       "      <td>\\nCrime, Drama, Thriller</td>\n",
       "      <td>7.1</td>\n",
       "      <td>\\nA grieving mother discovers the criminals be...</td>\n",
       "      <td></td>\n",
       "      <td>Sakshi Tanwar, Vivek Mushran, Wamiqa Gabbi, Ra...</td>\n",
       "      <td>5,334</td>\n",
       "      <td>NaN</td>\n",
       "      <td>Series</td>\n",
       "    </tr>\n",
       "    <tr>\n",
       "      <th>9992</th>\n",
       "      <td>4,993.</td>\n",
       "      <td>The Millionaire</td>\n",
       "      <td>(1955–1960)</td>\n",
       "      <td>NaN</td>\n",
       "      <td>30 min</td>\n",
       "      <td>\\nDrama</td>\n",
       "      <td>7.8</td>\n",
       "      <td>\\nIn this hit 1950s TV series, a millionaire i...</td>\n",
       "      <td></td>\n",
       "      <td>Marvin Miller, Paul Frees, Roy Gordon, Russ Co...</td>\n",
       "      <td>564</td>\n",
       "      <td>NaN</td>\n",
       "      <td>Series</td>\n",
       "    </tr>\n",
       "    <tr>\n",
       "      <th>9993</th>\n",
       "      <td>4,994.</td>\n",
       "      <td>The Simple Life</td>\n",
       "      <td>(2003–2007)</td>\n",
       "      <td>NaN</td>\n",
       "      <td>22 min</td>\n",
       "      <td>\\nComedy, Reality-TV</td>\n",
       "      <td>4.0</td>\n",
       "      <td>\\nParis and Nicole accept various internships ...</td>\n",
       "      <td></td>\n",
       "      <td>Paris Hilton, Nicole Richie, James DuMont, Dav...</td>\n",
       "      <td>5,739</td>\n",
       "      <td>NaN</td>\n",
       "      <td>Series</td>\n",
       "    </tr>\n",
       "    <tr>\n",
       "      <th>9994</th>\n",
       "      <td>4,995.</td>\n",
       "      <td>The Garfield Show</td>\n",
       "      <td>(2008–2016)</td>\n",
       "      <td>NaN</td>\n",
       "      <td>25 min</td>\n",
       "      <td>\\nAnimation, Adventure, Comedy</td>\n",
       "      <td>5.4</td>\n",
       "      <td>\\nA lasagne-loving pussycat adventures and exp...</td>\n",
       "      <td></td>\n",
       "      <td>Frank Welker, Wally Wingert, Gregg Berger, Jas...</td>\n",
       "      <td>2,801</td>\n",
       "      <td>NaN</td>\n",
       "      <td>Series</td>\n",
       "    </tr>\n",
       "    <tr>\n",
       "      <th>9995</th>\n",
       "      <td>4,996.</td>\n",
       "      <td>This Time with Alan Partridge</td>\n",
       "      <td>(2019–2021)</td>\n",
       "      <td>NaN</td>\n",
       "      <td>30 min</td>\n",
       "      <td>\\nComedy</td>\n",
       "      <td>8.0</td>\n",
       "      <td>\\nAlan is handed a career lifeline: the chance...</td>\n",
       "      <td></td>\n",
       "      <td>Steve Coogan, Susannah Fielding, Felicity Mont...</td>\n",
       "      <td>4,194</td>\n",
       "      <td>NaN</td>\n",
       "      <td>Series</td>\n",
       "    </tr>\n",
       "    <tr>\n",
       "      <th>9996</th>\n",
       "      <td>4,997.</td>\n",
       "      <td>The Mickey Mouse Club</td>\n",
       "      <td>(1955–1958)</td>\n",
       "      <td>NaN</td>\n",
       "      <td>60 min</td>\n",
       "      <td>\\nComedy, Drama, Family</td>\n",
       "      <td>7.6</td>\n",
       "      <td>\\nMickey Mouse hosts a youth-oriented variety ...</td>\n",
       "      <td></td>\n",
       "      <td>Jimmie Dodd, Darlene Gillespie, Sharon Baird, ...</td>\n",
       "      <td>818</td>\n",
       "      <td>NaN</td>\n",
       "      <td>Series</td>\n",
       "    </tr>\n",
       "    <tr>\n",
       "      <th>9997</th>\n",
       "      <td>4,998.</td>\n",
       "      <td>Witchblade</td>\n",
       "      <td>(2001–2002)</td>\n",
       "      <td>NaN</td>\n",
       "      <td>60 min</td>\n",
       "      <td>\\nAction, Drama, Fantasy</td>\n",
       "      <td>6.4</td>\n",
       "      <td>\\nNYPD Det. Sara Pezzini has a supernatural we...</td>\n",
       "      <td></td>\n",
       "      <td>Yancy Butler, David Chokachi, Anthony Cistaro,...</td>\n",
       "      <td>2,720</td>\n",
       "      <td>NaN</td>\n",
       "      <td>Series</td>\n",
       "    </tr>\n",
       "    <tr>\n",
       "      <th>9998</th>\n",
       "      <td>4,999.</td>\n",
       "      <td>I am Georgina</td>\n",
       "      <td>(2022)</td>\n",
       "      <td>TV-14</td>\n",
       "      <td>41 min</td>\n",
       "      <td>\\nReality-TV</td>\n",
       "      <td>4.0</td>\n",
       "      <td>\\nJoin Georgina Rodríguez - mom, influencer, b...</td>\n",
       "      <td></td>\n",
       "      <td>Georgina Rodríguez, Cristiano Ronaldo</td>\n",
       "      <td>3,322</td>\n",
       "      <td>NaN</td>\n",
       "      <td>Series</td>\n",
       "    </tr>\n",
       "    <tr>\n",
       "      <th>9999</th>\n",
       "      <td>5,000.</td>\n",
       "      <td>Animorphs</td>\n",
       "      <td>(1998–2000)</td>\n",
       "      <td>NaN</td>\n",
       "      <td>30 min</td>\n",
       "      <td>\\nFantasy, Sci-Fi, Thriller</td>\n",
       "      <td>6.5</td>\n",
       "      <td>\\nFive teenagers and an alien with the ability...</td>\n",
       "      <td></td>\n",
       "      <td>Boris Cabrera, Nadia-Leigh Nascimento, Shawn A...</td>\n",
       "      <td>1,401</td>\n",
       "      <td>NaN</td>\n",
       "      <td>Series</td>\n",
       "    </tr>\n",
       "  </tbody>\n",
       "</table>\n",
       "</div>"
      ],
      "text/plain": [
       "     Popularity Ranking                           Name         Year  \\\n",
       "9990             4,991.                          Hoops       (2020)   \n",
       "9991             4,992.                            Mai     (2022– )   \n",
       "9992             4,993.                The Millionaire  (1955–1960)   \n",
       "9993             4,994.                The Simple Life  (2003–2007)   \n",
       "9994             4,995.              The Garfield Show  (2008–2016)   \n",
       "9995             4,996.  This Time with Alan Partridge  (2019–2021)   \n",
       "9996             4,997.          The Mickey Mouse Club  (1955–1958)   \n",
       "9997             4,998.                     Witchblade  (2001–2002)   \n",
       "9998             4,999.                  I am Georgina       (2022)   \n",
       "9999             5,000.                      Animorphs  (1998–2000)   \n",
       "\n",
       "     Certificate Runtime                                       Genre Rating  \\\n",
       "9990       TV-MA  25 min      \\nAnimation, Comedy, Sport                6.0   \n",
       "9991         NaN  45 min        \\nCrime, Drama, Thriller                7.1   \n",
       "9992         NaN  30 min                         \\nDrama                7.8   \n",
       "9993         NaN  22 min            \\nComedy, Reality-TV                4.0   \n",
       "9994         NaN  25 min  \\nAnimation, Adventure, Comedy                5.4   \n",
       "9995         NaN  30 min                        \\nComedy                8.0   \n",
       "9996         NaN  60 min         \\nComedy, Drama, Family                7.6   \n",
       "9997         NaN  60 min        \\nAction, Drama, Fantasy                6.4   \n",
       "9998       TV-14  41 min                    \\nReality-TV                4.0   \n",
       "9999         NaN  30 min     \\nFantasy, Sci-Fi, Thriller                6.5   \n",
       "\n",
       "                                                Summary Director  \\\n",
       "9990  \\nCenters on a hot-headed, foul-mouthed high s...            \n",
       "9991  \\nA grieving mother discovers the criminals be...            \n",
       "9992  \\nIn this hit 1950s TV series, a millionaire i...            \n",
       "9993  \\nParis and Nicole accept various internships ...            \n",
       "9994  \\nA lasagne-loving pussycat adventures and exp...            \n",
       "9995  \\nAlan is handed a career lifeline: the chance...            \n",
       "9996  \\nMickey Mouse hosts a youth-oriented variety ...            \n",
       "9997  \\nNYPD Det. Sara Pezzini has a supernatural we...            \n",
       "9998  \\nJoin Georgina Rodríguez - mom, influencer, b...            \n",
       "9999  \\nFive teenagers and an alien with the ability...            \n",
       "\n",
       "                                                  Stars  Votes Gross  \\\n",
       "9990  Jake Johnson, Ron Funches, Cleo King, Natasha ...  6,712   NaN   \n",
       "9991  Sakshi Tanwar, Vivek Mushran, Wamiqa Gabbi, Ra...  5,334   NaN   \n",
       "9992  Marvin Miller, Paul Frees, Roy Gordon, Russ Co...    564   NaN   \n",
       "9993  Paris Hilton, Nicole Richie, James DuMont, Dav...  5,739   NaN   \n",
       "9994  Frank Welker, Wally Wingert, Gregg Berger, Jas...  2,801   NaN   \n",
       "9995  Steve Coogan, Susannah Fielding, Felicity Mont...  4,194   NaN   \n",
       "9996  Jimmie Dodd, Darlene Gillespie, Sharon Baird, ...    818   NaN   \n",
       "9997  Yancy Butler, David Chokachi, Anthony Cistaro,...  2,720   NaN   \n",
       "9998              Georgina Rodríguez, Cristiano Ronaldo  3,322   NaN   \n",
       "9999  Boris Cabrera, Nadia-Leigh Nascimento, Shawn A...  1,401   NaN   \n",
       "\n",
       "     Type of Content  \n",
       "9990          Series  \n",
       "9991          Series  \n",
       "9992          Series  \n",
       "9993          Series  \n",
       "9994          Series  \n",
       "9995          Series  \n",
       "9996          Series  \n",
       "9997          Series  \n",
       "9998          Series  \n",
       "9999          Series  "
      ]
     },
     "execution_count": 26,
     "metadata": {},
     "output_type": "execute_result"
    }
   ],
   "source": [
    "(db.tail(10))"
   ]
  },
  {
   "cell_type": "code",
   "execution_count": 27,
   "metadata": {},
   "outputs": [
    {
     "data": {
      "text/plain": [
       "Popularity Ranking       0\n",
       "Name                     0\n",
       "Year                     0\n",
       "Certificate           3097\n",
       "Runtime                  0\n",
       "Genre                    6\n",
       "Rating                 355\n",
       "Summary                  0\n",
       "Director                 0\n",
       "Stars                    0\n",
       "Votes                    0\n",
       "Gross                 6497\n",
       "Type of Content          0\n",
       "dtype: int64"
      ]
     },
     "execution_count": 27,
     "metadata": {},
     "output_type": "execute_result"
    }
   ],
   "source": [
    "db.isna().sum()"
   ]
  },
  {
   "attachments": {},
   "cell_type": "markdown",
   "metadata": {},
   "source": [
    "### Cleaning some values"
   ]
  },
  {
   "attachments": {},
   "cell_type": "markdown",
   "metadata": {},
   "source": [
    "Year value: (formating and some values that are filled with wrong data)"
   ]
  },
  {
   "cell_type": "code",
   "execution_count": 28,
   "metadata": {},
   "outputs": [],
   "source": [
    "temp = []\n",
    "for i in year:\n",
    "    if i == \"\":\n",
    "        temp.append(np.NaN)\n",
    "    else:\n",
    "        temp.append(re.findall('\\d+.*', i))"
   ]
  },
  {
   "cell_type": "code",
   "execution_count": 29,
   "metadata": {},
   "outputs": [],
   "source": [
    "temp_2 = []\n",
    "for i in range(len(temp)):\n",
    "    if type(temp[i]) != float and temp[i] != []:\n",
    "        temp_2.append(temp[i][0][:-1])\n",
    "    else:\n",
    "        temp_2.append(np.NaN)"
   ]
  },
  {
   "cell_type": "code",
   "execution_count": 30,
   "metadata": {},
   "outputs": [],
   "source": [
    "db['Year'] = temp_2"
   ]
  },
  {
   "attachments": {},
   "cell_type": "markdown",
   "metadata": {},
   "source": [
    "Genre:"
   ]
  },
  {
   "cell_type": "code",
   "execution_count": 31,
   "metadata": {},
   "outputs": [],
   "source": [
    "temp = genre.copy()\n",
    "temp_2 = []\n",
    "for i in temp:\n",
    "    try:\n",
    "        x = i[1:]\n",
    "        temp_2.append(x.rstrip())\n",
    "    except:\n",
    "        temp_2.append(np.NaN)"
   ]
  },
  {
   "cell_type": "code",
   "execution_count": 32,
   "metadata": {},
   "outputs": [],
   "source": [
    "db['Genre'] = temp_2"
   ]
  },
  {
   "attachments": {},
   "cell_type": "markdown",
   "metadata": {},
   "source": [
    "Summary:"
   ]
  },
  {
   "cell_type": "code",
   "execution_count": 33,
   "metadata": {},
   "outputs": [],
   "source": [
    "temp = summary.copy()\n",
    "temp_2 = []\n",
    "for i in temp:\n",
    "    x = i[1:]\n",
    "    temp_2.append(x)"
   ]
  },
  {
   "cell_type": "code",
   "execution_count": 34,
   "metadata": {},
   "outputs": [],
   "source": [
    "db['Summary'] = temp_2"
   ]
  },
  {
   "attachments": {},
   "cell_type": "markdown",
   "metadata": {},
   "source": [
    "Popularity Ranking:"
   ]
  },
  {
   "cell_type": "code",
   "execution_count": 35,
   "metadata": {},
   "outputs": [],
   "source": [
    "temp = popularity_ranking.copy()\n",
    "temp_2 = []\n",
    "for i in temp:\n",
    "    x = int(re.sub(r'[^\\d]', '', i))\n",
    "    temp_2.append(x)"
   ]
  },
  {
   "cell_type": "code",
   "execution_count": 36,
   "metadata": {},
   "outputs": [],
   "source": [
    "db['Popularity Ranking'] = temp_2"
   ]
  },
  {
   "attachments": {},
   "cell_type": "markdown",
   "metadata": {},
   "source": [
    "### Removing some NaN values"
   ]
  },
  {
   "cell_type": "code",
   "execution_count": 37,
   "metadata": {},
   "outputs": [],
   "source": [
    "db.loc[db[\"Runtime\"] == 'Upcoming', \"Certificate\"] = 'Upcoming'\n",
    "db.dropna(subset= ['Certificate', 'Genre'], inplace= True)"
   ]
  },
  {
   "cell_type": "code",
   "execution_count": 38,
   "metadata": {},
   "outputs": [
    {
     "data": {
      "text/html": [
       "<div>\n",
       "<style scoped>\n",
       "    .dataframe tbody tr th:only-of-type {\n",
       "        vertical-align: middle;\n",
       "    }\n",
       "\n",
       "    .dataframe tbody tr th {\n",
       "        vertical-align: top;\n",
       "    }\n",
       "\n",
       "    .dataframe thead th {\n",
       "        text-align: right;\n",
       "    }\n",
       "</style>\n",
       "<table border=\"1\" class=\"dataframe\">\n",
       "  <thead>\n",
       "    <tr style=\"text-align: right;\">\n",
       "      <th></th>\n",
       "      <th>Popularity Ranking</th>\n",
       "      <th>Name</th>\n",
       "      <th>Year</th>\n",
       "      <th>Certificate</th>\n",
       "      <th>Runtime</th>\n",
       "      <th>Genre</th>\n",
       "      <th>Rating</th>\n",
       "      <th>Summary</th>\n",
       "      <th>Director</th>\n",
       "      <th>Stars</th>\n",
       "      <th>Votes</th>\n",
       "      <th>Gross</th>\n",
       "      <th>Type of Content</th>\n",
       "    </tr>\n",
       "  </thead>\n",
       "  <tbody>\n",
       "    <tr>\n",
       "      <th>0</th>\n",
       "      <td>1</td>\n",
       "      <td>Scream VI</td>\n",
       "      <td>2023</td>\n",
       "      <td>14A</td>\n",
       "      <td>122 min</td>\n",
       "      <td>Horror, Mystery, Thriller</td>\n",
       "      <td>7.3</td>\n",
       "      <td>In the next installment, the survivors of the ...</td>\n",
       "      <td>Matt Bettinelli-Olpin</td>\n",
       "      <td>Tyler Gillett, Courteney Cox, Melissa Barrera,...</td>\n",
       "      <td>20,665</td>\n",
       "      <td>NaN</td>\n",
       "      <td>Movie</td>\n",
       "    </tr>\n",
       "    <tr>\n",
       "      <th>1</th>\n",
       "      <td>2</td>\n",
       "      <td>Creed III</td>\n",
       "      <td>2023</td>\n",
       "      <td>PG</td>\n",
       "      <td>116 min</td>\n",
       "      <td>Drama, Sport</td>\n",
       "      <td>7.3</td>\n",
       "      <td>Adonis has been thriving in both his career an...</td>\n",
       "      <td>Michael B. Jordan</td>\n",
       "      <td>Michael B. Jordan, Tessa Thompson, Jonathan Ma...</td>\n",
       "      <td>21,205</td>\n",
       "      <td>NaN</td>\n",
       "      <td>Movie</td>\n",
       "    </tr>\n",
       "    <tr>\n",
       "      <th>2</th>\n",
       "      <td>3</td>\n",
       "      <td>Everything Everywhere All at Once</td>\n",
       "      <td>2022</td>\n",
       "      <td>14A</td>\n",
       "      <td>139 min</td>\n",
       "      <td>Action, Adventure, Comedy</td>\n",
       "      <td>7.9</td>\n",
       "      <td>A middle-aged Chinese immigrant is swept up in...</td>\n",
       "      <td>Daniel Kwan</td>\n",
       "      <td>Daniel Scheinert, Michelle Yeoh, Stephanie Hsu...</td>\n",
       "      <td>371,173</td>\n",
       "      <td>$72.86M</td>\n",
       "      <td>Movie</td>\n",
       "    </tr>\n",
       "    <tr>\n",
       "      <th>3</th>\n",
       "      <td>4</td>\n",
       "      <td>Cocaine Bear</td>\n",
       "      <td>2023</td>\n",
       "      <td>18A</td>\n",
       "      <td>95 min</td>\n",
       "      <td>Comedy, Thriller</td>\n",
       "      <td>6.3</td>\n",
       "      <td>An oddball group of cops, criminals, tourists ...</td>\n",
       "      <td>Elizabeth Banks</td>\n",
       "      <td>Keri Russell, Alden Ehrenreich, O'Shea Jackson...</td>\n",
       "      <td>22,380</td>\n",
       "      <td>NaN</td>\n",
       "      <td>Movie</td>\n",
       "    </tr>\n",
       "    <tr>\n",
       "      <th>4</th>\n",
       "      <td>5</td>\n",
       "      <td>The Whale</td>\n",
       "      <td>2022</td>\n",
       "      <td>14A</td>\n",
       "      <td>117 min</td>\n",
       "      <td>Drama</td>\n",
       "      <td>7.8</td>\n",
       "      <td>A reclusive, morbidly obese English teacher at...</td>\n",
       "      <td>Darren Aronofsky</td>\n",
       "      <td>Brendan Fraser, Sadie Sink, Ty Simpkins, Hong ...</td>\n",
       "      <td>89,630</td>\n",
       "      <td>NaN</td>\n",
       "      <td>Movie</td>\n",
       "    </tr>\n",
       "    <tr>\n",
       "      <th>5</th>\n",
       "      <td>6</td>\n",
       "      <td>Ghosted</td>\n",
       "      <td>2023</td>\n",
       "      <td>Upcoming</td>\n",
       "      <td>Upcoming</td>\n",
       "      <td>Action, Adventure, Comedy</td>\n",
       "      <td>NaN</td>\n",
       "      <td>Cole falls head over heels for enigmatic Sadie...</td>\n",
       "      <td>Dexter Fletcher</td>\n",
       "      <td>Ana de Armas, Amy Sedaris, Chris Evans, Adrien...</td>\n",
       "      <td>Upcoming</td>\n",
       "      <td>NaN</td>\n",
       "      <td>Movie</td>\n",
       "    </tr>\n",
       "    <tr>\n",
       "      <th>6</th>\n",
       "      <td>7</td>\n",
       "      <td>Teenage Mutant Ninja Turtles: Mutant Mayhem</td>\n",
       "      <td>2023</td>\n",
       "      <td>Upcoming</td>\n",
       "      <td>Upcoming</td>\n",
       "      <td>Animation, Action, Adventure</td>\n",
       "      <td>NaN</td>\n",
       "      <td>The Turtle brothers as they work to earn the l...</td>\n",
       "      <td>Jeff Rowe</td>\n",
       "      <td>Kyler Spears, Rose Byrne, Ayo Edebiri, Seth Ro...</td>\n",
       "      <td>Upcoming</td>\n",
       "      <td>NaN</td>\n",
       "      <td>Movie</td>\n",
       "    </tr>\n",
       "    <tr>\n",
       "      <th>7</th>\n",
       "      <td>8</td>\n",
       "      <td>65</td>\n",
       "      <td>2023</td>\n",
       "      <td>14A</td>\n",
       "      <td>93 min</td>\n",
       "      <td>Action, Adventure, Drama</td>\n",
       "      <td>5.7</td>\n",
       "      <td>An astronaut crash lands on a mysterious plane...</td>\n",
       "      <td>Scott Beck</td>\n",
       "      <td>Bryan Woods, Adam Driver, Ariana Greenblatt, C...</td>\n",
       "      <td>5,960</td>\n",
       "      <td>NaN</td>\n",
       "      <td>Movie</td>\n",
       "    </tr>\n",
       "    <tr>\n",
       "      <th>8</th>\n",
       "      <td>9</td>\n",
       "      <td>Triangle of Sadness</td>\n",
       "      <td>2022</td>\n",
       "      <td>PG</td>\n",
       "      <td>147 min</td>\n",
       "      <td>Comedy, Drama</td>\n",
       "      <td>7.4</td>\n",
       "      <td>A fashion model celebrity couple join an event...</td>\n",
       "      <td>Ruben Östlund</td>\n",
       "      <td>Thobias Thorwid, Harris Dickinson, Charlbi Dea...</td>\n",
       "      <td>105,262</td>\n",
       "      <td>NaN</td>\n",
       "      <td>Movie</td>\n",
       "    </tr>\n",
       "    <tr>\n",
       "      <th>9</th>\n",
       "      <td>10</td>\n",
       "      <td>Ant-Man and the Wasp: Quantumania</td>\n",
       "      <td>2023</td>\n",
       "      <td>PG</td>\n",
       "      <td>124 min</td>\n",
       "      <td>Action, Adventure, Comedy</td>\n",
       "      <td>6.5</td>\n",
       "      <td>Scott Lang and Hope Van Dyne, along with Hank ...</td>\n",
       "      <td>Peyton Reed</td>\n",
       "      <td>Paul Rudd, Evangeline Lilly, Michael Douglas, ...</td>\n",
       "      <td>86,828</td>\n",
       "      <td>NaN</td>\n",
       "      <td>Movie</td>\n",
       "    </tr>\n",
       "  </tbody>\n",
       "</table>\n",
       "</div>"
      ],
      "text/plain": [
       "   Popularity Ranking                                         Name  Year  \\\n",
       "0                   1                                    Scream VI  2023   \n",
       "1                   2                                    Creed III  2023   \n",
       "2                   3            Everything Everywhere All at Once  2022   \n",
       "3                   4                                 Cocaine Bear  2023   \n",
       "4                   5                                    The Whale  2022   \n",
       "5                   6                                      Ghosted  2023   \n",
       "6                   7  Teenage Mutant Ninja Turtles: Mutant Mayhem  2023   \n",
       "7                   8                                           65  2023   \n",
       "8                   9                          Triangle of Sadness  2022   \n",
       "9                  10            Ant-Man and the Wasp: Quantumania  2023   \n",
       "\n",
       "  Certificate   Runtime                         Genre Rating  \\\n",
       "0         14A   122 min     Horror, Mystery, Thriller    7.3   \n",
       "1          PG   116 min                  Drama, Sport    7.3   \n",
       "2         14A   139 min     Action, Adventure, Comedy    7.9   \n",
       "3         18A    95 min              Comedy, Thriller    6.3   \n",
       "4         14A   117 min                         Drama    7.8   \n",
       "5    Upcoming  Upcoming     Action, Adventure, Comedy    NaN   \n",
       "6    Upcoming  Upcoming  Animation, Action, Adventure    NaN   \n",
       "7         14A    93 min      Action, Adventure, Drama    5.7   \n",
       "8          PG   147 min                 Comedy, Drama    7.4   \n",
       "9          PG   124 min     Action, Adventure, Comedy    6.5   \n",
       "\n",
       "                                             Summary               Director  \\\n",
       "0  In the next installment, the survivors of the ...  Matt Bettinelli-Olpin   \n",
       "1  Adonis has been thriving in both his career an...      Michael B. Jordan   \n",
       "2  A middle-aged Chinese immigrant is swept up in...            Daniel Kwan   \n",
       "3  An oddball group of cops, criminals, tourists ...        Elizabeth Banks   \n",
       "4  A reclusive, morbidly obese English teacher at...       Darren Aronofsky   \n",
       "5  Cole falls head over heels for enigmatic Sadie...        Dexter Fletcher   \n",
       "6  The Turtle brothers as they work to earn the l...              Jeff Rowe   \n",
       "7  An astronaut crash lands on a mysterious plane...             Scott Beck   \n",
       "8  A fashion model celebrity couple join an event...          Ruben Östlund   \n",
       "9  Scott Lang and Hope Van Dyne, along with Hank ...            Peyton Reed   \n",
       "\n",
       "                                               Stars     Votes    Gross  \\\n",
       "0  Tyler Gillett, Courteney Cox, Melissa Barrera,...    20,665      NaN   \n",
       "1  Michael B. Jordan, Tessa Thompson, Jonathan Ma...    21,205      NaN   \n",
       "2  Daniel Scheinert, Michelle Yeoh, Stephanie Hsu...   371,173  $72.86M   \n",
       "3  Keri Russell, Alden Ehrenreich, O'Shea Jackson...    22,380      NaN   \n",
       "4  Brendan Fraser, Sadie Sink, Ty Simpkins, Hong ...    89,630      NaN   \n",
       "5  Ana de Armas, Amy Sedaris, Chris Evans, Adrien...  Upcoming      NaN   \n",
       "6  Kyler Spears, Rose Byrne, Ayo Edebiri, Seth Ro...  Upcoming      NaN   \n",
       "7  Bryan Woods, Adam Driver, Ariana Greenblatt, C...     5,960      NaN   \n",
       "8  Thobias Thorwid, Harris Dickinson, Charlbi Dea...   105,262      NaN   \n",
       "9  Paul Rudd, Evangeline Lilly, Michael Douglas, ...    86,828      NaN   \n",
       "\n",
       "  Type of Content  \n",
       "0           Movie  \n",
       "1           Movie  \n",
       "2           Movie  \n",
       "3           Movie  \n",
       "4           Movie  \n",
       "5           Movie  \n",
       "6           Movie  \n",
       "7           Movie  \n",
       "8           Movie  \n",
       "9           Movie  "
      ]
     },
     "execution_count": 38,
     "metadata": {},
     "output_type": "execute_result"
    }
   ],
   "source": [
    "db.head(10)"
   ]
  },
  {
   "cell_type": "code",
   "execution_count": 39,
   "metadata": {},
   "outputs": [
    {
     "name": "stdout",
     "output_type": "stream",
     "text": [
      "(7303, 13)\n"
     ]
    }
   ],
   "source": [
    "db.loc[db[\"Runtime\"] == 'Upcoming', \"Rating\"] = 'Upcoming'\n",
    "db.dropna(subset= ['Rating', 'Year'], inplace= True)\n",
    "print(db.shape)"
   ]
  },
  {
   "cell_type": "code",
   "execution_count": 40,
   "metadata": {},
   "outputs": [
    {
     "name": "stdout",
     "output_type": "stream",
     "text": [
      "<class 'pandas.core.frame.DataFrame'>\n",
      "Int64Index: 7303 entries, 0 to 9998\n",
      "Data columns (total 13 columns):\n",
      " #   Column              Non-Null Count  Dtype \n",
      "---  ------              --------------  ----- \n",
      " 0   Popularity Ranking  7303 non-null   int64 \n",
      " 1   Name                7303 non-null   object\n",
      " 2   Year                7303 non-null   object\n",
      " 3   Certificate         7303 non-null   object\n",
      " 4   Runtime             7303 non-null   object\n",
      " 5   Genre               7303 non-null   object\n",
      " 6   Rating              7303 non-null   object\n",
      " 7   Summary             7303 non-null   object\n",
      " 8   Director            7303 non-null   object\n",
      " 9   Stars               7303 non-null   object\n",
      " 10  Votes               7303 non-null   object\n",
      " 11  Gross               3436 non-null   object\n",
      " 12  Type of Content     7303 non-null   object\n",
      "dtypes: int64(1), object(12)\n",
      "memory usage: 798.8+ KB\n"
     ]
    }
   ],
   "source": [
    "db.info()"
   ]
  },
  {
   "attachments": {},
   "cell_type": "markdown",
   "metadata": {},
   "source": [
    "### We aren't imputing/changing 'Gross' column since it has large value and mostly consist of Movies series"
   ]
  },
  {
   "cell_type": "code",
   "execution_count": 41,
   "metadata": {},
   "outputs": [
    {
     "data": {
      "text/html": [
       "<div>\n",
       "<style scoped>\n",
       "    .dataframe tbody tr th:only-of-type {\n",
       "        vertical-align: middle;\n",
       "    }\n",
       "\n",
       "    .dataframe tbody tr th {\n",
       "        vertical-align: top;\n",
       "    }\n",
       "\n",
       "    .dataframe thead th {\n",
       "        text-align: right;\n",
       "    }\n",
       "</style>\n",
       "<table border=\"1\" class=\"dataframe\">\n",
       "  <thead>\n",
       "    <tr style=\"text-align: right;\">\n",
       "      <th></th>\n",
       "      <th>Popularity Ranking</th>\n",
       "      <th>Name</th>\n",
       "      <th>Year</th>\n",
       "      <th>Certificate</th>\n",
       "      <th>Runtime</th>\n",
       "      <th>Genre</th>\n",
       "      <th>Rating</th>\n",
       "      <th>Summary</th>\n",
       "      <th>Director</th>\n",
       "      <th>Stars</th>\n",
       "      <th>Votes</th>\n",
       "      <th>Gross</th>\n",
       "      <th>Type of Content</th>\n",
       "    </tr>\n",
       "  </thead>\n",
       "  <tbody>\n",
       "    <tr>\n",
       "      <th>0</th>\n",
       "      <td>1</td>\n",
       "      <td>Scream VI</td>\n",
       "      <td>2023</td>\n",
       "      <td>14A</td>\n",
       "      <td>122 min</td>\n",
       "      <td>Horror, Mystery, Thriller</td>\n",
       "      <td>7.3</td>\n",
       "      <td>In the next installment, the survivors of the ...</td>\n",
       "      <td>Matt Bettinelli-Olpin</td>\n",
       "      <td>Tyler Gillett, Courteney Cox, Melissa Barrera,...</td>\n",
       "      <td>20,665</td>\n",
       "      <td>NaN</td>\n",
       "      <td>Movie</td>\n",
       "    </tr>\n",
       "    <tr>\n",
       "      <th>1</th>\n",
       "      <td>2</td>\n",
       "      <td>Creed III</td>\n",
       "      <td>2023</td>\n",
       "      <td>PG</td>\n",
       "      <td>116 min</td>\n",
       "      <td>Drama, Sport</td>\n",
       "      <td>7.3</td>\n",
       "      <td>Adonis has been thriving in both his career an...</td>\n",
       "      <td>Michael B. Jordan</td>\n",
       "      <td>Michael B. Jordan, Tessa Thompson, Jonathan Ma...</td>\n",
       "      <td>21,205</td>\n",
       "      <td>NaN</td>\n",
       "      <td>Movie</td>\n",
       "    </tr>\n",
       "    <tr>\n",
       "      <th>2</th>\n",
       "      <td>3</td>\n",
       "      <td>Everything Everywhere All at Once</td>\n",
       "      <td>2022</td>\n",
       "      <td>14A</td>\n",
       "      <td>139 min</td>\n",
       "      <td>Action, Adventure, Comedy</td>\n",
       "      <td>7.9</td>\n",
       "      <td>A middle-aged Chinese immigrant is swept up in...</td>\n",
       "      <td>Daniel Kwan</td>\n",
       "      <td>Daniel Scheinert, Michelle Yeoh, Stephanie Hsu...</td>\n",
       "      <td>371,173</td>\n",
       "      <td>$72.86M</td>\n",
       "      <td>Movie</td>\n",
       "    </tr>\n",
       "    <tr>\n",
       "      <th>3</th>\n",
       "      <td>4</td>\n",
       "      <td>Cocaine Bear</td>\n",
       "      <td>2023</td>\n",
       "      <td>18A</td>\n",
       "      <td>95 min</td>\n",
       "      <td>Comedy, Thriller</td>\n",
       "      <td>6.3</td>\n",
       "      <td>An oddball group of cops, criminals, tourists ...</td>\n",
       "      <td>Elizabeth Banks</td>\n",
       "      <td>Keri Russell, Alden Ehrenreich, O'Shea Jackson...</td>\n",
       "      <td>22,380</td>\n",
       "      <td>NaN</td>\n",
       "      <td>Movie</td>\n",
       "    </tr>\n",
       "    <tr>\n",
       "      <th>4</th>\n",
       "      <td>5</td>\n",
       "      <td>The Whale</td>\n",
       "      <td>2022</td>\n",
       "      <td>14A</td>\n",
       "      <td>117 min</td>\n",
       "      <td>Drama</td>\n",
       "      <td>7.8</td>\n",
       "      <td>A reclusive, morbidly obese English teacher at...</td>\n",
       "      <td>Darren Aronofsky</td>\n",
       "      <td>Brendan Fraser, Sadie Sink, Ty Simpkins, Hong ...</td>\n",
       "      <td>89,630</td>\n",
       "      <td>NaN</td>\n",
       "      <td>Movie</td>\n",
       "    </tr>\n",
       "    <tr>\n",
       "      <th>5</th>\n",
       "      <td>6</td>\n",
       "      <td>Ghosted</td>\n",
       "      <td>2023</td>\n",
       "      <td>Upcoming</td>\n",
       "      <td>Upcoming</td>\n",
       "      <td>Action, Adventure, Comedy</td>\n",
       "      <td>Upcoming</td>\n",
       "      <td>Cole falls head over heels for enigmatic Sadie...</td>\n",
       "      <td>Dexter Fletcher</td>\n",
       "      <td>Ana de Armas, Amy Sedaris, Chris Evans, Adrien...</td>\n",
       "      <td>Upcoming</td>\n",
       "      <td>NaN</td>\n",
       "      <td>Movie</td>\n",
       "    </tr>\n",
       "    <tr>\n",
       "      <th>6</th>\n",
       "      <td>7</td>\n",
       "      <td>Teenage Mutant Ninja Turtles: Mutant Mayhem</td>\n",
       "      <td>2023</td>\n",
       "      <td>Upcoming</td>\n",
       "      <td>Upcoming</td>\n",
       "      <td>Animation, Action, Adventure</td>\n",
       "      <td>Upcoming</td>\n",
       "      <td>The Turtle brothers as they work to earn the l...</td>\n",
       "      <td>Jeff Rowe</td>\n",
       "      <td>Kyler Spears, Rose Byrne, Ayo Edebiri, Seth Ro...</td>\n",
       "      <td>Upcoming</td>\n",
       "      <td>NaN</td>\n",
       "      <td>Movie</td>\n",
       "    </tr>\n",
       "    <tr>\n",
       "      <th>7</th>\n",
       "      <td>8</td>\n",
       "      <td>65</td>\n",
       "      <td>2023</td>\n",
       "      <td>14A</td>\n",
       "      <td>93 min</td>\n",
       "      <td>Action, Adventure, Drama</td>\n",
       "      <td>5.7</td>\n",
       "      <td>An astronaut crash lands on a mysterious plane...</td>\n",
       "      <td>Scott Beck</td>\n",
       "      <td>Bryan Woods, Adam Driver, Ariana Greenblatt, C...</td>\n",
       "      <td>5,960</td>\n",
       "      <td>NaN</td>\n",
       "      <td>Movie</td>\n",
       "    </tr>\n",
       "    <tr>\n",
       "      <th>8</th>\n",
       "      <td>9</td>\n",
       "      <td>Triangle of Sadness</td>\n",
       "      <td>2022</td>\n",
       "      <td>PG</td>\n",
       "      <td>147 min</td>\n",
       "      <td>Comedy, Drama</td>\n",
       "      <td>7.4</td>\n",
       "      <td>A fashion model celebrity couple join an event...</td>\n",
       "      <td>Ruben Östlund</td>\n",
       "      <td>Thobias Thorwid, Harris Dickinson, Charlbi Dea...</td>\n",
       "      <td>105,262</td>\n",
       "      <td>NaN</td>\n",
       "      <td>Movie</td>\n",
       "    </tr>\n",
       "    <tr>\n",
       "      <th>9</th>\n",
       "      <td>10</td>\n",
       "      <td>Ant-Man and the Wasp: Quantumania</td>\n",
       "      <td>2023</td>\n",
       "      <td>PG</td>\n",
       "      <td>124 min</td>\n",
       "      <td>Action, Adventure, Comedy</td>\n",
       "      <td>6.5</td>\n",
       "      <td>Scott Lang and Hope Van Dyne, along with Hank ...</td>\n",
       "      <td>Peyton Reed</td>\n",
       "      <td>Paul Rudd, Evangeline Lilly, Michael Douglas, ...</td>\n",
       "      <td>86,828</td>\n",
       "      <td>NaN</td>\n",
       "      <td>Movie</td>\n",
       "    </tr>\n",
       "  </tbody>\n",
       "</table>\n",
       "</div>"
      ],
      "text/plain": [
       "   Popularity Ranking                                         Name  Year  \\\n",
       "0                   1                                    Scream VI  2023   \n",
       "1                   2                                    Creed III  2023   \n",
       "2                   3            Everything Everywhere All at Once  2022   \n",
       "3                   4                                 Cocaine Bear  2023   \n",
       "4                   5                                    The Whale  2022   \n",
       "5                   6                                      Ghosted  2023   \n",
       "6                   7  Teenage Mutant Ninja Turtles: Mutant Mayhem  2023   \n",
       "7                   8                                           65  2023   \n",
       "8                   9                          Triangle of Sadness  2022   \n",
       "9                  10            Ant-Man and the Wasp: Quantumania  2023   \n",
       "\n",
       "  Certificate   Runtime                         Genre    Rating  \\\n",
       "0         14A   122 min     Horror, Mystery, Thriller       7.3   \n",
       "1          PG   116 min                  Drama, Sport       7.3   \n",
       "2         14A   139 min     Action, Adventure, Comedy       7.9   \n",
       "3         18A    95 min              Comedy, Thriller       6.3   \n",
       "4         14A   117 min                         Drama       7.8   \n",
       "5    Upcoming  Upcoming     Action, Adventure, Comedy  Upcoming   \n",
       "6    Upcoming  Upcoming  Animation, Action, Adventure  Upcoming   \n",
       "7         14A    93 min      Action, Adventure, Drama       5.7   \n",
       "8          PG   147 min                 Comedy, Drama       7.4   \n",
       "9          PG   124 min     Action, Adventure, Comedy       6.5   \n",
       "\n",
       "                                             Summary               Director  \\\n",
       "0  In the next installment, the survivors of the ...  Matt Bettinelli-Olpin   \n",
       "1  Adonis has been thriving in both his career an...      Michael B. Jordan   \n",
       "2  A middle-aged Chinese immigrant is swept up in...            Daniel Kwan   \n",
       "3  An oddball group of cops, criminals, tourists ...        Elizabeth Banks   \n",
       "4  A reclusive, morbidly obese English teacher at...       Darren Aronofsky   \n",
       "5  Cole falls head over heels for enigmatic Sadie...        Dexter Fletcher   \n",
       "6  The Turtle brothers as they work to earn the l...              Jeff Rowe   \n",
       "7  An astronaut crash lands on a mysterious plane...             Scott Beck   \n",
       "8  A fashion model celebrity couple join an event...          Ruben Östlund   \n",
       "9  Scott Lang and Hope Van Dyne, along with Hank ...            Peyton Reed   \n",
       "\n",
       "                                               Stars     Votes    Gross  \\\n",
       "0  Tyler Gillett, Courteney Cox, Melissa Barrera,...    20,665      NaN   \n",
       "1  Michael B. Jordan, Tessa Thompson, Jonathan Ma...    21,205      NaN   \n",
       "2  Daniel Scheinert, Michelle Yeoh, Stephanie Hsu...   371,173  $72.86M   \n",
       "3  Keri Russell, Alden Ehrenreich, O'Shea Jackson...    22,380      NaN   \n",
       "4  Brendan Fraser, Sadie Sink, Ty Simpkins, Hong ...    89,630      NaN   \n",
       "5  Ana de Armas, Amy Sedaris, Chris Evans, Adrien...  Upcoming      NaN   \n",
       "6  Kyler Spears, Rose Byrne, Ayo Edebiri, Seth Ro...  Upcoming      NaN   \n",
       "7  Bryan Woods, Adam Driver, Ariana Greenblatt, C...     5,960      NaN   \n",
       "8  Thobias Thorwid, Harris Dickinson, Charlbi Dea...   105,262      NaN   \n",
       "9  Paul Rudd, Evangeline Lilly, Michael Douglas, ...    86,828      NaN   \n",
       "\n",
       "  Type of Content  \n",
       "0           Movie  \n",
       "1           Movie  \n",
       "2           Movie  \n",
       "3           Movie  \n",
       "4           Movie  \n",
       "5           Movie  \n",
       "6           Movie  \n",
       "7           Movie  \n",
       "8           Movie  \n",
       "9           Movie  "
      ]
     },
     "execution_count": 41,
     "metadata": {},
     "output_type": "execute_result"
    }
   ],
   "source": [
    "db.head(10)"
   ]
  },
  {
   "attachments": {},
   "cell_type": "markdown",
   "metadata": {},
   "source": [
    "### Now let's update our Year value into 2 different columns, Released and Finished"
   ]
  },
  {
   "cell_type": "code",
   "execution_count": 42,
   "metadata": {},
   "outputs": [
    {
     "data": {
      "text/html": [
       "<div>\n",
       "<style scoped>\n",
       "    .dataframe tbody tr th:only-of-type {\n",
       "        vertical-align: middle;\n",
       "    }\n",
       "\n",
       "    .dataframe tbody tr th {\n",
       "        vertical-align: top;\n",
       "    }\n",
       "\n",
       "    .dataframe thead th {\n",
       "        text-align: right;\n",
       "    }\n",
       "</style>\n",
       "<table border=\"1\" class=\"dataframe\">\n",
       "  <thead>\n",
       "    <tr style=\"text-align: right;\">\n",
       "      <th></th>\n",
       "      <th>Popularity Ranking</th>\n",
       "      <th>Name</th>\n",
       "      <th>Released</th>\n",
       "      <th>Finished</th>\n",
       "      <th>Certificate</th>\n",
       "      <th>Runtime</th>\n",
       "      <th>Genre</th>\n",
       "      <th>Rating</th>\n",
       "      <th>Summary</th>\n",
       "      <th>Director</th>\n",
       "      <th>Stars</th>\n",
       "      <th>Votes</th>\n",
       "      <th>Gross</th>\n",
       "      <th>Type of Content</th>\n",
       "    </tr>\n",
       "  </thead>\n",
       "  <tbody>\n",
       "    <tr>\n",
       "      <th>0</th>\n",
       "      <td>1</td>\n",
       "      <td>Scream VI</td>\n",
       "      <td>2023</td>\n",
       "      <td>2023</td>\n",
       "      <td>14A</td>\n",
       "      <td>122 min</td>\n",
       "      <td>Horror, Mystery, Thriller</td>\n",
       "      <td>7.3</td>\n",
       "      <td>In the next installment, the survivors of the ...</td>\n",
       "      <td>Matt Bettinelli-Olpin</td>\n",
       "      <td>Tyler Gillett, Courteney Cox, Melissa Barrera,...</td>\n",
       "      <td>20,665</td>\n",
       "      <td>NaN</td>\n",
       "      <td>Movie</td>\n",
       "    </tr>\n",
       "    <tr>\n",
       "      <th>1</th>\n",
       "      <td>2</td>\n",
       "      <td>Creed III</td>\n",
       "      <td>2023</td>\n",
       "      <td>2023</td>\n",
       "      <td>PG</td>\n",
       "      <td>116 min</td>\n",
       "      <td>Drama, Sport</td>\n",
       "      <td>7.3</td>\n",
       "      <td>Adonis has been thriving in both his career an...</td>\n",
       "      <td>Michael B. Jordan</td>\n",
       "      <td>Michael B. Jordan, Tessa Thompson, Jonathan Ma...</td>\n",
       "      <td>21,205</td>\n",
       "      <td>NaN</td>\n",
       "      <td>Movie</td>\n",
       "    </tr>\n",
       "    <tr>\n",
       "      <th>2</th>\n",
       "      <td>3</td>\n",
       "      <td>Everything Everywhere All at Once</td>\n",
       "      <td>2022</td>\n",
       "      <td>2022</td>\n",
       "      <td>14A</td>\n",
       "      <td>139 min</td>\n",
       "      <td>Action, Adventure, Comedy</td>\n",
       "      <td>7.9</td>\n",
       "      <td>A middle-aged Chinese immigrant is swept up in...</td>\n",
       "      <td>Daniel Kwan</td>\n",
       "      <td>Daniel Scheinert, Michelle Yeoh, Stephanie Hsu...</td>\n",
       "      <td>371,173</td>\n",
       "      <td>$72.86M</td>\n",
       "      <td>Movie</td>\n",
       "    </tr>\n",
       "    <tr>\n",
       "      <th>3</th>\n",
       "      <td>4</td>\n",
       "      <td>Cocaine Bear</td>\n",
       "      <td>2023</td>\n",
       "      <td>2023</td>\n",
       "      <td>18A</td>\n",
       "      <td>95 min</td>\n",
       "      <td>Comedy, Thriller</td>\n",
       "      <td>6.3</td>\n",
       "      <td>An oddball group of cops, criminals, tourists ...</td>\n",
       "      <td>Elizabeth Banks</td>\n",
       "      <td>Keri Russell, Alden Ehrenreich, O'Shea Jackson...</td>\n",
       "      <td>22,380</td>\n",
       "      <td>NaN</td>\n",
       "      <td>Movie</td>\n",
       "    </tr>\n",
       "    <tr>\n",
       "      <th>4</th>\n",
       "      <td>5</td>\n",
       "      <td>The Whale</td>\n",
       "      <td>2022</td>\n",
       "      <td>2022</td>\n",
       "      <td>14A</td>\n",
       "      <td>117 min</td>\n",
       "      <td>Drama</td>\n",
       "      <td>7.8</td>\n",
       "      <td>A reclusive, morbidly obese English teacher at...</td>\n",
       "      <td>Darren Aronofsky</td>\n",
       "      <td>Brendan Fraser, Sadie Sink, Ty Simpkins, Hong ...</td>\n",
       "      <td>89,630</td>\n",
       "      <td>NaN</td>\n",
       "      <td>Movie</td>\n",
       "    </tr>\n",
       "    <tr>\n",
       "      <th>5</th>\n",
       "      <td>6</td>\n",
       "      <td>Ghosted</td>\n",
       "      <td>2023</td>\n",
       "      <td>2023</td>\n",
       "      <td>Upcoming</td>\n",
       "      <td>Upcoming</td>\n",
       "      <td>Action, Adventure, Comedy</td>\n",
       "      <td>Upcoming</td>\n",
       "      <td>Cole falls head over heels for enigmatic Sadie...</td>\n",
       "      <td>Dexter Fletcher</td>\n",
       "      <td>Ana de Armas, Amy Sedaris, Chris Evans, Adrien...</td>\n",
       "      <td>Upcoming</td>\n",
       "      <td>NaN</td>\n",
       "      <td>Movie</td>\n",
       "    </tr>\n",
       "    <tr>\n",
       "      <th>6</th>\n",
       "      <td>7</td>\n",
       "      <td>Teenage Mutant Ninja Turtles: Mutant Mayhem</td>\n",
       "      <td>2023</td>\n",
       "      <td>2023</td>\n",
       "      <td>Upcoming</td>\n",
       "      <td>Upcoming</td>\n",
       "      <td>Animation, Action, Adventure</td>\n",
       "      <td>Upcoming</td>\n",
       "      <td>The Turtle brothers as they work to earn the l...</td>\n",
       "      <td>Jeff Rowe</td>\n",
       "      <td>Kyler Spears, Rose Byrne, Ayo Edebiri, Seth Ro...</td>\n",
       "      <td>Upcoming</td>\n",
       "      <td>NaN</td>\n",
       "      <td>Movie</td>\n",
       "    </tr>\n",
       "    <tr>\n",
       "      <th>7</th>\n",
       "      <td>8</td>\n",
       "      <td>65</td>\n",
       "      <td>2023</td>\n",
       "      <td>2023</td>\n",
       "      <td>14A</td>\n",
       "      <td>93 min</td>\n",
       "      <td>Action, Adventure, Drama</td>\n",
       "      <td>5.7</td>\n",
       "      <td>An astronaut crash lands on a mysterious plane...</td>\n",
       "      <td>Scott Beck</td>\n",
       "      <td>Bryan Woods, Adam Driver, Ariana Greenblatt, C...</td>\n",
       "      <td>5,960</td>\n",
       "      <td>NaN</td>\n",
       "      <td>Movie</td>\n",
       "    </tr>\n",
       "    <tr>\n",
       "      <th>8</th>\n",
       "      <td>9</td>\n",
       "      <td>Triangle of Sadness</td>\n",
       "      <td>2022</td>\n",
       "      <td>2022</td>\n",
       "      <td>PG</td>\n",
       "      <td>147 min</td>\n",
       "      <td>Comedy, Drama</td>\n",
       "      <td>7.4</td>\n",
       "      <td>A fashion model celebrity couple join an event...</td>\n",
       "      <td>Ruben Östlund</td>\n",
       "      <td>Thobias Thorwid, Harris Dickinson, Charlbi Dea...</td>\n",
       "      <td>105,262</td>\n",
       "      <td>NaN</td>\n",
       "      <td>Movie</td>\n",
       "    </tr>\n",
       "    <tr>\n",
       "      <th>9</th>\n",
       "      <td>10</td>\n",
       "      <td>Ant-Man and the Wasp: Quantumania</td>\n",
       "      <td>2023</td>\n",
       "      <td>2023</td>\n",
       "      <td>PG</td>\n",
       "      <td>124 min</td>\n",
       "      <td>Action, Adventure, Comedy</td>\n",
       "      <td>6.5</td>\n",
       "      <td>Scott Lang and Hope Van Dyne, along with Hank ...</td>\n",
       "      <td>Peyton Reed</td>\n",
       "      <td>Paul Rudd, Evangeline Lilly, Michael Douglas, ...</td>\n",
       "      <td>86,828</td>\n",
       "      <td>NaN</td>\n",
       "      <td>Movie</td>\n",
       "    </tr>\n",
       "  </tbody>\n",
       "</table>\n",
       "</div>"
      ],
      "text/plain": [
       "   Popularity Ranking                                         Name Released  \\\n",
       "0                   1                                    Scream VI     2023   \n",
       "1                   2                                    Creed III     2023   \n",
       "2                   3            Everything Everywhere All at Once     2022   \n",
       "3                   4                                 Cocaine Bear     2023   \n",
       "4                   5                                    The Whale     2022   \n",
       "5                   6                                      Ghosted     2023   \n",
       "6                   7  Teenage Mutant Ninja Turtles: Mutant Mayhem     2023   \n",
       "7                   8                                           65     2023   \n",
       "8                   9                          Triangle of Sadness     2022   \n",
       "9                  10            Ant-Man and the Wasp: Quantumania     2023   \n",
       "\n",
       "  Finished Certificate   Runtime                         Genre    Rating  \\\n",
       "0     2023         14A   122 min     Horror, Mystery, Thriller       7.3   \n",
       "1     2023          PG   116 min                  Drama, Sport       7.3   \n",
       "2     2022         14A   139 min     Action, Adventure, Comedy       7.9   \n",
       "3     2023         18A    95 min              Comedy, Thriller       6.3   \n",
       "4     2022         14A   117 min                         Drama       7.8   \n",
       "5     2023    Upcoming  Upcoming     Action, Adventure, Comedy  Upcoming   \n",
       "6     2023    Upcoming  Upcoming  Animation, Action, Adventure  Upcoming   \n",
       "7     2023         14A    93 min      Action, Adventure, Drama       5.7   \n",
       "8     2022          PG   147 min                 Comedy, Drama       7.4   \n",
       "9     2023          PG   124 min     Action, Adventure, Comedy       6.5   \n",
       "\n",
       "                                             Summary               Director  \\\n",
       "0  In the next installment, the survivors of the ...  Matt Bettinelli-Olpin   \n",
       "1  Adonis has been thriving in both his career an...      Michael B. Jordan   \n",
       "2  A middle-aged Chinese immigrant is swept up in...            Daniel Kwan   \n",
       "3  An oddball group of cops, criminals, tourists ...        Elizabeth Banks   \n",
       "4  A reclusive, morbidly obese English teacher at...       Darren Aronofsky   \n",
       "5  Cole falls head over heels for enigmatic Sadie...        Dexter Fletcher   \n",
       "6  The Turtle brothers as they work to earn the l...              Jeff Rowe   \n",
       "7  An astronaut crash lands on a mysterious plane...             Scott Beck   \n",
       "8  A fashion model celebrity couple join an event...          Ruben Östlund   \n",
       "9  Scott Lang and Hope Van Dyne, along with Hank ...            Peyton Reed   \n",
       "\n",
       "                                               Stars     Votes    Gross  \\\n",
       "0  Tyler Gillett, Courteney Cox, Melissa Barrera,...    20,665      NaN   \n",
       "1  Michael B. Jordan, Tessa Thompson, Jonathan Ma...    21,205      NaN   \n",
       "2  Daniel Scheinert, Michelle Yeoh, Stephanie Hsu...   371,173  $72.86M   \n",
       "3  Keri Russell, Alden Ehrenreich, O'Shea Jackson...    22,380      NaN   \n",
       "4  Brendan Fraser, Sadie Sink, Ty Simpkins, Hong ...    89,630      NaN   \n",
       "5  Ana de Armas, Amy Sedaris, Chris Evans, Adrien...  Upcoming      NaN   \n",
       "6  Kyler Spears, Rose Byrne, Ayo Edebiri, Seth Ro...  Upcoming      NaN   \n",
       "7  Bryan Woods, Adam Driver, Ariana Greenblatt, C...     5,960      NaN   \n",
       "8  Thobias Thorwid, Harris Dickinson, Charlbi Dea...   105,262      NaN   \n",
       "9  Paul Rudd, Evangeline Lilly, Michael Douglas, ...    86,828      NaN   \n",
       "\n",
       "  Type of Content  \n",
       "0           Movie  \n",
       "1           Movie  \n",
       "2           Movie  \n",
       "3           Movie  \n",
       "4           Movie  \n",
       "5           Movie  \n",
       "6           Movie  \n",
       "7           Movie  \n",
       "8           Movie  \n",
       "9           Movie  "
      ]
     },
     "execution_count": 42,
     "metadata": {},
     "output_type": "execute_result"
    }
   ],
   "source": [
    "db.rename(columns= {'Year' : 'Released'}, inplace= True)\n",
    "db.insert(3, 'Finished', db['Released'], True)\n",
    "db.head(10)"
   ]
  },
  {
   "cell_type": "code",
   "execution_count": 43,
   "metadata": {},
   "outputs": [],
   "source": [
    "temp = []\n",
    "for i in db['Released']:\n",
    "    temp.append(re.findall('\\d+.', i))"
   ]
  },
  {
   "cell_type": "code",
   "execution_count": 44,
   "metadata": {},
   "outputs": [],
   "source": [
    "# Updating Released year info\n",
    "\n",
    "temp_2 = []\n",
    "for i in range(len(temp)):\n",
    "    try:\n",
    "        temp_2.append(int(temp[i][0]))\n",
    "    except:\n",
    "        temp_2.append(int(temp[i][0][:4]))\n",
    "db['Released'] = temp_2"
   ]
  },
  {
   "cell_type": "code",
   "execution_count": 45,
   "metadata": {},
   "outputs": [],
   "source": [
    "# Updating Finish year info\n",
    "\n",
    "temp_2 = []\n",
    "for i in range(len(temp)):\n",
    "    try:\n",
    "        temp_2.append(int(temp[i][-1]))\n",
    "    except:\n",
    "        temp_2.append('Running')\n",
    "db['Finished'] = temp_2"
   ]
  },
  {
   "cell_type": "markdown",
   "metadata": {},
   "source": []
  },
  {
   "cell_type": "code",
   "execution_count": null,
   "metadata": {},
   "outputs": [],
   "source": []
  },
  {
   "attachments": {},
   "cell_type": "markdown",
   "metadata": {},
   "source": [
    "## Saving the database"
   ]
  },
  {
   "cell_type": "code",
   "execution_count": 49,
   "metadata": {},
   "outputs": [],
   "source": [
    "db.to_csv('main.csv')"
   ]
  },
  {
   "attachments": {},
   "cell_type": "markdown",
   "metadata": {},
   "source": [
    "## Read"
   ]
  },
  {
   "cell_type": "code",
   "execution_count": 3,
   "metadata": {},
   "outputs": [],
   "source": [
    "db = pd.read_csv('main.csv')"
   ]
  },
  {
   "cell_type": "code",
   "execution_count": 4,
   "metadata": {},
   "outputs": [],
   "source": [
    "db.drop(columns= 'Unnamed: 0', inplace= True)"
   ]
  },
  {
   "attachments": {},
   "cell_type": "markdown",
   "metadata": {},
   "source": [
    "## Now before continuing with EDA, lets seperate our database into X and Y, where Y db will have all the Upcoming values"
   ]
  },
  {
   "cell_type": "code",
   "execution_count": 186,
   "metadata": {},
   "outputs": [
    {
     "name": "stdout",
     "output_type": "stream",
     "text": [
      "(6763, 14)\n"
     ]
    }
   ],
   "source": [
    "X = db[db['Rating'] != 'Upcoming']\n",
    "print(X.shape)"
   ]
  },
  {
   "cell_type": "code",
   "execution_count": 7,
   "metadata": {},
   "outputs": [
    {
     "data": {
      "text/html": [
       "<div>\n",
       "<style scoped>\n",
       "    .dataframe tbody tr th:only-of-type {\n",
       "        vertical-align: middle;\n",
       "    }\n",
       "\n",
       "    .dataframe tbody tr th {\n",
       "        vertical-align: top;\n",
       "    }\n",
       "\n",
       "    .dataframe thead th {\n",
       "        text-align: right;\n",
       "    }\n",
       "</style>\n",
       "<table border=\"1\" class=\"dataframe\">\n",
       "  <thead>\n",
       "    <tr style=\"text-align: right;\">\n",
       "      <th></th>\n",
       "      <th>Popularity Ranking</th>\n",
       "      <th>Name</th>\n",
       "      <th>Released</th>\n",
       "      <th>Finished</th>\n",
       "      <th>Certificate</th>\n",
       "      <th>Runtime</th>\n",
       "      <th>Genre</th>\n",
       "      <th>Rating</th>\n",
       "      <th>Summary</th>\n",
       "      <th>Director</th>\n",
       "      <th>Stars</th>\n",
       "      <th>Votes</th>\n",
       "      <th>Gross</th>\n",
       "      <th>Type of Content</th>\n",
       "    </tr>\n",
       "  </thead>\n",
       "  <tbody>\n",
       "    <tr>\n",
       "      <th>0</th>\n",
       "      <td>1</td>\n",
       "      <td>Scream VI</td>\n",
       "      <td>2023</td>\n",
       "      <td>2023</td>\n",
       "      <td>14A</td>\n",
       "      <td>122 min</td>\n",
       "      <td>Horror, Mystery, Thriller</td>\n",
       "      <td>7.3</td>\n",
       "      <td>In the next installment, the survivors of the ...</td>\n",
       "      <td>Matt Bettinelli-Olpin</td>\n",
       "      <td>Tyler Gillett, Courteney Cox, Melissa Barrera,...</td>\n",
       "      <td>20,665</td>\n",
       "      <td>NaN</td>\n",
       "      <td>Movie</td>\n",
       "    </tr>\n",
       "    <tr>\n",
       "      <th>1</th>\n",
       "      <td>2</td>\n",
       "      <td>Creed III</td>\n",
       "      <td>2023</td>\n",
       "      <td>2023</td>\n",
       "      <td>PG</td>\n",
       "      <td>116 min</td>\n",
       "      <td>Drama, Sport</td>\n",
       "      <td>7.3</td>\n",
       "      <td>Adonis has been thriving in both his career an...</td>\n",
       "      <td>Michael B. Jordan</td>\n",
       "      <td>Michael B. Jordan, Tessa Thompson, Jonathan Ma...</td>\n",
       "      <td>21,205</td>\n",
       "      <td>NaN</td>\n",
       "      <td>Movie</td>\n",
       "    </tr>\n",
       "    <tr>\n",
       "      <th>2</th>\n",
       "      <td>3</td>\n",
       "      <td>Everything Everywhere All at Once</td>\n",
       "      <td>2022</td>\n",
       "      <td>2022</td>\n",
       "      <td>14A</td>\n",
       "      <td>139 min</td>\n",
       "      <td>Action, Adventure, Comedy</td>\n",
       "      <td>7.9</td>\n",
       "      <td>A middle-aged Chinese immigrant is swept up in...</td>\n",
       "      <td>Daniel Kwan</td>\n",
       "      <td>Daniel Scheinert, Michelle Yeoh, Stephanie Hsu...</td>\n",
       "      <td>371,173</td>\n",
       "      <td>$72.86M</td>\n",
       "      <td>Movie</td>\n",
       "    </tr>\n",
       "    <tr>\n",
       "      <th>3</th>\n",
       "      <td>4</td>\n",
       "      <td>Cocaine Bear</td>\n",
       "      <td>2023</td>\n",
       "      <td>2023</td>\n",
       "      <td>18A</td>\n",
       "      <td>95 min</td>\n",
       "      <td>Comedy, Thriller</td>\n",
       "      <td>6.3</td>\n",
       "      <td>An oddball group of cops, criminals, tourists ...</td>\n",
       "      <td>Elizabeth Banks</td>\n",
       "      <td>Keri Russell, Alden Ehrenreich, O'Shea Jackson...</td>\n",
       "      <td>22,380</td>\n",
       "      <td>NaN</td>\n",
       "      <td>Movie</td>\n",
       "    </tr>\n",
       "    <tr>\n",
       "      <th>4</th>\n",
       "      <td>5</td>\n",
       "      <td>The Whale</td>\n",
       "      <td>2022</td>\n",
       "      <td>2022</td>\n",
       "      <td>14A</td>\n",
       "      <td>117 min</td>\n",
       "      <td>Drama</td>\n",
       "      <td>7.8</td>\n",
       "      <td>A reclusive, morbidly obese English teacher at...</td>\n",
       "      <td>Darren Aronofsky</td>\n",
       "      <td>Brendan Fraser, Sadie Sink, Ty Simpkins, Hong ...</td>\n",
       "      <td>89,630</td>\n",
       "      <td>NaN</td>\n",
       "      <td>Movie</td>\n",
       "    </tr>\n",
       "    <tr>\n",
       "      <th>7</th>\n",
       "      <td>8</td>\n",
       "      <td>65</td>\n",
       "      <td>2023</td>\n",
       "      <td>2023</td>\n",
       "      <td>14A</td>\n",
       "      <td>93 min</td>\n",
       "      <td>Action, Adventure, Drama</td>\n",
       "      <td>5.7</td>\n",
       "      <td>An astronaut crash lands on a mysterious plane...</td>\n",
       "      <td>Scott Beck</td>\n",
       "      <td>Bryan Woods, Adam Driver, Ariana Greenblatt, C...</td>\n",
       "      <td>5,960</td>\n",
       "      <td>NaN</td>\n",
       "      <td>Movie</td>\n",
       "    </tr>\n",
       "    <tr>\n",
       "      <th>8</th>\n",
       "      <td>9</td>\n",
       "      <td>Triangle of Sadness</td>\n",
       "      <td>2022</td>\n",
       "      <td>2022</td>\n",
       "      <td>PG</td>\n",
       "      <td>147 min</td>\n",
       "      <td>Comedy, Drama</td>\n",
       "      <td>7.4</td>\n",
       "      <td>A fashion model celebrity couple join an event...</td>\n",
       "      <td>Ruben Östlund</td>\n",
       "      <td>Thobias Thorwid, Harris Dickinson, Charlbi Dea...</td>\n",
       "      <td>105,262</td>\n",
       "      <td>NaN</td>\n",
       "      <td>Movie</td>\n",
       "    </tr>\n",
       "    <tr>\n",
       "      <th>9</th>\n",
       "      <td>10</td>\n",
       "      <td>Ant-Man and the Wasp: Quantumania</td>\n",
       "      <td>2023</td>\n",
       "      <td>2023</td>\n",
       "      <td>PG</td>\n",
       "      <td>124 min</td>\n",
       "      <td>Action, Adventure, Comedy</td>\n",
       "      <td>6.5</td>\n",
       "      <td>Scott Lang and Hope Van Dyne, along with Hank ...</td>\n",
       "      <td>Peyton Reed</td>\n",
       "      <td>Paul Rudd, Evangeline Lilly, Michael Douglas, ...</td>\n",
       "      <td>86,828</td>\n",
       "      <td>NaN</td>\n",
       "      <td>Movie</td>\n",
       "    </tr>\n",
       "    <tr>\n",
       "      <th>10</th>\n",
       "      <td>11</td>\n",
       "      <td>A Man Called Otto</td>\n",
       "      <td>2022</td>\n",
       "      <td>2022</td>\n",
       "      <td>G</td>\n",
       "      <td>126 min</td>\n",
       "      <td>Comedy, Drama</td>\n",
       "      <td>7.5</td>\n",
       "      <td>Otto is a grump who's given up on life followi...</td>\n",
       "      <td>Marc Forster</td>\n",
       "      <td>Tom Hanks, Mariana Treviño, Rachel Keller, Joh...</td>\n",
       "      <td>38,362</td>\n",
       "      <td>$62.47M</td>\n",
       "      <td>Movie</td>\n",
       "    </tr>\n",
       "    <tr>\n",
       "      <th>11</th>\n",
       "      <td>12</td>\n",
       "      <td>Fall</td>\n",
       "      <td>2022</td>\n",
       "      <td>2022</td>\n",
       "      <td>14A</td>\n",
       "      <td>107 min</td>\n",
       "      <td>Thriller</td>\n",
       "      <td>6.4</td>\n",
       "      <td>Best friends Becky and Hunter find themselves ...</td>\n",
       "      <td>Scott Mann</td>\n",
       "      <td>Grace Caroline Currey, Virginia Gardner, Mason...</td>\n",
       "      <td>65,141</td>\n",
       "      <td>NaN</td>\n",
       "      <td>Movie</td>\n",
       "    </tr>\n",
       "  </tbody>\n",
       "</table>\n",
       "</div>"
      ],
      "text/plain": [
       "    Popularity Ranking                               Name  Released Finished  \\\n",
       "0                    1                          Scream VI      2023     2023   \n",
       "1                    2                          Creed III      2023     2023   \n",
       "2                    3  Everything Everywhere All at Once      2022     2022   \n",
       "3                    4                       Cocaine Bear      2023     2023   \n",
       "4                    5                          The Whale      2022     2022   \n",
       "7                    8                                 65      2023     2023   \n",
       "8                    9                Triangle of Sadness      2022     2022   \n",
       "9                   10  Ant-Man and the Wasp: Quantumania      2023     2023   \n",
       "10                  11                  A Man Called Otto      2022     2022   \n",
       "11                  12                               Fall      2022     2022   \n",
       "\n",
       "   Certificate  Runtime                      Genre Rating  \\\n",
       "0          14A  122 min  Horror, Mystery, Thriller    7.3   \n",
       "1           PG  116 min               Drama, Sport    7.3   \n",
       "2          14A  139 min  Action, Adventure, Comedy    7.9   \n",
       "3          18A   95 min           Comedy, Thriller    6.3   \n",
       "4          14A  117 min                      Drama    7.8   \n",
       "7          14A   93 min   Action, Adventure, Drama    5.7   \n",
       "8           PG  147 min              Comedy, Drama    7.4   \n",
       "9           PG  124 min  Action, Adventure, Comedy    6.5   \n",
       "10           G  126 min              Comedy, Drama    7.5   \n",
       "11         14A  107 min                   Thriller    6.4   \n",
       "\n",
       "                                              Summary               Director  \\\n",
       "0   In the next installment, the survivors of the ...  Matt Bettinelli-Olpin   \n",
       "1   Adonis has been thriving in both his career an...      Michael B. Jordan   \n",
       "2   A middle-aged Chinese immigrant is swept up in...            Daniel Kwan   \n",
       "3   An oddball group of cops, criminals, tourists ...        Elizabeth Banks   \n",
       "4   A reclusive, morbidly obese English teacher at...       Darren Aronofsky   \n",
       "7   An astronaut crash lands on a mysterious plane...             Scott Beck   \n",
       "8   A fashion model celebrity couple join an event...          Ruben Östlund   \n",
       "9   Scott Lang and Hope Van Dyne, along with Hank ...            Peyton Reed   \n",
       "10  Otto is a grump who's given up on life followi...           Marc Forster   \n",
       "11  Best friends Becky and Hunter find themselves ...             Scott Mann   \n",
       "\n",
       "                                                Stars    Votes    Gross  \\\n",
       "0   Tyler Gillett, Courteney Cox, Melissa Barrera,...   20,665      NaN   \n",
       "1   Michael B. Jordan, Tessa Thompson, Jonathan Ma...   21,205      NaN   \n",
       "2   Daniel Scheinert, Michelle Yeoh, Stephanie Hsu...  371,173  $72.86M   \n",
       "3   Keri Russell, Alden Ehrenreich, O'Shea Jackson...   22,380      NaN   \n",
       "4   Brendan Fraser, Sadie Sink, Ty Simpkins, Hong ...   89,630      NaN   \n",
       "7   Bryan Woods, Adam Driver, Ariana Greenblatt, C...    5,960      NaN   \n",
       "8   Thobias Thorwid, Harris Dickinson, Charlbi Dea...  105,262      NaN   \n",
       "9   Paul Rudd, Evangeline Lilly, Michael Douglas, ...   86,828      NaN   \n",
       "10  Tom Hanks, Mariana Treviño, Rachel Keller, Joh...   38,362  $62.47M   \n",
       "11  Grace Caroline Currey, Virginia Gardner, Mason...   65,141      NaN   \n",
       "\n",
       "   Type of Content  \n",
       "0            Movie  \n",
       "1            Movie  \n",
       "2            Movie  \n",
       "3            Movie  \n",
       "4            Movie  \n",
       "7            Movie  \n",
       "8            Movie  \n",
       "9            Movie  \n",
       "10           Movie  \n",
       "11           Movie  "
      ]
     },
     "execution_count": 7,
     "metadata": {},
     "output_type": "execute_result"
    }
   ],
   "source": [
    "X.head(10)"
   ]
  },
  {
   "attachments": {},
   "cell_type": "markdown",
   "metadata": {},
   "source": [
    "# Exploratory Data Analysis (STEP 3)"
   ]
  },
  {
   "cell_type": "code",
   "execution_count": 120,
   "metadata": {},
   "outputs": [
    {
     "data": {
      "text/html": [
       "<div>\n",
       "<style scoped>\n",
       "    .dataframe tbody tr th:only-of-type {\n",
       "        vertical-align: middle;\n",
       "    }\n",
       "\n",
       "    .dataframe tbody tr th {\n",
       "        vertical-align: top;\n",
       "    }\n",
       "\n",
       "    .dataframe thead th {\n",
       "        text-align: right;\n",
       "    }\n",
       "</style>\n",
       "<table border=\"1\" class=\"dataframe\">\n",
       "  <thead>\n",
       "    <tr style=\"text-align: right;\">\n",
       "      <th></th>\n",
       "      <th>Popularity Ranking</th>\n",
       "      <th>Name</th>\n",
       "      <th>Released</th>\n",
       "      <th>Finished</th>\n",
       "      <th>Certificate</th>\n",
       "      <th>Runtime</th>\n",
       "      <th>Genre</th>\n",
       "      <th>Rating</th>\n",
       "      <th>Summary</th>\n",
       "      <th>Director</th>\n",
       "      <th>Stars</th>\n",
       "      <th>Votes</th>\n",
       "      <th>Gross</th>\n",
       "      <th>Type of Content</th>\n",
       "    </tr>\n",
       "  </thead>\n",
       "  <tbody>\n",
       "    <tr>\n",
       "      <th>0</th>\n",
       "      <td>1</td>\n",
       "      <td>Scream VI</td>\n",
       "      <td>2023</td>\n",
       "      <td>2023</td>\n",
       "      <td>14A</td>\n",
       "      <td>122 min</td>\n",
       "      <td>Horror, Mystery, Thriller</td>\n",
       "      <td>7.3</td>\n",
       "      <td>In the next installment, the survivors of the ...</td>\n",
       "      <td>Matt Bettinelli-Olpin</td>\n",
       "      <td>Tyler Gillett, Courteney Cox, Melissa Barrera,...</td>\n",
       "      <td>20,665</td>\n",
       "      <td>NaN</td>\n",
       "      <td>Movie</td>\n",
       "    </tr>\n",
       "    <tr>\n",
       "      <th>1</th>\n",
       "      <td>2</td>\n",
       "      <td>Creed III</td>\n",
       "      <td>2023</td>\n",
       "      <td>2023</td>\n",
       "      <td>PG</td>\n",
       "      <td>116 min</td>\n",
       "      <td>Drama, Sport</td>\n",
       "      <td>7.3</td>\n",
       "      <td>Adonis has been thriving in both his career an...</td>\n",
       "      <td>Michael B. Jordan</td>\n",
       "      <td>Michael B. Jordan, Tessa Thompson, Jonathan Ma...</td>\n",
       "      <td>21,205</td>\n",
       "      <td>NaN</td>\n",
       "      <td>Movie</td>\n",
       "    </tr>\n",
       "    <tr>\n",
       "      <th>2</th>\n",
       "      <td>3</td>\n",
       "      <td>Everything Everywhere All at Once</td>\n",
       "      <td>2022</td>\n",
       "      <td>2022</td>\n",
       "      <td>14A</td>\n",
       "      <td>139 min</td>\n",
       "      <td>Action, Adventure, Comedy</td>\n",
       "      <td>7.9</td>\n",
       "      <td>A middle-aged Chinese immigrant is swept up in...</td>\n",
       "      <td>Daniel Kwan</td>\n",
       "      <td>Daniel Scheinert, Michelle Yeoh, Stephanie Hsu...</td>\n",
       "      <td>371,173</td>\n",
       "      <td>$72.86M</td>\n",
       "      <td>Movie</td>\n",
       "    </tr>\n",
       "    <tr>\n",
       "      <th>3</th>\n",
       "      <td>4</td>\n",
       "      <td>Cocaine Bear</td>\n",
       "      <td>2023</td>\n",
       "      <td>2023</td>\n",
       "      <td>18A</td>\n",
       "      <td>95 min</td>\n",
       "      <td>Comedy, Thriller</td>\n",
       "      <td>6.3</td>\n",
       "      <td>An oddball group of cops, criminals, tourists ...</td>\n",
       "      <td>Elizabeth Banks</td>\n",
       "      <td>Keri Russell, Alden Ehrenreich, O'Shea Jackson...</td>\n",
       "      <td>22,380</td>\n",
       "      <td>NaN</td>\n",
       "      <td>Movie</td>\n",
       "    </tr>\n",
       "    <tr>\n",
       "      <th>4</th>\n",
       "      <td>5</td>\n",
       "      <td>The Whale</td>\n",
       "      <td>2022</td>\n",
       "      <td>2022</td>\n",
       "      <td>14A</td>\n",
       "      <td>117 min</td>\n",
       "      <td>Drama</td>\n",
       "      <td>7.8</td>\n",
       "      <td>A reclusive, morbidly obese English teacher at...</td>\n",
       "      <td>Darren Aronofsky</td>\n",
       "      <td>Brendan Fraser, Sadie Sink, Ty Simpkins, Hong ...</td>\n",
       "      <td>89,630</td>\n",
       "      <td>NaN</td>\n",
       "      <td>Movie</td>\n",
       "    </tr>\n",
       "    <tr>\n",
       "      <th>7</th>\n",
       "      <td>8</td>\n",
       "      <td>65</td>\n",
       "      <td>2023</td>\n",
       "      <td>2023</td>\n",
       "      <td>14A</td>\n",
       "      <td>93 min</td>\n",
       "      <td>Action, Adventure, Drama</td>\n",
       "      <td>5.7</td>\n",
       "      <td>An astronaut crash lands on a mysterious plane...</td>\n",
       "      <td>Scott Beck</td>\n",
       "      <td>Bryan Woods, Adam Driver, Ariana Greenblatt, C...</td>\n",
       "      <td>5,960</td>\n",
       "      <td>NaN</td>\n",
       "      <td>Movie</td>\n",
       "    </tr>\n",
       "    <tr>\n",
       "      <th>8</th>\n",
       "      <td>9</td>\n",
       "      <td>Triangle of Sadness</td>\n",
       "      <td>2022</td>\n",
       "      <td>2022</td>\n",
       "      <td>PG</td>\n",
       "      <td>147 min</td>\n",
       "      <td>Comedy, Drama</td>\n",
       "      <td>7.4</td>\n",
       "      <td>A fashion model celebrity couple join an event...</td>\n",
       "      <td>Ruben Östlund</td>\n",
       "      <td>Thobias Thorwid, Harris Dickinson, Charlbi Dea...</td>\n",
       "      <td>105,262</td>\n",
       "      <td>NaN</td>\n",
       "      <td>Movie</td>\n",
       "    </tr>\n",
       "    <tr>\n",
       "      <th>9</th>\n",
       "      <td>10</td>\n",
       "      <td>Ant-Man and the Wasp: Quantumania</td>\n",
       "      <td>2023</td>\n",
       "      <td>2023</td>\n",
       "      <td>PG</td>\n",
       "      <td>124 min</td>\n",
       "      <td>Action, Adventure, Comedy</td>\n",
       "      <td>6.5</td>\n",
       "      <td>Scott Lang and Hope Van Dyne, along with Hank ...</td>\n",
       "      <td>Peyton Reed</td>\n",
       "      <td>Paul Rudd, Evangeline Lilly, Michael Douglas, ...</td>\n",
       "      <td>86,828</td>\n",
       "      <td>NaN</td>\n",
       "      <td>Movie</td>\n",
       "    </tr>\n",
       "    <tr>\n",
       "      <th>10</th>\n",
       "      <td>11</td>\n",
       "      <td>A Man Called Otto</td>\n",
       "      <td>2022</td>\n",
       "      <td>2022</td>\n",
       "      <td>G</td>\n",
       "      <td>126 min</td>\n",
       "      <td>Comedy, Drama</td>\n",
       "      <td>7.5</td>\n",
       "      <td>Otto is a grump who's given up on life followi...</td>\n",
       "      <td>Marc Forster</td>\n",
       "      <td>Tom Hanks, Mariana Treviño, Rachel Keller, Joh...</td>\n",
       "      <td>38,362</td>\n",
       "      <td>$62.47M</td>\n",
       "      <td>Movie</td>\n",
       "    </tr>\n",
       "    <tr>\n",
       "      <th>11</th>\n",
       "      <td>12</td>\n",
       "      <td>Fall</td>\n",
       "      <td>2022</td>\n",
       "      <td>2022</td>\n",
       "      <td>14A</td>\n",
       "      <td>107 min</td>\n",
       "      <td>Thriller</td>\n",
       "      <td>6.4</td>\n",
       "      <td>Best friends Becky and Hunter find themselves ...</td>\n",
       "      <td>Scott Mann</td>\n",
       "      <td>Grace Caroline Currey, Virginia Gardner, Mason...</td>\n",
       "      <td>65,141</td>\n",
       "      <td>NaN</td>\n",
       "      <td>Movie</td>\n",
       "    </tr>\n",
       "  </tbody>\n",
       "</table>\n",
       "</div>"
      ],
      "text/plain": [
       "    Popularity Ranking                               Name  Released Finished  \\\n",
       "0                    1                          Scream VI      2023     2023   \n",
       "1                    2                          Creed III      2023     2023   \n",
       "2                    3  Everything Everywhere All at Once      2022     2022   \n",
       "3                    4                       Cocaine Bear      2023     2023   \n",
       "4                    5                          The Whale      2022     2022   \n",
       "7                    8                                 65      2023     2023   \n",
       "8                    9                Triangle of Sadness      2022     2022   \n",
       "9                   10  Ant-Man and the Wasp: Quantumania      2023     2023   \n",
       "10                  11                  A Man Called Otto      2022     2022   \n",
       "11                  12                               Fall      2022     2022   \n",
       "\n",
       "   Certificate  Runtime                      Genre Rating  \\\n",
       "0          14A  122 min  Horror, Mystery, Thriller    7.3   \n",
       "1           PG  116 min               Drama, Sport    7.3   \n",
       "2          14A  139 min  Action, Adventure, Comedy    7.9   \n",
       "3          18A   95 min           Comedy, Thriller    6.3   \n",
       "4          14A  117 min                      Drama    7.8   \n",
       "7          14A   93 min   Action, Adventure, Drama    5.7   \n",
       "8           PG  147 min              Comedy, Drama    7.4   \n",
       "9           PG  124 min  Action, Adventure, Comedy    6.5   \n",
       "10           G  126 min              Comedy, Drama    7.5   \n",
       "11         14A  107 min                   Thriller    6.4   \n",
       "\n",
       "                                              Summary               Director  \\\n",
       "0   In the next installment, the survivors of the ...  Matt Bettinelli-Olpin   \n",
       "1   Adonis has been thriving in both his career an...      Michael B. Jordan   \n",
       "2   A middle-aged Chinese immigrant is swept up in...            Daniel Kwan   \n",
       "3   An oddball group of cops, criminals, tourists ...        Elizabeth Banks   \n",
       "4   A reclusive, morbidly obese English teacher at...       Darren Aronofsky   \n",
       "7   An astronaut crash lands on a mysterious plane...             Scott Beck   \n",
       "8   A fashion model celebrity couple join an event...          Ruben Östlund   \n",
       "9   Scott Lang and Hope Van Dyne, along with Hank ...            Peyton Reed   \n",
       "10  Otto is a grump who's given up on life followi...           Marc Forster   \n",
       "11  Best friends Becky and Hunter find themselves ...             Scott Mann   \n",
       "\n",
       "                                                Stars    Votes    Gross  \\\n",
       "0   Tyler Gillett, Courteney Cox, Melissa Barrera,...   20,665      NaN   \n",
       "1   Michael B. Jordan, Tessa Thompson, Jonathan Ma...   21,205      NaN   \n",
       "2   Daniel Scheinert, Michelle Yeoh, Stephanie Hsu...  371,173  $72.86M   \n",
       "3   Keri Russell, Alden Ehrenreich, O'Shea Jackson...   22,380      NaN   \n",
       "4   Brendan Fraser, Sadie Sink, Ty Simpkins, Hong ...   89,630      NaN   \n",
       "7   Bryan Woods, Adam Driver, Ariana Greenblatt, C...    5,960      NaN   \n",
       "8   Thobias Thorwid, Harris Dickinson, Charlbi Dea...  105,262      NaN   \n",
       "9   Paul Rudd, Evangeline Lilly, Michael Douglas, ...   86,828      NaN   \n",
       "10  Tom Hanks, Mariana Treviño, Rachel Keller, Joh...   38,362  $62.47M   \n",
       "11  Grace Caroline Currey, Virginia Gardner, Mason...   65,141      NaN   \n",
       "\n",
       "   Type of Content  \n",
       "0            Movie  \n",
       "1            Movie  \n",
       "2            Movie  \n",
       "3            Movie  \n",
       "4            Movie  \n",
       "7            Movie  \n",
       "8            Movie  \n",
       "9            Movie  \n",
       "10           Movie  \n",
       "11           Movie  "
      ]
     },
     "execution_count": 120,
     "metadata": {},
     "output_type": "execute_result"
    }
   ],
   "source": [
    "(X.head(10))"
   ]
  },
  {
   "cell_type": "code",
   "execution_count": 121,
   "metadata": {},
   "outputs": [
    {
     "name": "stdout",
     "output_type": "stream",
     "text": [
      "<class 'pandas.core.frame.DataFrame'>\n",
      "Int64Index: 6763 entries, 0 to 7302\n",
      "Data columns (total 14 columns):\n",
      " #   Column              Non-Null Count  Dtype \n",
      "---  ------              --------------  ----- \n",
      " 0   Popularity Ranking  6763 non-null   int64 \n",
      " 1   Name                6763 non-null   object\n",
      " 2   Released            6763 non-null   int64 \n",
      " 3   Finished            6763 non-null   object\n",
      " 4   Certificate         6763 non-null   object\n",
      " 5   Runtime             6763 non-null   object\n",
      " 6   Genre               6763 non-null   object\n",
      " 7   Rating              6763 non-null   object\n",
      " 8   Summary             6763 non-null   object\n",
      " 9   Director            4476 non-null   object\n",
      " 10  Stars               6762 non-null   object\n",
      " 11  Votes               6763 non-null   object\n",
      " 12  Gross               3436 non-null   object\n",
      " 13  Type of Content     6763 non-null   object\n",
      "dtypes: int64(2), object(12)\n",
      "memory usage: 792.5+ KB\n"
     ]
    }
   ],
   "source": [
    "X.info()"
   ]
  },
  {
   "cell_type": "code",
   "execution_count": 9,
   "metadata": {},
   "outputs": [
    {
     "name": "stdout",
     "output_type": "stream",
     "text": [
      "{'Thriller', 'Horror', 'Film-Noir', 'Reality-TV', 'Drama', 'History', 'War', 'Animation', 'Short', 'Crime', 'Musical', 'Music', 'Sport', 'Romance', 'Mystery', 'Talk-Show', 'Sci-Fi', 'Fantasy', 'Western', 'Adventure', 'Game-Show', 'News', 'Documentary', 'Family', 'Comedy', 'Action', 'Biography'}\n"
     ]
    }
   ],
   "source": [
    "# Different genre of movies/series in our dataset\n",
    "\n",
    "different_genre = X['Genre'].unique()\n",
    "different_genre_set = []\n",
    "for i in different_genre:\n",
    "    temp = i.split(', ')\n",
    "    different_genre_set.extend(temp)\n",
    "different_genre_set = set(different_genre_set)\n",
    "print(different_genre_set)\n",
    "some_dictonary = {k:0 for k in different_genre_set}"
   ]
  },
  {
   "cell_type": "code",
   "execution_count": 10,
   "metadata": {},
   "outputs": [
    {
     "data": {
      "text/plain": [
       "27"
      ]
     },
     "execution_count": 10,
     "metadata": {},
     "output_type": "execute_result"
    }
   ],
   "source": [
    "len(different_genre_set)"
   ]
  },
  {
   "cell_type": "code",
   "execution_count": 11,
   "metadata": {},
   "outputs": [],
   "source": [
    "for i in list(different_genre_set):\n",
    "    for j in X['Genre']:\n",
    "        if i in j:\n",
    "            some_dictonary[i] += 1"
   ]
  },
  {
   "cell_type": "code",
   "execution_count": 12,
   "metadata": {},
   "outputs": [
    {
     "data": {
      "text/plain": [
       "17436"
      ]
     },
     "execution_count": 12,
     "metadata": {},
     "output_type": "execute_result"
    }
   ],
   "source": [
    "sum(list(some_dictonary.values()))\n",
    "\n",
    "# This is more than double the total number of movies we have, so we can say in average a movie/series contains atleast 2 genre."
   ]
  },
  {
   "cell_type": "code",
   "execution_count": 13,
   "metadata": {},
   "outputs": [
    {
     "data": {
      "image/png": "[encoded data removed]",
      "text/plain": [
       "<Figure size 1200x800 with 1 Axes>"
      ]
     },
     "metadata": {},
     "output_type": "display_data"
    }
   ],
   "source": [
    "plt.figure(figsize=(12,8))\n",
    "plt.barh(list(some_dictonary.keys()), list(some_dictonary.values()),  color='g')\n",
    "plt.title(\"Number of Movie/Series of specific genre\")\n",
    "plt.xlabel('Count')\n",
    "plt.ylabel('Genre')\n",
    "plt.show()"
   ]
  },
  {
   "cell_type": "code",
   "execution_count": 127,
   "metadata": {},
   "outputs": [
    {
     "data": {
      "image/png": "[encoded data removed]",
      "text/plain": [
       "<Figure size 640x480 with 1 Axes>"
      ]
     },
     "metadata": {},
     "output_type": "display_data"
    }
   ],
   "source": [
    "# In drama which is more movie or seires?\n",
    "\n",
    "drama_group = X.loc[X['Genre'].str.contains(\"Drama\")]\n",
    "drama_group = drama_group.groupby('Type of Content')['Type of Content'].count()\n",
    "\n",
    "plt.pie(drama_group, labels= drama_group.index, autopct= lambda x: f'{x*drama_group.sum()/100:.0f}', explode= [0.1, 0], shadow= True)\n",
    "plt.show()"
   ]
  },
  {
   "cell_type": "markdown",
   "metadata": {},
   "source": []
  },
  {
   "cell_type": "code",
   "execution_count": 128,
   "metadata": {},
   "outputs": [],
   "source": [
    "year_group = (X.groupby(['Released'])['Name'].count())"
   ]
  },
  {
   "cell_type": "code",
   "execution_count": 129,
   "metadata": {},
   "outputs": [],
   "source": [
    "index = np.arange(0, year_group.count())"
   ]
  },
  {
   "cell_type": "code",
   "execution_count": 130,
   "metadata": {},
   "outputs": [
    {
     "data": {
      "image/png": "[encoded data removed]",
      "text/plain": [
       "<Figure size 1200x800 with 1 Axes>"
      ]
     },
     "metadata": {},
     "output_type": "display_data"
    }
   ],
   "source": [
    "plt.figure(figsize=(12,8))\n",
    "plt.plot(list(year_group.values))\n",
    "# plt.xticks([0, 100])\n",
    "# plt.xticks(ticks= index ,labels= list(year_group.index), rotation= 90)\n",
    "# plt.xticks(ticks= [0,1,2,3,4,5,6,7,8] ,labels= [1920,1930,1940,1950,1960,1970,1980,2020], rotation= 90)\n",
    "plt.title('Number of Movies/Series released per year')\n",
    "plt.xlabel('Movie/Series Release Year')\n",
    "plt.ylabel('Count')\n",
    "plt.show()"
   ]
  },
  {
   "cell_type": "markdown",
   "metadata": {},
   "source": []
  },
  {
   "cell_type": "code",
   "execution_count": 131,
   "metadata": {},
   "outputs": [
    {
     "data": {
      "image/png": "[encoded data removed]",
      "text/plain": [
       "<Figure size 640x480 with 1 Axes>"
      ]
     },
     "metadata": {},
     "output_type": "display_data"
    }
   ],
   "source": [
    "plt.scatter((X['Released']), [round(float(x)) for x in (X['Rating'])])\n",
    "plt.title('Number of movie/series with their rating (rounded)')\n",
    "plt.xlabel('Year')\n",
    "plt.ylabel('Rating')\n",
    "plt.show()"
   ]
  },
  {
   "cell_type": "markdown",
   "metadata": {},
   "source": []
  },
  {
   "cell_type": "code",
   "execution_count": 132,
   "metadata": {},
   "outputs": [
    {
     "data": {
      "image/png": "[encoded data removed]",
      "text/plain": [
       "<Figure size 1000x600 with 1 Axes>"
      ]
     },
     "metadata": {},
     "output_type": "display_data"
    }
   ],
   "source": [
    "def convert(x):\n",
    "    return round(float(x))\n",
    "\n",
    "rating_group = X.copy()\n",
    "rating_group['Rating'] = rating_group['Rating'].apply(convert)\n",
    "rating_group = rating_group.groupby('Rating')['Type of Content'].value_counts().reset_index(name= 'count')\n",
    "\n",
    "plt.figure(figsize=(10,6))\n",
    "sns.barplot(data=rating_group, x='Rating', y='count', hue=\"Type of Content\")\n",
    "plt.ylabel(\"Total number\")\n",
    "plt.xlabel(\"Rating (rounded)\")\n",
    "plt.title('Rating of different Movies/Series')\n",
    "plt.show()"
   ]
  },
  {
   "cell_type": "markdown",
   "metadata": {},
   "source": []
  },
  {
   "cell_type": "code",
   "execution_count": 133,
   "metadata": {},
   "outputs": [
    {
     "name": "stderr",
     "output_type": "stream",
     "text": [
      "C:\\Users\\keera\\AppData\\Local\\Temp\\ipykernel_20872\\2842355289.py:5: SettingWithCopyWarning: \n",
      "A value is trying to be set on a copy of a slice from a DataFrame.\n",
      "Try using .loc[row_indexer,col_indexer] = value instead\n",
      "\n",
      "See the caveats in the documentation: https://pandas.pydata.org/pandas-docs/stable/user_guide/indexing.html#returning-a-view-versus-a-copy\n",
      "  runtime_release['Runtime'] = runtime_release['Runtime'].apply(change_runtime)\n"
     ]
    },
    {
     "data": {
      "image/png": "[encoded data removed]",
      "text/plain": [
       "<Figure size 620.611x500 with 1 Axes>"
      ]
     },
     "metadata": {},
     "output_type": "display_data"
    }
   ],
   "source": [
    "def change_runtime(x):\n",
    "   return int((re.findall(r'\\d+', x))[0])\n",
    "\n",
    "runtime_release = X[['Released', 'Runtime', 'Type of Content']]\n",
    "runtime_release['Runtime'] = runtime_release['Runtime'].apply(change_runtime)\n",
    "sns.lmplot(data= runtime_release, x= 'Released', y= 'Runtime' , hue= 'Type of Content')\n",
    "plt.show()"
   ]
  },
  {
   "cell_type": "markdown",
   "metadata": {},
   "source": []
  },
  {
   "cell_type": "code",
   "execution_count": 134,
   "metadata": {},
   "outputs": [
    {
     "data": {
      "image/png": "[encoded data removed]",
      "text/plain": [
       "<Figure size 600x1000 with 1 Axes>"
      ]
     },
     "metadata": {},
     "output_type": "display_data"
    }
   ],
   "source": [
    "plt.figure(figsize=(6,10))\n",
    "sns.countplot(data= X, y= 'Certificate', hue= 'Type of Content',  palette = \"Set2\")\n",
    "plt.show()"
   ]
  },
  {
   "attachments": {},
   "cell_type": "markdown",
   "metadata": {},
   "source": [
    "# Pandas Profiling (STEP 4)"
   ]
  },
  {
   "cell_type": "code",
   "execution_count": 195,
   "metadata": {},
   "outputs": [
    {
     "name": "stderr",
     "output_type": "stream",
     "text": [
      "C:\\Users\\keera\\AppData\\Local\\Packages\\PythonSoftwareFoundation.Python.3.9_qbz5n2kfra8p0\\LocalCache\\local-packages\\Python39\\site-packages\\multimethod\\__init__.py:315: SettingWithCopyWarning: \n",
      "A value is trying to be set on a copy of a slice from a DataFrame\n",
      "\n",
      "See the caveats in the documentation: https://pandas.pydata.org/pandas-docs/stable/user_guide/indexing.html#returning-a-view-versus-a-copy\n",
      "  return func(*args, **kwargs)\n",
      "Summarize dataset:  71%|███████▏  | 15/21 [00:01<00:00,  8.17it/s, Calculate auto correlation]         C:\\Users\\keera\\AppData\\Local\\Packages\\PythonSoftwareFoundation.Python.3.9_qbz5n2kfra8p0\\LocalCache\\local-packages\\Python39\\site-packages\\scipy\\stats\\_stats_py.py:110: RuntimeWarning: The input array could not be properly checked for nan values. nan values will be ignored.\n",
      "  warnings.warn(\"The input array could not be properly \"\n",
      "C:\\Users\\keera\\AppData\\Local\\Packages\\PythonSoftwareFoundation.Python.3.9_qbz5n2kfra8p0\\LocalCache\\local-packages\\Python39\\site-packages\\scipy\\stats\\_stats_py.py:110: RuntimeWarning: The input array could not be properly checked for nan values. nan values will be ignored.\n",
      "  warnings.warn(\"The input array could not be properly \"\n",
      "Summarize dataset: 100%|██████████| 33/33 [00:04<00:00,  7.79it/s, Completed]                                     \n",
      "Generate report structure: 100%|██████████| 1/1 [00:02<00:00,  2.58s/it]\n",
      "Render HTML: 100%|██████████| 1/1 [00:01<00:00,  1.13s/it]\n",
      "Export report to file: 100%|██████████| 1/1 [00:00<00:00, 250.17it/s]\n"
     ]
    }
   ],
   "source": [
    "from pandas_profiling import ProfileReport\n",
    "prof = ProfileReport(X)\n",
    "prof.to_file(output_file='output.html')"
   ]
  },
  {
   "attachments": {},
   "cell_type": "markdown",
   "metadata": {},
   "source": [
    "# Encoding methods (STEP 5)"
   ]
  },
  {
   "cell_type": "code",
   "execution_count": 194,
   "metadata": {},
   "outputs": [
    {
     "name": "stdout",
     "output_type": "stream",
     "text": [
      "<class 'pandas.core.frame.DataFrame'>\n",
      "Int64Index: 6763 entries, 0 to 7302\n",
      "Data columns (total 14 columns):\n",
      " #   Column              Non-Null Count  Dtype \n",
      "---  ------              --------------  ----- \n",
      " 0   Popularity Ranking  6763 non-null   int64 \n",
      " 1   Name                6763 non-null   object\n",
      " 2   Released            6763 non-null   int64 \n",
      " 3   Finished            6763 non-null   object\n",
      " 4   Certificate         6763 non-null   object\n",
      " 5   Runtime             6763 non-null   object\n",
      " 6   Genre               6763 non-null   object\n",
      " 7   Rating              6763 non-null   object\n",
      " 8   Summary             6763 non-null   object\n",
      " 9   Director            4476 non-null   object\n",
      " 10  Stars               6762 non-null   object\n",
      " 11  Votes               6763 non-null   object\n",
      " 12  Gross               3436 non-null   object\n",
      " 13  Type of Content     6763 non-null   object\n",
      "dtypes: int64(2), object(12)\n",
      "memory usage: 792.5+ KB\n"
     ]
    }
   ],
   "source": [
    "# We have already done some encoding above (changing Year column to Released and Finish with numerical values)\n",
    "\n",
    "X.info()"
   ]
  },
  {
   "cell_type": "code",
   "execution_count": 188,
   "metadata": {},
   "outputs": [
    {
     "name": "stderr",
     "output_type": "stream",
     "text": [
      "C:\\Users\\keera\\AppData\\Local\\Temp\\ipykernel_3060\\324634148.py:18: SettingWithCopyWarning: \n",
      "A value is trying to be set on a copy of a slice from a DataFrame.\n",
      "Try using .loc[row_indexer,col_indexer] = value instead\n",
      "\n",
      "See the caveats in the documentation: https://pandas.pydata.org/pandas-docs/stable/user_guide/indexing.html#returning-a-view-versus-a-copy\n",
      "  X['Votes'] = X['Votes'].apply(change_votes)\n",
      "C:\\Users\\keera\\AppData\\Local\\Temp\\ipykernel_3060\\324634148.py:19: SettingWithCopyWarning: \n",
      "A value is trying to be set on a copy of a slice from a DataFrame.\n",
      "Try using .loc[row_indexer,col_indexer] = value instead\n",
      "\n",
      "See the caveats in the documentation: https://pandas.pydata.org/pandas-docs/stable/user_guide/indexing.html#returning-a-view-versus-a-copy\n",
      "  X['Gross'] = X['Gross'].apply(change_gross)\n",
      "C:\\Users\\keera\\AppData\\Local\\Temp\\ipykernel_3060\\324634148.py:20: SettingWithCopyWarning: \n",
      "A value is trying to be set on a copy of a slice from a DataFrame.\n",
      "Try using .loc[row_indexer,col_indexer] = value instead\n",
      "\n",
      "See the caveats in the documentation: https://pandas.pydata.org/pandas-docs/stable/user_guide/indexing.html#returning-a-view-versus-a-copy\n",
      "  X['Runtime'] = X['Runtime'].apply(change_runtime)\n",
      "C:\\Users\\keera\\AppData\\Local\\Temp\\ipykernel_3060\\324634148.py:21: SettingWithCopyWarning: \n",
      "A value is trying to be set on a copy of a slice from a DataFrame.\n",
      "Try using .loc[row_indexer,col_indexer] = value instead\n",
      "\n",
      "See the caveats in the documentation: https://pandas.pydata.org/pandas-docs/stable/user_guide/indexing.html#returning-a-view-versus-a-copy\n",
      "  X['Rating'] = X['Rating'].apply(change_rating)\n",
      "C:\\Users\\keera\\AppData\\Local\\Temp\\ipykernel_3060\\324634148.py:23: SettingWithCopyWarning: \n",
      "A value is trying to be set on a copy of a slice from a DataFrame\n",
      "\n",
      "See the caveats in the documentation: https://pandas.pydata.org/pandas-docs/stable/user_guide/indexing.html#returning-a-view-versus-a-copy\n",
      "  X.rename(columns= {'Runtime' : 'Runtime (Minutes)', 'Gross' : 'Gross (M)'}, inplace= True)\n",
      "C:\\Users\\keera\\AppData\\Local\\Temp\\ipykernel_3060\\324634148.py:25: SettingWithCopyWarning: \n",
      "A value is trying to be set on a copy of a slice from a DataFrame\n",
      "\n",
      "See the caveats in the documentation: https://pandas.pydata.org/pandas-docs/stable/user_guide/indexing.html#returning-a-view-versus-a-copy\n",
      "  X['Type of Content'].replace(['Movie', 'Series'], [0, 1], inplace=True)\n"
     ]
    }
   ],
   "source": [
    "# Lets convert Votes/Gross/Rating/Runtime into other Dtype first\n",
    "\n",
    "def change_votes(x):\n",
    "   return int(re.sub(r'\\D' , '', x))\n",
    "\n",
    "def change_runtime(x):\n",
    "   return int((re.findall(r'\\d+', x))[0])\n",
    "\n",
    "def change_rating(x):\n",
    "   return float(x)\n",
    "\n",
    "def change_gross(x):\n",
    "   try:\n",
    "      return float((re.findall(r'\\d+.\\d+' , x))[0])\n",
    "   except:\n",
    "      return np.NaN\n",
    "\n",
    "X['Votes'] = X['Votes'].apply(change_votes)\n",
    "X['Gross'] = X['Gross'].apply(change_gross)\n",
    "X['Runtime'] = X['Runtime'].apply(change_runtime)\n",
    "X['Rating'] = X['Rating'].apply(change_rating)\n",
    "\n",
    "X.rename(columns= {'Runtime' : 'Runtime (Minutes)', 'Gross' : 'Gross (M)'}, inplace= True)\n",
    "\n",
    "X['Type of Content'].replace(['Movie', 'Series'], [0, 1], inplace=True)"
   ]
  },
  {
   "cell_type": "code",
   "execution_count": 189,
   "metadata": {},
   "outputs": [
    {
     "name": "stderr",
     "output_type": "stream",
     "text": [
      "C:\\Users\\keera\\AppData\\Local\\Temp\\ipykernel_3060\\1511575996.py:4: SettingWithCopyWarning: \n",
      "A value is trying to be set on a copy of a slice from a DataFrame.\n",
      "Try using .loc[row_indexer,col_indexer] = value instead\n",
      "\n",
      "See the caveats in the documentation: https://pandas.pydata.org/pandas-docs/stable/user_guide/indexing.html#returning-a-view-versus-a-copy\n",
      "  X['Rating'] = X['Rating'].apply(convert)\n"
     ]
    }
   ],
   "source": [
    "def convert(x):\n",
    "    return round(float(x))\n",
    "\n",
    "X['Rating'] = X['Rating'].apply(convert)"
   ]
  },
  {
   "cell_type": "code",
   "execution_count": 190,
   "metadata": {},
   "outputs": [
    {
     "name": "stdout",
     "output_type": "stream",
     "text": [
      "<class 'pandas.core.frame.DataFrame'>\n",
      "Int64Index: 6763 entries, 0 to 7302\n",
      "Data columns (total 14 columns):\n",
      " #   Column              Non-Null Count  Dtype  \n",
      "---  ------              --------------  -----  \n",
      " 0   Popularity Ranking  6763 non-null   int64  \n",
      " 1   Name                6763 non-null   object \n",
      " 2   Released            6763 non-null   int64  \n",
      " 3   Finished            6763 non-null   object \n",
      " 4   Certificate         6763 non-null   object \n",
      " 5   Runtime (Minutes)   6763 non-null   int64  \n",
      " 6   Genre               6763 non-null   object \n",
      " 7   Rating              6763 non-null   int64  \n",
      " 8   Summary             6763 non-null   object \n",
      " 9   Director            4476 non-null   object \n",
      " 10  Stars               6762 non-null   object \n",
      " 11  Votes               6763 non-null   int64  \n",
      " 12  Gross (M)           3436 non-null   float64\n",
      " 13  Type of Content     6763 non-null   int64  \n",
      "dtypes: float64(1), int64(6), object(7)\n",
      "memory usage: 792.5+ KB\n"
     ]
    }
   ],
   "source": [
    "X.info()"
   ]
  },
  {
   "cell_type": "code",
   "execution_count": 193,
   "metadata": {},
   "outputs": [
    {
     "data": {
      "text/plain": [
       "Name           6486\n",
       "Finished         99\n",
       "Certificate      33\n",
       "Genre           438\n",
       "Summary        6763\n",
       "Director       2014\n",
       "Stars          6728\n",
       "dtype: int64"
      ]
     },
     "execution_count": 193,
     "metadata": {},
     "output_type": "execute_result"
    }
   ],
   "source": [
    "X[['Name', 'Finished', 'Certificate', 'Genre', 'Summary', 'Director', 'Stars']].nunique()"
   ]
  },
  {
   "attachments": {},
   "cell_type": "markdown",
   "metadata": {},
   "source": [
    "Since there are alot of unique values which will incerease the features in our dataset drastically, so we are not converting any more values to int/float. We can apply it on Certificate, but that will be extended on the project"
   ]
  },
  {
   "attachments": {},
   "cell_type": "markdown",
   "metadata": {},
   "source": [
    "# Checking outliers (STEP 6)"
   ]
  },
  {
   "cell_type": "code",
   "execution_count": 102,
   "metadata": {},
   "outputs": [
    {
     "data": {
      "text/html": [
       "<div>\n",
       "<style scoped>\n",
       "    .dataframe tbody tr th:only-of-type {\n",
       "        vertical-align: middle;\n",
       "    }\n",
       "\n",
       "    .dataframe tbody tr th {\n",
       "        vertical-align: top;\n",
       "    }\n",
       "\n",
       "    .dataframe thead th {\n",
       "        text-align: right;\n",
       "    }\n",
       "</style>\n",
       "<table border=\"1\" class=\"dataframe\">\n",
       "  <thead>\n",
       "    <tr style=\"text-align: right;\">\n",
       "      <th></th>\n",
       "      <th>Popularity Ranking</th>\n",
       "      <th>Released</th>\n",
       "      <th>Runtime (Minutes)</th>\n",
       "      <th>Rating</th>\n",
       "      <th>Votes</th>\n",
       "      <th>Gross (M)</th>\n",
       "      <th>Type of Content</th>\n",
       "    </tr>\n",
       "  </thead>\n",
       "  <tbody>\n",
       "    <tr>\n",
       "      <th>count</th>\n",
       "      <td>6763.000000</td>\n",
       "      <td>6763.00000</td>\n",
       "      <td>6763.000000</td>\n",
       "      <td>6763.000000</td>\n",
       "      <td>6.763000e+03</td>\n",
       "      <td>3436.000000</td>\n",
       "      <td>6763.000000</td>\n",
       "    </tr>\n",
       "    <tr>\n",
       "      <th>mean</th>\n",
       "      <td>2221.189561</td>\n",
       "      <td>2006.92252</td>\n",
       "      <td>90.305486</td>\n",
       "      <td>6.905855</td>\n",
       "      <td>1.226824e+05</td>\n",
       "      <td>68.423786</td>\n",
       "      <td>0.338164</td>\n",
       "    </tr>\n",
       "    <tr>\n",
       "      <th>std</th>\n",
       "      <td>1434.942550</td>\n",
       "      <td>15.62487</td>\n",
       "      <td>44.678438</td>\n",
       "      <td>1.020651</td>\n",
       "      <td>2.022425e+05</td>\n",
       "      <td>86.538941</td>\n",
       "      <td>0.473119</td>\n",
       "    </tr>\n",
       "    <tr>\n",
       "      <th>min</th>\n",
       "      <td>1.000000</td>\n",
       "      <td>1920.00000</td>\n",
       "      <td>4.000000</td>\n",
       "      <td>1.600000</td>\n",
       "      <td>1.000000e+01</td>\n",
       "      <td>0.000000</td>\n",
       "      <td>0.000000</td>\n",
       "    </tr>\n",
       "    <tr>\n",
       "      <th>25%</th>\n",
       "      <td>959.000000</td>\n",
       "      <td>1999.00000</td>\n",
       "      <td>55.000000</td>\n",
       "      <td>6.300000</td>\n",
       "      <td>1.425850e+04</td>\n",
       "      <td>14.780000</td>\n",
       "      <td>0.000000</td>\n",
       "    </tr>\n",
       "    <tr>\n",
       "      <th>50%</th>\n",
       "      <td>2070.000000</td>\n",
       "      <td>2012.00000</td>\n",
       "      <td>98.000000</td>\n",
       "      <td>7.000000</td>\n",
       "      <td>5.462800e+04</td>\n",
       "      <td>41.470000</td>\n",
       "      <td>0.000000</td>\n",
       "    </tr>\n",
       "    <tr>\n",
       "      <th>75%</th>\n",
       "      <td>3416.500000</td>\n",
       "      <td>2019.00000</td>\n",
       "      <td>116.000000</td>\n",
       "      <td>7.600000</td>\n",
       "      <td>1.432480e+05</td>\n",
       "      <td>88.730000</td>\n",
       "      <td>1.000000</td>\n",
       "    </tr>\n",
       "    <tr>\n",
       "      <th>max</th>\n",
       "      <td>4999.000000</td>\n",
       "      <td>2023.00000</td>\n",
       "      <td>566.000000</td>\n",
       "      <td>9.500000</td>\n",
       "      <td>2.714650e+06</td>\n",
       "      <td>936.660000</td>\n",
       "      <td>1.000000</td>\n",
       "    </tr>\n",
       "  </tbody>\n",
       "</table>\n",
       "</div>"
      ],
      "text/plain": [
       "       Popularity Ranking    Released  Runtime (Minutes)       Rating  \\\n",
       "count         6763.000000  6763.00000        6763.000000  6763.000000   \n",
       "mean          2221.189561  2006.92252          90.305486     6.905855   \n",
       "std           1434.942550    15.62487          44.678438     1.020651   \n",
       "min              1.000000  1920.00000           4.000000     1.600000   \n",
       "25%            959.000000  1999.00000          55.000000     6.300000   \n",
       "50%           2070.000000  2012.00000          98.000000     7.000000   \n",
       "75%           3416.500000  2019.00000         116.000000     7.600000   \n",
       "max           4999.000000  2023.00000         566.000000     9.500000   \n",
       "\n",
       "              Votes    Gross (M)  Type of Content  \n",
       "count  6.763000e+03  3436.000000      6763.000000  \n",
       "mean   1.226824e+05    68.423786         0.338164  \n",
       "std    2.022425e+05    86.538941         0.473119  \n",
       "min    1.000000e+01     0.000000         0.000000  \n",
       "25%    1.425850e+04    14.780000         0.000000  \n",
       "50%    5.462800e+04    41.470000         0.000000  \n",
       "75%    1.432480e+05    88.730000         1.000000  \n",
       "max    2.714650e+06   936.660000         1.000000  "
      ]
     },
     "execution_count": 102,
     "metadata": {},
     "output_type": "execute_result"
    }
   ],
   "source": [
    "X.describe()"
   ]
  },
  {
   "cell_type": "code",
   "execution_count": 236,
   "metadata": {},
   "outputs": [
    {
     "data": {
      "image/png": "[encoded data removed]",
      "text/plain": [
       "<Figure size 640x480 with 4 Axes>"
      ]
     },
     "metadata": {},
     "output_type": "display_data"
    }
   ],
   "source": [
    "fig, ax = plt.subplots(2,2)\n",
    "boxplot_data = X['Runtime (Minutes)'].values\n",
    "rating_data = X['Rating'].values\n",
    "votes_data = X['Votes'].values\n",
    "runtime_data = X['Released'].values\n",
    "ax[0,0].boxplot(boxplot_data)\n",
    "ax[0,1].boxplot(rating_data)\n",
    "ax[1,0].boxplot(votes_data)\n",
    "ax[1,1].boxplot(runtime_data)\n",
    "plt.show()"
   ]
  },
  {
   "cell_type": "code",
   "execution_count": 237,
   "metadata": {},
   "outputs": [
    {
     "name": "stdout",
     "output_type": "stream",
     "text": [
      "Popularity Ranking      2457.50\n",
      "Released                  20.00\n",
      "Runtime (Minutes)         61.00\n",
      "Rating                     2.00\n",
      "Votes                 128989.50\n",
      "Gross (M)                 73.95\n",
      "Type of Content            1.00\n",
      "dtype: float64\n"
     ]
    }
   ],
   "source": [
    "Q1 = X.quantile(0.25)\n",
    "Q3 = X.quantile(0.75)\n",
    "IQR = Q3 - Q1\n",
    "LW = Q1 - 1.5*IQR\n",
    "UW = Q3 + 1.5*IQR\n",
    "print(IQR)"
   ]
  },
  {
   "cell_type": "code",
   "execution_count": 238,
   "metadata": {},
   "outputs": [
    {
     "name": "stderr",
     "output_type": "stream",
     "text": [
      "C:\\Users\\keera\\AppData\\Local\\Temp\\ipykernel_20872\\4158904436.py:1: FutureWarning: Automatic reindexing on DataFrame vs Series comparisons is deprecated and will raise ValueError in a future version. Do `left, right = left.align(right, axis=1, copy=False)` before e.g. `left == right`\n",
      "  (((X < LW) | (X > UW))).value_counts()\n"
     ]
    },
    {
     "data": {
      "text/plain": [
       "Certificate  Director  Finished  Genre  Gross (M)  Name   Popularity Ranking  Rating  Released  Runtime (Minutes)  Stars  Summary  Type of Content  Votes\n",
       "False        False     False     False  False      False  False               False   False     False              False  False    False            False    5867\n",
       "                                                                                                                                                    True      397\n",
       "                                                                                      True      False              False  False    False            False     198\n",
       "                                        True       False  False               False   False     False              False  False    False            True      175\n",
       "                                                                                                                                                    False      52\n",
       "                                        False      False  False               False   False     True               False  False    False            False      46\n",
       "                                                                                      True      False              False  False    False            True       12\n",
       "                                                                              True    False     False              False  False    False            False       8\n",
       "                                                                              False   True      True               False  False    False            False       5\n",
       "                                                                                      False     True               False  False    False            True        3\n",
       "dtype: int64"
      ]
     },
     "execution_count": 238,
     "metadata": {},
     "output_type": "execute_result"
    }
   ],
   "source": [
    "(((X < LW) | (X > UW))).value_counts()"
   ]
  },
  {
   "attachments": {},
   "cell_type": "markdown",
   "metadata": {},
   "source": [
    "# Addressing Outliers (STEP 7)"
   ]
  },
  {
   "cell_type": "code",
   "execution_count": 198,
   "metadata": {},
   "outputs": [],
   "source": [
    "outliers_column_name = LW.index"
   ]
  },
  {
   "attachments": {},
   "cell_type": "markdown",
   "metadata": {},
   "source": [
    "### Now lets address outliers using Quantile-based Flooring and Capping first"
   ]
  },
  {
   "cell_type": "code",
   "execution_count": 239,
   "metadata": {},
   "outputs": [],
   "source": [
    "dummy_db = X.copy()"
   ]
  },
  {
   "cell_type": "code",
   "execution_count": 240,
   "metadata": {},
   "outputs": [],
   "source": [
    "floor_value = dummy_db.quantile(0.01)\n",
    "ceiling_value = dummy_db.quantile(0.99)"
   ]
  },
  {
   "cell_type": "code",
   "execution_count": null,
   "metadata": {},
   "outputs": [],
   "source": [
    "for i, j in zip(outliers_column_name, range(len(outliers_column_name))):\n",
    "    \n",
    "    dummy_db[i] = np.where(dummy_db[i] < floor_value[j], floor_value[j], dummy_db[i])\n",
    "    dummy_db[i] = np.where(dummy_db[i] > ceiling_value[j], ceiling_value[j], dummy_db[i])"
   ]
  },
  {
   "cell_type": "code",
   "execution_count": 226,
   "metadata": {},
   "outputs": [
    {
     "data": {
      "image/png": "[encoded data removed]",
      "text/plain": [
       "<Figure size 640x480 with 4 Axes>"
      ]
     },
     "metadata": {},
     "output_type": "display_data"
    }
   ],
   "source": [
    "fig, ax = plt.subplots(2,2)\n",
    "boxplot_data = dummy_db['Runtime (Minutes)'].values\n",
    "rating_data = dummy_db['Rating'].values\n",
    "votes_data = dummy_db['Votes'].values\n",
    "runtime_data = dummy_db['Released'].values\n",
    "ax[0,0].boxplot(boxplot_data)\n",
    "ax[0,1].boxplot(rating_data)\n",
    "ax[1,0].boxplot(votes_data)\n",
    "ax[1,1].boxplot(runtime_data)\n",
    "plt.show()"
   ]
  },
  {
   "cell_type": "code",
   "execution_count": 243,
   "metadata": {},
   "outputs": [
    {
     "name": "stderr",
     "output_type": "stream",
     "text": [
      "C:\\Users\\keera\\AppData\\Local\\Temp\\ipykernel_20872\\1515554613.py:1: FutureWarning: Automatic reindexing on DataFrame vs Series comparisons is deprecated and will raise ValueError in a future version. Do `left, right = left.align(right, axis=1, copy=False)` before e.g. `left == right`\n",
      "  (((dummy_db < LW) | (dummy_db > UW))).value_counts()\n"
     ]
    },
    {
     "data": {
      "text/plain": [
       "Certificate  Director  Finished  Genre  Gross (M)  Name   Popularity Ranking  Rating  Released  Runtime (Minutes)  Stars  Summary  Type of Content  Votes\n",
       "False        False     False     False  False      False  False               False   False     False              False  False    False            False    5921\n",
       "                                                                                                                                                    True      400\n",
       "                                                                                      True      False              False  False    False            False     203\n",
       "                                        True       False  False               False   False     False              False  False    False            True      175\n",
       "                                                                                                                                                    False      52\n",
       "                                        False      False  False               False   True      False              False  False    False            True       12\n",
       "dtype: int64"
      ]
     },
     "execution_count": 243,
     "metadata": {},
     "output_type": "execute_result"
    }
   ],
   "source": [
    "(((dummy_db < LW) | (dummy_db > UW))).value_counts()"
   ]
  },
  {
   "attachments": {},
   "cell_type": "markdown",
   "metadata": {},
   "source": [
    "By converting .1% of our outliers we are only able to remove ~100 outliers "
   ]
  },
  {
   "attachments": {},
   "cell_type": "markdown",
   "metadata": {},
   "source": [
    "### Trimming"
   ]
  },
  {
   "cell_type": "code",
   "execution_count": 244,
   "metadata": {},
   "outputs": [
    {
     "name": "stdout",
     "output_type": "stream",
     "text": [
      "Popularity Ranking      2457.50\n",
      "Released                  20.00\n",
      "Runtime (Minutes)         61.00\n",
      "Rating                     2.00\n",
      "Votes                 128989.50\n",
      "Gross (M)                 73.95\n",
      "Type of Content            1.00\n",
      "dtype: float64\n"
     ]
    }
   ],
   "source": [
    "# Now lets trim on the above dummy db\n",
    "\n",
    "D_Q1 = dummy_db.quantile(0.25)\n",
    "D_Q3 = dummy_db.quantile(0.75)\n",
    "D_IQR = D_Q3 - D_Q1\n",
    "D_LW = D_Q1 - 1.5*D_IQR\n",
    "D_UW = D_Q3 + 1.5*D_IQR\n",
    "print(D_IQR)"
   ]
  },
  {
   "cell_type": "code",
   "execution_count": 252,
   "metadata": {},
   "outputs": [
    {
     "data": {
      "text/plain": [
       "1046"
      ]
     },
     "execution_count": 252,
     "metadata": {},
     "output_type": "execute_result"
    }
   ],
   "source": [
    "index = []\n",
    "for i, j in zip(outliers_column_name, range(len(outliers_column_name))):\n",
    "    index.extend(dummy_db[(dummy_db[i] >= D_UW[j]) | (dummy_db[i] <= D_LW[j])].index)\n",
    "\n",
    "len((index))"
   ]
  },
  {
   "cell_type": "code",
   "execution_count": 253,
   "metadata": {},
   "outputs": [
    {
     "data": {
      "text/plain": [
       "859"
      ]
     },
     "execution_count": 253,
     "metadata": {},
     "output_type": "execute_result"
    }
   ],
   "source": [
    "# There might be some index which have 2 outliers so they are appearing twice, lets first handle this\n",
    "\n",
    "index = list(set(index))\n",
    "len(index)"
   ]
  },
  {
   "cell_type": "code",
   "execution_count": 254,
   "metadata": {},
   "outputs": [],
   "source": [
    "dummy_db.drop(index, inplace= True)"
   ]
  },
  {
   "cell_type": "code",
   "execution_count": 257,
   "metadata": {},
   "outputs": [
    {
     "name": "stdout",
     "output_type": "stream",
     "text": [
      "(6763, 14)\n",
      "(5904, 14)\n"
     ]
    }
   ],
   "source": [
    "print(X.shape)\n",
    "print(dummy_db.shape)"
   ]
  },
  {
   "attachments": {},
   "cell_type": "markdown",
   "metadata": {},
   "source": [
    "### Log Transformation"
   ]
  },
  {
   "cell_type": "code",
   "execution_count": 258,
   "metadata": {},
   "outputs": [],
   "source": [
    "dummy_db = X.copy()"
   ]
  },
  {
   "cell_type": "code",
   "execution_count": 268,
   "metadata": {},
   "outputs": [
    {
     "data": {
      "image/png": "[encoded data removed]",
      "text/plain": [
       "<Figure size 1000x500 with 8 Axes>"
      ]
     },
     "metadata": {},
     "output_type": "display_data"
    }
   ],
   "source": [
    "dummy_db.hist(bins= 10, layout= (2, 4), figsize= (10,5))\n",
    "plt.show()"
   ]
  },
  {
   "cell_type": "code",
   "execution_count": 270,
   "metadata": {},
   "outputs": [
    {
     "name": "stderr",
     "output_type": "stream",
     "text": [
      "C:\\Users\\keera\\AppData\\Local\\Temp\\ipykernel_20872\\755786058.py:1: FutureWarning: Dropping of nuisance columns in DataFrame reductions (with 'numeric_only=None') is deprecated; in a future version this will raise TypeError.  Select only valid columns before calling the reduction.\n",
      "  dummy_db.skew()\n"
     ]
    },
    {
     "data": {
      "text/plain": [
       "Popularity Ranking    0.245950\n",
       "Released             -1.534668\n",
       "Runtime (Minutes)     1.725246\n",
       "Rating               -0.603475\n",
       "Votes                 4.382128\n",
       "Gross (M)             3.222317\n",
       "Type of Content       0.684327\n",
       "dtype: float64"
      ]
     },
     "execution_count": 270,
     "metadata": {},
     "output_type": "execute_result"
    }
   ],
   "source": [
    "dummy_db.skew()"
   ]
  },
  {
   "cell_type": "code",
   "execution_count": 271,
   "metadata": {},
   "outputs": [
    {
     "name": "stderr",
     "output_type": "stream",
     "text": [
      "C:\\Users\\keera\\AppData\\Local\\Temp\\ipykernel_20872\\1091718876.py:3: FutureWarning: Dropping of nuisance columns in DataFrame reductions (with 'numeric_only=None') is deprecated; in a future version this will raise TypeError.  Select only valid columns before calling the reduction.\n",
      "  dummy_db.skew()\n"
     ]
    },
    {
     "data": {
      "text/plain": [
       "Popularity Ranking   -1.688582\n",
       "Released             -1.562210\n",
       "Runtime (Minutes)    -0.992233\n",
       "Rating               -1.475190\n",
       "Votes                -0.599974\n",
       "Gross (M)             0.361894\n",
       "Type of Content       0.000000\n",
       "dtype: float64"
      ]
     },
     "execution_count": 271,
     "metadata": {},
     "output_type": "execute_result"
    }
   ],
   "source": [
    "for i in outliers_column_name:\n",
    "    dummy_db[i] = dummy_db[i].map(lambda x: np.log(x) if x > 0 else 0)\n",
    "dummy_db.skew()"
   ]
  },
  {
   "cell_type": "code",
   "execution_count": 272,
   "metadata": {},
   "outputs": [
    {
     "data": {
      "image/png": "[encoded data removed]",
      "text/plain": [
       "<Figure size 1000x500 with 8 Axes>"
      ]
     },
     "metadata": {},
     "output_type": "display_data"
    }
   ],
   "source": [
    "dummy_db.hist(bins= 10, layout= (2, 4), figsize= (10,5))\n",
    "plt.show()"
   ]
  },
  {
   "attachments": {},
   "cell_type": "markdown",
   "metadata": {},
   "source": [
    "After seeing the data columns above and data; we will not remove outliers since those data does make sense in our data"
   ]
  },
  {
   "attachments": {},
   "cell_type": "markdown",
   "metadata": {},
   "source": [
    "# Unsupervised Learning K-Means (STEP 8)"
   ]
  },
  {
   "cell_type": "code",
   "execution_count": 53,
   "metadata": {},
   "outputs": [],
   "source": [
    "from sklearn.cluster import KMeans"
   ]
  },
  {
   "cell_type": "code",
   "execution_count": 54,
   "metadata": {},
   "outputs": [
    {
     "name": "stdout",
     "output_type": "stream",
     "text": [
      "<class 'pandas.core.frame.DataFrame'>\n",
      "Int64Index: 6763 entries, 0 to 7302\n",
      "Data columns (total 14 columns):\n",
      " #   Column              Non-Null Count  Dtype  \n",
      "---  ------              --------------  -----  \n",
      " 0   Popularity Ranking  6763 non-null   int64  \n",
      " 1   Name                6763 non-null   object \n",
      " 2   Released            6763 non-null   int64  \n",
      " 3   Finished            6763 non-null   object \n",
      " 4   Certificate         6763 non-null   object \n",
      " 5   Runtime (Minutes)   6763 non-null   int64  \n",
      " 6   Genre               6763 non-null   object \n",
      " 7   Rating              6763 non-null   int64  \n",
      " 8   Summary             6763 non-null   object \n",
      " 9   Director            4476 non-null   object \n",
      " 10  Stars               6762 non-null   object \n",
      " 11  Votes               6763 non-null   int64  \n",
      " 12  Gross (M)           3436 non-null   float64\n",
      " 13  Type of Content     6763 non-null   int64  \n",
      "dtypes: float64(1), int64(6), object(7)\n",
      "memory usage: 792.5+ KB\n"
     ]
    }
   ],
   "source": [
    "# Not using float64 as it contains NaN values\n",
    "\n",
    "X.info()"
   ]
  },
  {
   "cell_type": "code",
   "execution_count": 128,
   "metadata": {},
   "outputs": [],
   "source": [
    "data = X.select_dtypes(include= ['int64'])"
   ]
  },
  {
   "cell_type": "code",
   "execution_count": 129,
   "metadata": {},
   "outputs": [
    {
     "data": {
      "image/png": "[encoded data removed]",
      "text/plain": [
       "<Figure size 640x480 with 2 Axes>"
      ]
     },
     "metadata": {},
     "output_type": "display_data"
    }
   ],
   "source": [
    "corr = data.corr()\n",
    "sns.heatmap(corr)\n",
    "plt.show()"
   ]
  },
  {
   "cell_type": "code",
   "execution_count": 130,
   "metadata": {},
   "outputs": [
    {
     "data": {
      "image/png": "[encoded data removed]",
      "text/plain": [
       "<Figure size 640x480 with 1 Axes>"
      ]
     },
     "metadata": {},
     "output_type": "display_data"
    }
   ],
   "source": [
    "inertias = []\n",
    "\n",
    "for i in range(1,10):\n",
    "    kmeans = KMeans(n_clusters=i)\n",
    "    kmeans.fit(data)\n",
    "    inertias.append(kmeans.inertia_)\n",
    "\n",
    "plt.plot(range(1,10), inertias, marker='o')\n",
    "plt.title('Elbow method')\n",
    "plt.xlabel('Number of clusters')\n",
    "plt.ylabel('Inertia')\n",
    "plt.show()"
   ]
  },
  {
   "cell_type": "code",
   "execution_count": 131,
   "metadata": {},
   "outputs": [],
   "source": [
    "kmeans = KMeans(n_clusters= 4)\n",
    "kmeans.fit(data)\n",
    "data['Group'] = kmeans.labels_.astype(int)"
   ]
  },
  {
   "cell_type": "code",
   "execution_count": 132,
   "metadata": {},
   "outputs": [
    {
     "data": {
      "text/plain": [
       "0    5072\n",
       "2    1308\n",
       "1     331\n",
       "3      52\n",
       "Name: Group, dtype: int64"
      ]
     },
     "execution_count": 132,
     "metadata": {},
     "output_type": "execute_result"
    }
   ],
   "source": [
    "data['Group'].value_counts()"
   ]
  },
  {
   "cell_type": "code",
   "execution_count": 133,
   "metadata": {},
   "outputs": [
    {
     "data": {
      "text/html": [
       "<div>\n",
       "<style scoped>\n",
       "    .dataframe tbody tr th:only-of-type {\n",
       "        vertical-align: middle;\n",
       "    }\n",
       "\n",
       "    .dataframe tbody tr th {\n",
       "        vertical-align: top;\n",
       "    }\n",
       "\n",
       "    .dataframe thead th {\n",
       "        text-align: right;\n",
       "    }\n",
       "</style>\n",
       "<table border=\"1\" class=\"dataframe\">\n",
       "  <thead>\n",
       "    <tr style=\"text-align: right;\">\n",
       "      <th></th>\n",
       "      <th>Popularity Ranking</th>\n",
       "      <th>Released</th>\n",
       "      <th>Runtime (Minutes)</th>\n",
       "      <th>Rating</th>\n",
       "      <th>Votes</th>\n",
       "      <th>Type of Content</th>\n",
       "      <th>Group</th>\n",
       "    </tr>\n",
       "  </thead>\n",
       "  <tbody>\n",
       "    <tr>\n",
       "      <th>0</th>\n",
       "      <td>1</td>\n",
       "      <td>2023</td>\n",
       "      <td>122</td>\n",
       "      <td>7</td>\n",
       "      <td>20665</td>\n",
       "      <td>0</td>\n",
       "      <td>0</td>\n",
       "    </tr>\n",
       "    <tr>\n",
       "      <th>1</th>\n",
       "      <td>2</td>\n",
       "      <td>2023</td>\n",
       "      <td>116</td>\n",
       "      <td>7</td>\n",
       "      <td>21205</td>\n",
       "      <td>0</td>\n",
       "      <td>0</td>\n",
       "    </tr>\n",
       "    <tr>\n",
       "      <th>2</th>\n",
       "      <td>3</td>\n",
       "      <td>2022</td>\n",
       "      <td>139</td>\n",
       "      <td>8</td>\n",
       "      <td>371173</td>\n",
       "      <td>0</td>\n",
       "      <td>2</td>\n",
       "    </tr>\n",
       "    <tr>\n",
       "      <th>3</th>\n",
       "      <td>4</td>\n",
       "      <td>2023</td>\n",
       "      <td>95</td>\n",
       "      <td>6</td>\n",
       "      <td>22380</td>\n",
       "      <td>0</td>\n",
       "      <td>0</td>\n",
       "    </tr>\n",
       "    <tr>\n",
       "      <th>4</th>\n",
       "      <td>5</td>\n",
       "      <td>2022</td>\n",
       "      <td>117</td>\n",
       "      <td>8</td>\n",
       "      <td>89630</td>\n",
       "      <td>0</td>\n",
       "      <td>0</td>\n",
       "    </tr>\n",
       "  </tbody>\n",
       "</table>\n",
       "</div>"
      ],
      "text/plain": [
       "   Popularity Ranking  Released  Runtime (Minutes)  Rating   Votes  \\\n",
       "0                   1      2023                122       7   20665   \n",
       "1                   2      2023                116       7   21205   \n",
       "2                   3      2022                139       8  371173   \n",
       "3                   4      2023                 95       6   22380   \n",
       "4                   5      2022                117       8   89630   \n",
       "\n",
       "   Type of Content  Group  \n",
       "0                0      0  \n",
       "1                0      0  \n",
       "2                0      2  \n",
       "3                0      0  \n",
       "4                0      0  "
      ]
     },
     "execution_count": 133,
     "metadata": {},
     "output_type": "execute_result"
    }
   ],
   "source": [
    "data.head(5)"
   ]
  },
  {
   "cell_type": "code",
   "execution_count": 134,
   "metadata": {},
   "outputs": [
    {
     "data": {
      "image/png": "[encoded data removed]",
      "text/plain": [
       "<Figure size 640x480 with 1 Axes>"
      ]
     },
     "metadata": {},
     "output_type": "display_data"
    }
   ],
   "source": [
    "sns.scatterplot(data= data, y= 'Votes', x= 'Released', hue= 'Group')\n",
    "plt.legend(loc='upper left')\n",
    "plt.show()"
   ]
  },
  {
   "attachments": {},
   "cell_type": "markdown",
   "metadata": {},
   "source": [
    "# Some NLP Techniques (STEP 9)"
   ]
  },
  {
   "cell_type": "code",
   "execution_count": 155,
   "metadata": {},
   "outputs": [],
   "source": [
    "import nltk\n",
    "from nltk.tokenize import word_tokenize\n",
    "from nltk.stem import PorterStemmer\n",
    "from nltk.stem import WordNetLemmatizer\n",
    "from nltk.corpus import stopwords\n",
    "from string import punctuation"
   ]
  },
  {
   "attachments": {},
   "cell_type": "markdown",
   "metadata": {},
   "source": [
    "#### Tokenizing"
   ]
  },
  {
   "cell_type": "code",
   "execution_count": 143,
   "metadata": {},
   "outputs": [
    {
     "name": "stderr",
     "output_type": "stream",
     "text": [
      "C:\\Users\\keera\\AppData\\Local\\Temp\\ipykernel_3060\\689665636.py:2: SettingWithCopyWarning: \n",
      "A value is trying to be set on a copy of a slice from a DataFrame.\n",
      "Try using .loc[row_indexer,col_indexer] = value instead\n",
      "\n",
      "See the caveats in the documentation: https://pandas.pydata.org/pandas-docs/stable/user_guide/indexing.html#returning-a-view-versus-a-copy\n",
      "  X['Tokenized_Word'] = X['Summary'].apply(lambda x: word_tokenize(x))\n"
     ]
    }
   ],
   "source": [
    "# Tokenizing\n",
    "X['Tokenized_Word'] = X['Summary'].apply(lambda x: word_tokenize(x))"
   ]
  },
  {
   "attachments": {},
   "cell_type": "markdown",
   "metadata": {},
   "source": [
    "####  Removing Stopwords and punctuations"
   ]
  },
  {
   "cell_type": "code",
   "execution_count": 172,
   "metadata": {},
   "outputs": [
    {
     "name": "stderr",
     "output_type": "stream",
     "text": [
      "[nltk_data] Downloading package stopwords to\n",
      "[nltk_data]     C:\\Users\\keera\\AppData\\Roaming\\nltk_data...\n",
      "[nltk_data]   Package stopwords is already up-to-date!\n"
     ]
    }
   ],
   "source": [
    "nltk.download('stopwords')\n",
    "stopword = stopwords.words('english')\n",
    "punctuation = list(punctuation)"
   ]
  },
  {
   "cell_type": "code",
   "execution_count": 173,
   "metadata": {},
   "outputs": [
    {
     "name": "stderr",
     "output_type": "stream",
     "text": [
      "C:\\Users\\keera\\AppData\\Local\\Temp\\ipykernel_3060\\1023688729.py:10: SettingWithCopyWarning: \n",
      "A value is trying to be set on a copy of a slice from a DataFrame.\n",
      "Try using .loc[row_indexer,col_indexer] = value instead\n",
      "\n",
      "See the caveats in the documentation: https://pandas.pydata.org/pandas-docs/stable/user_guide/indexing.html#returning-a-view-versus-a-copy\n",
      "  X['Cleaned_Token'] = X['Tokenized_Word'].apply(lambda x: clean(x))\n"
     ]
    }
   ],
   "source": [
    "#  Removing Stopwords and punctuations\n",
    "\n",
    "def clean(x):\n",
    "    token = []\n",
    "    for i in x:\n",
    "        if (i not in stopword) and (i not in punctuation):\n",
    "            token.append(i)\n",
    "    return token\n",
    "\n",
    "X['Cleaned_Token'] = X['Tokenized_Word'].apply(lambda x: clean(x))"
   ]
  },
  {
   "attachments": {},
   "cell_type": "markdown",
   "metadata": {},
   "source": [
    "#### Stemming"
   ]
  },
  {
   "cell_type": "code",
   "execution_count": 175,
   "metadata": {},
   "outputs": [
    {
     "name": "stderr",
     "output_type": "stream",
     "text": [
      "C:\\Users\\keera\\AppData\\Local\\Temp\\ipykernel_3060\\1870536170.py:5: SettingWithCopyWarning: \n",
      "A value is trying to be set on a copy of a slice from a DataFrame.\n",
      "Try using .loc[row_indexer,col_indexer] = value instead\n",
      "\n",
      "See the caveats in the documentation: https://pandas.pydata.org/pandas-docs/stable/user_guide/indexing.html#returning-a-view-versus-a-copy\n",
      "  X['Stem_Token'] = X['Cleaned_Token'].apply(lambda x: stemming(x))\n"
     ]
    }
   ],
   "source": [
    "def stemming(x):\n",
    "    return [porter.stem(z) for z in x]\n",
    "\n",
    "porter = PorterStemmer()\n",
    "X['Stem_Token'] = X['Cleaned_Token'].apply(lambda x: stemming(x))"
   ]
  },
  {
   "attachments": {},
   "cell_type": "markdown",
   "metadata": {},
   "source": [
    "#### Lemmatization"
   ]
  },
  {
   "cell_type": "code",
   "execution_count": 178,
   "metadata": {},
   "outputs": [
    {
     "name": "stderr",
     "output_type": "stream",
     "text": [
      "C:\\Users\\keera\\AppData\\Local\\Temp\\ipykernel_3060\\1065949274.py:5: SettingWithCopyWarning: \n",
      "A value is trying to be set on a copy of a slice from a DataFrame.\n",
      "Try using .loc[row_indexer,col_indexer] = value instead\n",
      "\n",
      "See the caveats in the documentation: https://pandas.pydata.org/pandas-docs/stable/user_guide/indexing.html#returning-a-view-versus-a-copy\n",
      "  X['Lem_Token'] = X['Cleaned_Token'].apply(lambda x: lemmatization(x))\n"
     ]
    }
   ],
   "source": [
    "def lemmatization(x):\n",
    "    return [lem.lemmatize(z, pos='a') for z in x]\n",
    "\n",
    "lem = WordNetLemmatizer()\n",
    "X['Lem_Token'] = X['Cleaned_Token'].apply(lambda x: lemmatization(x))"
   ]
  },
  {
   "cell_type": "code",
   "execution_count": 185,
   "metadata": {},
   "outputs": [
    {
     "data": {
      "text/html": [
       "<div>\n",
       "<style scoped>\n",
       "    .dataframe tbody tr th:only-of-type {\n",
       "        vertical-align: middle;\n",
       "    }\n",
       "\n",
       "    .dataframe tbody tr th {\n",
       "        vertical-align: top;\n",
       "    }\n",
       "\n",
       "    .dataframe thead th {\n",
       "        text-align: right;\n",
       "    }\n",
       "</style>\n",
       "<table border=\"1\" class=\"dataframe\">\n",
       "  <thead>\n",
       "    <tr style=\"text-align: right;\">\n",
       "      <th></th>\n",
       "      <th>Tokenized_Word</th>\n",
       "      <th>Cleaned_Token</th>\n",
       "      <th>Stem_Token</th>\n",
       "      <th>Lem_Token</th>\n",
       "    </tr>\n",
       "  </thead>\n",
       "  <tbody>\n",
       "    <tr>\n",
       "      <th>0</th>\n",
       "      <td>[In, the, next, installment, ,, the, survivors...</td>\n",
       "      <td>[In, next, installment, survivors, Ghostface, ...</td>\n",
       "      <td>[in, next, instal, survivor, ghostfac, kill, l...</td>\n",
       "      <td>[In, next, installment, survivors, Ghostface, ...</td>\n",
       "    </tr>\n",
       "    <tr>\n",
       "      <th>1</th>\n",
       "      <td>[Adonis, has, been, thriving, in, both, his, c...</td>\n",
       "      <td>[Adonis, thriving, career, family, life, child...</td>\n",
       "      <td>[adoni, thrive, career, famili, life, childhoo...</td>\n",
       "      <td>[Adonis, thriving, career, family, life, child...</td>\n",
       "    </tr>\n",
       "    <tr>\n",
       "      <th>2</th>\n",
       "      <td>[A, middle-aged, Chinese, immigrant, is, swept...</td>\n",
       "      <td>[A, middle-aged, Chinese, immigrant, swept, in...</td>\n",
       "      <td>[a, middle-ag, chines, immigr, swept, insan, a...</td>\n",
       "      <td>[A, middle-aged, Chinese, immigrant, swept, in...</td>\n",
       "    </tr>\n",
       "    <tr>\n",
       "      <th>3</th>\n",
       "      <td>[An, oddball, group, of, cops, ,, criminals, ,...</td>\n",
       "      <td>[An, oddball, group, cops, criminals, tourists...</td>\n",
       "      <td>[an, oddbal, group, cop, crimin, tourist, teen...</td>\n",
       "      <td>[An, oddball, group, cops, criminals, tourists...</td>\n",
       "    </tr>\n",
       "    <tr>\n",
       "      <th>4</th>\n",
       "      <td>[A, reclusive, ,, morbidly, obese, English, te...</td>\n",
       "      <td>[A, reclusive, morbidly, obese, English, teach...</td>\n",
       "      <td>[a, reclus, morbidli, obes, english, teacher, ...</td>\n",
       "      <td>[A, reclusive, morbidly, obese, English, teach...</td>\n",
       "    </tr>\n",
       "  </tbody>\n",
       "</table>\n",
       "</div>"
      ],
      "text/plain": [
       "                                      Tokenized_Word  \\\n",
       "0  [In, the, next, installment, ,, the, survivors...   \n",
       "1  [Adonis, has, been, thriving, in, both, his, c...   \n",
       "2  [A, middle-aged, Chinese, immigrant, is, swept...   \n",
       "3  [An, oddball, group, of, cops, ,, criminals, ,...   \n",
       "4  [A, reclusive, ,, morbidly, obese, English, te...   \n",
       "\n",
       "                                       Cleaned_Token  \\\n",
       "0  [In, next, installment, survivors, Ghostface, ...   \n",
       "1  [Adonis, thriving, career, family, life, child...   \n",
       "2  [A, middle-aged, Chinese, immigrant, swept, in...   \n",
       "3  [An, oddball, group, cops, criminals, tourists...   \n",
       "4  [A, reclusive, morbidly, obese, English, teach...   \n",
       "\n",
       "                                          Stem_Token  \\\n",
       "0  [in, next, instal, survivor, ghostfac, kill, l...   \n",
       "1  [adoni, thrive, career, famili, life, childhoo...   \n",
       "2  [a, middle-ag, chines, immigr, swept, insan, a...   \n",
       "3  [an, oddbal, group, cop, crimin, tourist, teen...   \n",
       "4  [a, reclus, morbidli, obes, english, teacher, ...   \n",
       "\n",
       "                                           Lem_Token  \n",
       "0  [In, next, installment, survivors, Ghostface, ...  \n",
       "1  [Adonis, thriving, career, family, life, child...  \n",
       "2  [A, middle-aged, Chinese, immigrant, swept, in...  \n",
       "3  [An, oddball, group, cops, criminals, tourists...  \n",
       "4  [A, reclusive, morbidly, obese, English, teach...  "
      ]
     },
     "execution_count": 185,
     "metadata": {},
     "output_type": "execute_result"
    }
   ],
   "source": [
    "X[['Tokenized_Word', 'Cleaned_Token', 'Stem_Token', 'Lem_Token']].head(5)"
   ]
  },
  {
   "cell_type": "code",
   "execution_count": null,
   "metadata": {},
   "outputs": [],
   "source": []
  }
 ],
 "metadata": {
  "kernelspec": {
   "display_name": "Python 3",
   "language": "python",
   "name": "python3"
  },
  "language_info": {
   "codemirror_mode": {
    "name": "ipython",
    "version": 3
   },
   "file_extension": ".py",
   "mimetype": "text/x-python",
   "name": "python",
   "nbconvert_exporter": "python",
   "pygments_lexer": "ipython3",
   "version": "3.9.13"
  },
  "orig_nbformat": 4,
  "vscode": {
   "interpreter": {
    "hash": "f94b310636db8c203112c87d09ac8d05a463efd75a9987ba0e0d70e3e736fc47"
   }
  }
 },
 "nbformat": 4,
 "nbformat_minor": 2
}
