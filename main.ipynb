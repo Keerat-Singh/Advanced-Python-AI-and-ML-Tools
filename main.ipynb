{
 "cells": [
  {
   "attachments": {},
   "cell_type": "markdown",
   "metadata": {},
   "source": [
    "# Scraping Data from Imdb (STEP 1)"
   ]
  },
  {
   "cell_type": "code",
   "execution_count": 1,
   "metadata": {},
   "outputs": [],
   "source": [
    "import pandas as pd\n",
    "import requests\n",
    "from bs4 import BeautifulSoup\n",
    "import re\n",
    "import numpy as np\n",
    "import matplotlib.pyplot as plt\n",
    "import seaborn as sns"
   ]
  },
  {
   "cell_type": "code",
   "execution_count": 2,
   "metadata": {},
   "outputs": [],
   "source": [
    "# Creating an empty list to add our data\n",
    "main_list = []\n",
    "\n",
    "# Start\n",
    "start = 1\n",
    "\n",
    "# Count\n",
    "count = 250         # Max value is 250"
   ]
  },
  {
   "cell_type": "code",
   "execution_count": 3,
   "metadata": {},
   "outputs": [],
   "source": [
    "URL_MOVIES = f\"https://www.imdb.com/search/title/?title_type=feature&start={start}&count={count}\"\n",
    "URL_SERIES = f\"https://www.imdb.com/search/title/?title_type=tv_series&start={start}&count={count}\"\n",
    "URL_UPCOMING = \"https://www.imdb.com/calendar/?ref_=rlm&region=CA&type=MOVIE\""
   ]
  },
  {
   "cell_type": "code",
   "execution_count": 4,
   "metadata": {},
   "outputs": [
    {
     "name": "stdout",
     "output_type": "stream",
     "text": [
      "40\n"
     ]
    }
   ],
   "source": [
    "# How many data you need\n",
    "total_data = 10000\n",
    "\n",
    "# Total loops\n",
    "loop = total_data//count           # we see 50 data on 1 page at a time\n",
    "\n",
    "print(loop)"
   ]
  },
  {
   "cell_type": "code",
   "execution_count": 9,
   "metadata": {},
   "outputs": [
    {
     "data": {
      "text/plain": [
       "10000"
      ]
     },
     "execution_count": 9,
     "metadata": {},
     "output_type": "execute_result"
    }
   ],
   "source": [
    "total_data"
   ]
  },
  {
   "cell_type": "code",
   "execution_count": 6,
   "metadata": {},
   "outputs": [
    {
     "name": "stdout",
     "output_type": "stream",
     "text": [
      "0\n",
      "1\n",
      "2\n",
      "3\n",
      "4\n",
      "5\n",
      "6\n",
      "7\n",
      "8\n",
      "9\n",
      "10\n",
      "11\n",
      "12\n",
      "13\n",
      "14\n",
      "15\n",
      "16\n",
      "17\n",
      "18\n",
      "19\n",
      "20\n",
      "21\n",
      "22\n",
      "23\n",
      "24\n",
      "25\n",
      "26\n",
      "27\n",
      "28\n",
      "29\n",
      "30\n",
      "31\n",
      "32\n",
      "33\n",
      "34\n",
      "35\n",
      "36\n",
      "37\n",
      "38\n",
      "39\n"
     ]
    }
   ],
   "source": [
    "for i in range(loop//2):\n",
    "    URL_MOVIES = f\"https://www.imdb.com/search/title/?title_type=feature&start={start+(i*count)}&count={count}\"\n",
    "    source = requests.get(URL_MOVIES).text\n",
    "    soup = BeautifulSoup(source, 'lxml')\n",
    "    article = soup.findAll('div', class_='lister-item-content')\n",
    "    main_list += article\n",
    "    print(i)\n",
    "for i in range(loop//2):\n",
    "    URL_SERIES = f\"https://www.imdb.com/search/title/?title_type=tv_series&start={start+(i*count)}&count={count}\"\n",
    "    source = requests.get(URL_SERIES).text\n",
    "    soup = BeautifulSoup(source, 'lxml')\n",
    "    article = soup.findAll('div', class_='lister-item-content')\n",
    "    main_list += article\n",
    "    print((loop//2)+i)"
   ]
  },
  {
   "attachments": {},
   "cell_type": "markdown",
   "metadata": {},
   "source": [
    "## -----------------"
   ]
  },
  {
   "cell_type": "code",
   "execution_count": 7,
   "metadata": {},
   "outputs": [
    {
     "name": "stdout",
     "output_type": "stream",
     "text": [
      "The Little Mermaid\n"
     ]
    }
   ],
   "source": [
    "# print(main_list[2500].h3.a.text)\n",
    "print(main_list[4].h3.a.text)"
   ]
  },
  {
   "cell_type": "code",
   "execution_count": 21,
   "metadata": {},
   "outputs": [],
   "source": [
    "# Some Testing\n",
    "\n",
    "# print(main_list[2500].findAll('p')[3].span.text == 'Votes:')\n",
    "# print(main_list[2500].findAll('p')[3].findAll('span')[1].text)\n",
    "# print(main_list[2500].findAll('p'))\n",
    "# print(main_list[4])"
   ]
  },
  {
   "attachments": {},
   "cell_type": "markdown",
   "metadata": {},
   "source": [
    "All movies have director + stars, whereas series only have stars info"
   ]
  },
  {
   "cell_type": "code",
   "execution_count": 13,
   "metadata": {},
   "outputs": [
    {
     "data": {
      "text/plain": [
       "'(2022)'"
      ]
     },
     "execution_count": 13,
     "metadata": {},
     "output_type": "execute_result"
    }
   ],
   "source": [
    "# print(main_list[4])\n",
    "# print(main_list[4].findAll('p')[3])\n",
    "\n",
    "\n",
    "# temp = ''\n",
    "# for i in main_list[4].findAll('p')[2].findAll('a')[1:]:\n",
    "#     temp += i.text + \", \"\n",
    "\n",
    "# print(temp[:-2])\n",
    "main_list[0].h3.find('span', class_= 'lister-item-year text-muted unbold').text\n",
    "\n",
    "# print(main_list[4].findAll('p')[2].findAll('a')[1:])                                            # For cast\n",
    "# print(main_list[4].findAll('p')[2].findAll())\n",
    "# print(main_list[4].div.div.strong.text)                                                         # Rating\n",
    "# print(main_list[4].findAll('p')[0].findAll('span'))                                \n",
    "# print(main_list[4].findAll('p')[0].find('span', class_='genre').text)                           # Genre                          \n",
    "# print(main_list[4].findAll('p')[0].find('span', class_='runtime').text)                         # Runtime                          \n",
    "# print(main_list[1].findAll('p')[0].find('span', class_= 'certificate').text)                    # Certificate\n",
    "# print((main_list[4].findAll('p')[1].text))                                                      # Summary of the move/series\n",
    "# print((main_list[4].findAll('p')[2]))\n",
    "# print((main_list[4].findAll('p')[3]))                                                           # For Gross and Votes\n",
    "# print(main_list[4].h3.a.text)                                                                   # Name of the movie/series\n",
    "# print(main_list[4].h3.span.text)                                                                # Ranking in the popularity list\n",
    "# print(main_list[4].h3.find('span', class_= 'lister-item-year text-muted unbold').text)          # Year\n",
    "# print(main_list[4].findAll('p', class_= 'text-muted'))"
   ]
  },
  {
   "attachments": {},
   "cell_type": "markdown",
   "metadata": {},
   "source": [
    "## -----------------"
   ]
  },
  {
   "attachments": {},
   "cell_type": "markdown",
   "metadata": {},
   "source": [
    "## Raw data collected"
   ]
  },
  {
   "cell_type": "code",
   "execution_count": 14,
   "metadata": {},
   "outputs": [],
   "source": [
    "# Making list for the information to be extracted\n",
    "popularity_ranking = []\n",
    "name = []\n",
    "rating = []\n",
    "summary = []\n",
    "votes = []\n",
    "cast = []\n",
    "certificate = []\n",
    "runtime = []\n",
    "genre = []\n",
    "year = []\n",
    "director = []\n",
    "gross = []\n",
    "type_of_content = []"
   ]
  },
  {
   "cell_type": "code",
   "execution_count": 15,
   "metadata": {},
   "outputs": [],
   "source": [
    "for i in range(len(main_list)):\n",
    "    temp = ''\n",
    "    try:\n",
    "        popularity_ranking.append(main_list[i].h3.span.text)\n",
    "        name.append(main_list[i].h3.a.text)\n",
    "        certificate.append(main_list[i].findAll('p')[0].find('span', class_= 'certificate').text)\n",
    "        genre.append(main_list[i].findAll('p')[0].find('span', class_='genre').text)\n",
    "        rating.append(main_list[i].div.div.strong.text)\n",
    "        year.append(main_list[i].h3.find('span', class_= 'lister-item-year text-muted unbold').text)\n",
    "        runtime.append(main_list[i].findAll('p')[0].find('span', class_='runtime').text)\n",
    "        summary.append(main_list[i].findAll('p')[1].text)\n",
    "        votes.append(main_list[i].findAll('p')[3].findAll('span')[1].text)\n",
    "        gross.append(main_list[i].findAll('p')[3].findAll('span')[4].text)\n",
    "\n",
    "        if i < (total_data//2):                        # It's a movie\n",
    "            type_of_content.append('Movie')\n",
    "            director.append(main_list[i].findAll('p')[2].findAll('a')[0].text)\n",
    "            for casting in main_list[i].findAll('p')[2].findAll('a')[1:]:\n",
    "                temp += casting.text + \", \"\n",
    "            cast.append(temp[:2])\n",
    "        else:\n",
    "            type_of_content.append('Series')\n",
    "            director.append('')\n",
    "            for casting in main_list[i].findAll('p')[2].findAll('a'):\n",
    "                temp += casting.text + \", \"\n",
    "            cast.append(temp[:2])\n",
    "\n",
    "    except:\n",
    "        pass"
   ]
  },
  {
   "cell_type": "code",
   "execution_count": 16,
   "metadata": {},
   "outputs": [
    {
     "name": "stdout",
     "output_type": "stream",
     "text": [
      "Popularity ranking:  10000\n",
      "Name:  10000\n",
      "Certificate:  6900\n",
      "Genre:  6900\n",
      "Year:  6857\n",
      "Rating:  6857\n",
      "Summary:  6755\n",
      "Votes:  6754\n",
      "Runtime:  6755\n",
      "Case:  3437\n",
      "Director:  3437\n",
      "Gross:  3437\n",
      "Types of Content:  3437\n"
     ]
    }
   ],
   "source": [
    "print(\"Popularity ranking: \", len(popularity_ranking))\n",
    "print(\"Name: \", len(name))\n",
    "print(\"Certificate: \", len(certificate))\n",
    "print(\"Genre: \", len(genre))\n",
    "print(\"Year: \", len(year))\n",
    "print(\"Rating: \", len(rating))\n",
    "print(\"Summary: \", len(summary))\n",
    "print(\"Votes: \", len(votes))\n",
    "print(\"Runtime: \", len(runtime))\n",
    "print(\"Case: \", len(cast))\n",
    "print(\"Director: \", len(director))\n",
    "print(\"Gross: \", len(gross))\n",
    "print(\"Types of Content: \", len(type_of_content))"
   ]
  },
  {
   "attachments": {},
   "cell_type": "markdown",
   "metadata": {},
   "source": [
    "# Data Wrangling (STEP 2)"
   ]
  },
  {
   "attachments": {},
   "cell_type": "markdown",
   "metadata": {},
   "source": [
    "## All of the tags below has no missing values so we can extract the data easily "
   ]
  },
  {
   "cell_type": "code",
   "execution_count": 36,
   "metadata": {},
   "outputs": [],
   "source": [
    "# Making list for the information to be extracted\n",
    "popularity_ranking = []\n",
    "name = []\n",
    "rating = []\n",
    "summary = []\n",
    "votes = []\n",
    "cast = []\n",
    "certificate = []\n",
    "runtime = []\n",
    "genre = []\n",
    "year = []\n",
    "director = []\n",
    "gross = []\n",
    "type_of_content = []"
   ]
  },
  {
   "cell_type": "code",
   "execution_count": 37,
   "metadata": {},
   "outputs": [],
   "source": [
    "for i in range(len(main_list)):\n",
    "    popularity_ranking.append(main_list[i].h3.span.text)\n",
    "    name.append(main_list[i].h3.a.text)\n",
    "    year.append(main_list[i].h3.find('span', class_= 'lister-item-year text-muted unbold').text)\n",
    "    summary.append(main_list[i].findAll('p')[1].text)"
   ]
  },
  {
   "attachments": {},
   "cell_type": "markdown",
   "metadata": {},
   "source": [
    "### Tags below has missing values which will throw error; so we are filling those values with '' so we have exact same data size"
   ]
  },
  {
   "cell_type": "code",
   "execution_count": 38,
   "metadata": {},
   "outputs": [],
   "source": [
    "# Director + Type of Content\n",
    "for i in range(len(main_list)):\n",
    "    try:\n",
    "        if i < total_data//2:                                        # It's a movie\n",
    "            type_of_content.append('Movie')\n",
    "            director.append(main_list[i].findAll('p')[2].findAll('a')[0].text)\n",
    "        else:\n",
    "            type_of_content.append('Series')\n",
    "            director.append(np.NaN)\n",
    "    except IndexError:\n",
    "        director.append(np.NaN)"
   ]
  },
  {
   "cell_type": "code",
   "execution_count": 39,
   "metadata": {},
   "outputs": [],
   "source": [
    "# Cast\n",
    "for i in range(len(main_list)):  \n",
    "    temp = ''\n",
    "    try:  \n",
    "        if i < total_data//2:                                        # It's a movie\n",
    "            for casting in main_list[i].findAll('p')[2].findAll('a')[1:]:\n",
    "                temp += casting.text + \", \"\n",
    "            cast.append(temp[:-2])\n",
    "        else:\n",
    "            for casting in main_list[i].findAll('p')[2].findAll('a'):\n",
    "                temp += casting.text + \", \"\n",
    "            cast.append(temp[:-2])\n",
    "    except IndexError:\n",
    "        cast.append(np.NaN)"
   ]
  },
  {
   "cell_type": "code",
   "execution_count": 40,
   "metadata": {},
   "outputs": [],
   "source": [
    "# Certificate\n",
    "for i in range(len(main_list)):\n",
    "    try:\n",
    "        certificate.append(main_list[i].findAll('p')[0].find('span', class_= 'certificate').text)\n",
    "    except AttributeError:\n",
    "        certificate.append(np.NaN)"
   ]
  },
  {
   "cell_type": "code",
   "execution_count": 41,
   "metadata": {},
   "outputs": [],
   "source": [
    "# Rating\n",
    "for i in range(len(main_list)):\n",
    "    try:\n",
    "        rating.append(main_list[i].div.div.strong.text)\n",
    "    except AttributeError:\n",
    "        rating.append(np.NaN)"
   ]
  },
  {
   "cell_type": "code",
   "execution_count": 42,
   "metadata": {},
   "outputs": [],
   "source": [
    "# Runtime\n",
    "for i in range(len(main_list)):\n",
    "    try:\n",
    "        runtime.append(main_list[i].findAll('p')[0].find('span', class_='runtime').text)\n",
    "    except AttributeError:\n",
    "        runtime.append('Upcoming')"
   ]
  },
  {
   "cell_type": "code",
   "execution_count": 43,
   "metadata": {},
   "outputs": [],
   "source": [
    "# Votes\n",
    "for i in range(len(main_list)):\n",
    "    try:\n",
    "        votes.append(main_list[i].findAll('p')[3].findAll('span')[1].text)\n",
    "    except IndexError:\n",
    "        votes.append('Upcoming')"
   ]
  },
  {
   "cell_type": "code",
   "execution_count": 44,
   "metadata": {},
   "outputs": [],
   "source": [
    "# Genre\n",
    "for i in range(len(main_list)):\n",
    "    try:\n",
    "        genre.append(main_list[i].findAll('p')[0].find('span', class_='genre').text)\n",
    "    except AttributeError:\n",
    "        genre.append(np.NaN)"
   ]
  },
  {
   "cell_type": "code",
   "execution_count": 45,
   "metadata": {},
   "outputs": [],
   "source": [
    "# Gross\n",
    "for i in range(len(main_list)):\n",
    "    try:\n",
    "        gross.append(main_list[i].findAll('p')[3].findAll('span')[4].text)\n",
    "    except IndexError:\n",
    "        gross.append(np.NaN)"
   ]
  },
  {
   "attachments": {},
   "cell_type": "markdown",
   "metadata": {},
   "source": [
    "### Values"
   ]
  },
  {
   "cell_type": "code",
   "execution_count": 46,
   "metadata": {},
   "outputs": [
    {
     "name": "stdout",
     "output_type": "stream",
     "text": [
      "Popularity ranking:  10000\n",
      "Name:  10000\n",
      "Certificate:  10000\n",
      "Genre:  10000\n",
      "Year:  10000\n",
      "Rating:  10000\n",
      "Summary:  10000\n",
      "Votes:  10000\n",
      "Runtime:  10000\n",
      "Case:  10000\n",
      "Director:  10000\n",
      "Gross:  10000\n",
      "Types of Content:  10000\n"
     ]
    }
   ],
   "source": [
    "print(\"Popularity ranking: \", len(popularity_ranking))\n",
    "print(\"Name: \", len(name))\n",
    "print(\"Certificate: \", len(certificate))\n",
    "print(\"Genre: \", len(genre))\n",
    "print(\"Year: \", len(year))\n",
    "print(\"Rating: \", len(rating))\n",
    "print(\"Summary: \", len(summary))\n",
    "print(\"Votes: \", len(votes))\n",
    "print(\"Runtime: \", len(runtime))\n",
    "print(\"Case: \", len(cast))\n",
    "print(\"Director: \", len(director))\n",
    "print(\"Gross: \", len(gross))\n",
    "print(\"Types of Content: \", len(type_of_content))"
   ]
  },
  {
   "attachments": {},
   "cell_type": "markdown",
   "metadata": {},
   "source": [
    "## Creating Database"
   ]
  },
  {
   "cell_type": "code",
   "execution_count": 79,
   "metadata": {},
   "outputs": [],
   "source": [
    "dictonary = {\"Popularity Ranking\" : popularity_ranking,\n",
    "             \"Name\" : name,\n",
    "             \"Year\" : year,\n",
    "             \"Certificate\" : certificate,\n",
    "             \"Runtime\" : runtime,\n",
    "             \"Genre\" : genre,\n",
    "             \"Rating\" : rating,\n",
    "             \"Summary\" : summary, \n",
    "             \"Director\" : director,\n",
    "             \"Stars\" : cast,\n",
    "             \"Votes\" : votes,\n",
    "             \"Gross\" : gross,\n",
    "             \"Type of Content\" : type_of_content}\n",
    "db = pd.DataFrame(dictonary, columns= dictonary.keys())"
   ]
  },
  {
   "cell_type": "code",
   "execution_count": 80,
   "metadata": {},
   "outputs": [
    {
     "data": {
      "text/html": [
       "<div>\n",
       "<style scoped>\n",
       "    .dataframe tbody tr th:only-of-type {\n",
       "        vertical-align: middle;\n",
       "    }\n",
       "\n",
       "    .dataframe tbody tr th {\n",
       "        vertical-align: top;\n",
       "    }\n",
       "\n",
       "    .dataframe thead th {\n",
       "        text-align: right;\n",
       "    }\n",
       "</style>\n",
       "<table border=\"1\" class=\"dataframe\">\n",
       "  <thead>\n",
       "    <tr style=\"text-align: right;\">\n",
       "      <th></th>\n",
       "      <th>Popularity Ranking</th>\n",
       "      <th>Name</th>\n",
       "      <th>Year</th>\n",
       "      <th>Certificate</th>\n",
       "      <th>Runtime</th>\n",
       "      <th>Genre</th>\n",
       "      <th>Rating</th>\n",
       "      <th>Summary</th>\n",
       "      <th>Director</th>\n",
       "      <th>Stars</th>\n",
       "      <th>Votes</th>\n",
       "      <th>Gross</th>\n",
       "      <th>Type of Content</th>\n",
       "    </tr>\n",
       "  </thead>\n",
       "  <tbody>\n",
       "    <tr>\n",
       "      <th>9990</th>\n",
       "      <td>4,991.</td>\n",
       "      <td>Power Rangers DinoThunder</td>\n",
       "      <td>(2004)</td>\n",
       "      <td>NaN</td>\n",
       "      <td>30 min</td>\n",
       "      <td>\\nAction, Adventure, Sci-Fi</td>\n",
       "      <td>6.8</td>\n",
       "      <td>\\nA team of unlikely personalities join forces...</td>\n",
       "      <td>NaN</td>\n",
       "      <td>James Napier Robertson, Kevin Duhaney, Emma La...</td>\n",
       "      <td>3,376</td>\n",
       "      <td>NaN</td>\n",
       "      <td>Series</td>\n",
       "    </tr>\n",
       "    <tr>\n",
       "      <th>9991</th>\n",
       "      <td>4,992.</td>\n",
       "      <td>Cal Fire</td>\n",
       "      <td>(2021– )</td>\n",
       "      <td>NaN</td>\n",
       "      <td>Upcoming</td>\n",
       "      <td>\\nReality-TV</td>\n",
       "      <td>8.1</td>\n",
       "      <td>\\nFirst-hand look at some of California's most...</td>\n",
       "      <td>NaN</td>\n",
       "      <td></td>\n",
       "      <td>48</td>\n",
       "      <td>NaN</td>\n",
       "      <td>Series</td>\n",
       "    </tr>\n",
       "    <tr>\n",
       "      <th>9992</th>\n",
       "      <td>4,993.</td>\n",
       "      <td>The Doris Day Show</td>\n",
       "      <td>(1968–1973)</td>\n",
       "      <td>NaN</td>\n",
       "      <td>30 min</td>\n",
       "      <td>\\nComedy</td>\n",
       "      <td>7.2</td>\n",
       "      <td>\\nAfter spending most of her life in big citie...</td>\n",
       "      <td>NaN</td>\n",
       "      <td>Doris Day, Philip Brown, Todd Starke, Denver Pyle</td>\n",
       "      <td>783</td>\n",
       "      <td>NaN</td>\n",
       "      <td>Series</td>\n",
       "    </tr>\n",
       "    <tr>\n",
       "      <th>9993</th>\n",
       "      <td>4,994.</td>\n",
       "      <td>Chosen</td>\n",
       "      <td>(2022)</td>\n",
       "      <td>TV-MA</td>\n",
       "      <td>41 min</td>\n",
       "      <td>\\nDrama, Mystery, Sci-Fi</td>\n",
       "      <td>4.6</td>\n",
       "      <td>\\nA teenager finds her world turned upside dow...</td>\n",
       "      <td>NaN</td>\n",
       "      <td>Malaika Berenth Mosendane, Andrea Heick Gadebe...</td>\n",
       "      <td>1,481</td>\n",
       "      <td>NaN</td>\n",
       "      <td>Series</td>\n",
       "    </tr>\n",
       "    <tr>\n",
       "      <th>9994</th>\n",
       "      <td>4,995.</td>\n",
       "      <td>Adult Wednesday Addams</td>\n",
       "      <td>(2013–2015)</td>\n",
       "      <td>NaN</td>\n",
       "      <td>20 min</td>\n",
       "      <td>\\nComedy</td>\n",
       "      <td>8.4</td>\n",
       "      <td>\\nThe chronicles of Wednesday, from \"The Addam...</td>\n",
       "      <td>NaN</td>\n",
       "      <td>Melissa Hunter, Hunter Cope, Megan Rosati, Jes...</td>\n",
       "      <td>681</td>\n",
       "      <td>NaN</td>\n",
       "      <td>Series</td>\n",
       "    </tr>\n",
       "    <tr>\n",
       "      <th>9995</th>\n",
       "      <td>4,996.</td>\n",
       "      <td>MMC</td>\n",
       "      <td>(1989–1995)</td>\n",
       "      <td>NaN</td>\n",
       "      <td>30 min</td>\n",
       "      <td>\\nFamily, Music</td>\n",
       "      <td>7.2</td>\n",
       "      <td>\\nReboot of the 1950's Mickey Mouse Club featu...</td>\n",
       "      <td>NaN</td>\n",
       "      <td>Chasen Hampton, Josh Ackerman, Lindsey Alley, ...</td>\n",
       "      <td>457</td>\n",
       "      <td>NaN</td>\n",
       "      <td>Series</td>\n",
       "    </tr>\n",
       "    <tr>\n",
       "      <th>9996</th>\n",
       "      <td>4,997.</td>\n",
       "      <td>The Chef Show</td>\n",
       "      <td>(2019–2020)</td>\n",
       "      <td>TV-MA</td>\n",
       "      <td>30 min</td>\n",
       "      <td>\\nDocumentary</td>\n",
       "      <td>8.2</td>\n",
       "      <td>\\nWriter, director and food enthusiast Jon Fav...</td>\n",
       "      <td>NaN</td>\n",
       "      <td>Jon Favreau, Roy Choi, Aaron Franklin, Andrew Rea</td>\n",
       "      <td>5,334</td>\n",
       "      <td>NaN</td>\n",
       "      <td>Series</td>\n",
       "    </tr>\n",
       "    <tr>\n",
       "      <th>9997</th>\n",
       "      <td>4,998.</td>\n",
       "      <td>The Ultimatum: Marry or Move On</td>\n",
       "      <td>(2022– )</td>\n",
       "      <td>TV-MA</td>\n",
       "      <td>60 min</td>\n",
       "      <td>\\nReality-TV</td>\n",
       "      <td>5.5</td>\n",
       "      <td>\\nGet hitched or call it quits? Couples put th...</td>\n",
       "      <td>NaN</td>\n",
       "      <td>Zay Wilson, April Marie, Rae Williams, Madlyn ...</td>\n",
       "      <td>2,176</td>\n",
       "      <td>NaN</td>\n",
       "      <td>Series</td>\n",
       "    </tr>\n",
       "    <tr>\n",
       "      <th>9998</th>\n",
       "      <td>4,999.</td>\n",
       "      <td>Kung Fu Panda: The Paws of Destiny</td>\n",
       "      <td>(2018–2019)</td>\n",
       "      <td>NaN</td>\n",
       "      <td>24 min</td>\n",
       "      <td>\\nAnimation, Action, Adventure</td>\n",
       "      <td>7.4</td>\n",
       "      <td>\\nAs the Dragon Master, Po has endured his fai...</td>\n",
       "      <td>NaN</td>\n",
       "      <td>Laya DeLeon Hayes, Makana Say, Gunnar Sizemore...</td>\n",
       "      <td>1,232</td>\n",
       "      <td>NaN</td>\n",
       "      <td>Series</td>\n",
       "    </tr>\n",
       "    <tr>\n",
       "      <th>9999</th>\n",
       "      <td>5,000.</td>\n",
       "      <td>La Unidad</td>\n",
       "      <td>(2020– )</td>\n",
       "      <td>NaN</td>\n",
       "      <td>Upcoming</td>\n",
       "      <td>\\nAction, Adventure, Crime</td>\n",
       "      <td>7.3</td>\n",
       "      <td>\\nA secret unit of cops is assembled to stop a...</td>\n",
       "      <td>NaN</td>\n",
       "      <td>Nathalie Poza, Michel Noher, Marian Álvarez, R...</td>\n",
       "      <td>1,552</td>\n",
       "      <td>NaN</td>\n",
       "      <td>Series</td>\n",
       "    </tr>\n",
       "  </tbody>\n",
       "</table>\n",
       "</div>"
      ],
      "text/plain": [
       "     Popularity Ranking                                Name         Year  \\\n",
       "9990             4,991.           Power Rangers DinoThunder       (2004)   \n",
       "9991             4,992.                            Cal Fire     (2021– )   \n",
       "9992             4,993.                  The Doris Day Show  (1968–1973)   \n",
       "9993             4,994.                              Chosen       (2022)   \n",
       "9994             4,995.              Adult Wednesday Addams  (2013–2015)   \n",
       "9995             4,996.                                 MMC  (1989–1995)   \n",
       "9996             4,997.                       The Chef Show  (2019–2020)   \n",
       "9997             4,998.     The Ultimatum: Marry or Move On     (2022– )   \n",
       "9998             4,999.  Kung Fu Panda: The Paws of Destiny  (2018–2019)   \n",
       "9999             5,000.                           La Unidad     (2020– )   \n",
       "\n",
       "     Certificate   Runtime                                       Genre Rating  \\\n",
       "9990         NaN    30 min     \\nAction, Adventure, Sci-Fi                6.8   \n",
       "9991         NaN  Upcoming                    \\nReality-TV                8.1   \n",
       "9992         NaN    30 min                        \\nComedy                7.2   \n",
       "9993       TV-MA    41 min        \\nDrama, Mystery, Sci-Fi                4.6   \n",
       "9994         NaN    20 min                        \\nComedy                8.4   \n",
       "9995         NaN    30 min                 \\nFamily, Music                7.2   \n",
       "9996       TV-MA    30 min                   \\nDocumentary                8.2   \n",
       "9997       TV-MA    60 min                    \\nReality-TV                5.5   \n",
       "9998         NaN    24 min  \\nAnimation, Action, Adventure                7.4   \n",
       "9999         NaN  Upcoming      \\nAction, Adventure, Crime                7.3   \n",
       "\n",
       "                                                Summary Director  \\\n",
       "9990  \\nA team of unlikely personalities join forces...      NaN   \n",
       "9991  \\nFirst-hand look at some of California's most...      NaN   \n",
       "9992  \\nAfter spending most of her life in big citie...      NaN   \n",
       "9993  \\nA teenager finds her world turned upside dow...      NaN   \n",
       "9994  \\nThe chronicles of Wednesday, from \"The Addam...      NaN   \n",
       "9995  \\nReboot of the 1950's Mickey Mouse Club featu...      NaN   \n",
       "9996  \\nWriter, director and food enthusiast Jon Fav...      NaN   \n",
       "9997  \\nGet hitched or call it quits? Couples put th...      NaN   \n",
       "9998  \\nAs the Dragon Master, Po has endured his fai...      NaN   \n",
       "9999  \\nA secret unit of cops is assembled to stop a...      NaN   \n",
       "\n",
       "                                                  Stars  Votes Gross  \\\n",
       "9990  James Napier Robertson, Kevin Duhaney, Emma La...  3,376   NaN   \n",
       "9991                                                        48   NaN   \n",
       "9992  Doris Day, Philip Brown, Todd Starke, Denver Pyle    783   NaN   \n",
       "9993  Malaika Berenth Mosendane, Andrea Heick Gadebe...  1,481   NaN   \n",
       "9994  Melissa Hunter, Hunter Cope, Megan Rosati, Jes...    681   NaN   \n",
       "9995  Chasen Hampton, Josh Ackerman, Lindsey Alley, ...    457   NaN   \n",
       "9996  Jon Favreau, Roy Choi, Aaron Franklin, Andrew Rea  5,334   NaN   \n",
       "9997  Zay Wilson, April Marie, Rae Williams, Madlyn ...  2,176   NaN   \n",
       "9998  Laya DeLeon Hayes, Makana Say, Gunnar Sizemore...  1,232   NaN   \n",
       "9999  Nathalie Poza, Michel Noher, Marian Álvarez, R...  1,552   NaN   \n",
       "\n",
       "     Type of Content  \n",
       "9990          Series  \n",
       "9991          Series  \n",
       "9992          Series  \n",
       "9993          Series  \n",
       "9994          Series  \n",
       "9995          Series  \n",
       "9996          Series  \n",
       "9997          Series  \n",
       "9998          Series  \n",
       "9999          Series  "
      ]
     },
     "execution_count": 80,
     "metadata": {},
     "output_type": "execute_result"
    }
   ],
   "source": [
    "(db.tail(10))"
   ]
  },
  {
   "cell_type": "code",
   "execution_count": 81,
   "metadata": {},
   "outputs": [
    {
     "data": {
      "text/plain": [
       "Popularity Ranking       0\n",
       "Name                     0\n",
       "Year                     0\n",
       "Certificate           3100\n",
       "Runtime                  0\n",
       "Genre                    4\n",
       "Rating                 350\n",
       "Summary                  0\n",
       "Director              5001\n",
       "Stars                    0\n",
       "Votes                    0\n",
       "Gross                 6501\n",
       "Type of Content          0\n",
       "dtype: int64"
      ]
     },
     "execution_count": 81,
     "metadata": {},
     "output_type": "execute_result"
    }
   ],
   "source": [
    "db.isna().sum()"
   ]
  },
  {
   "attachments": {},
   "cell_type": "markdown",
   "metadata": {},
   "source": [
    "### Cleaning some values"
   ]
  },
  {
   "attachments": {},
   "cell_type": "markdown",
   "metadata": {},
   "source": [
    "Year value: (formating and some values that are filled with wrong data)"
   ]
  },
  {
   "cell_type": "code",
   "execution_count": 82,
   "metadata": {},
   "outputs": [],
   "source": [
    "temp = []\n",
    "for i in year:\n",
    "    if i == \"\":\n",
    "        temp.append(np.NaN)\n",
    "    else:\n",
    "        temp.append(re.findall('\\d+.*', i))"
   ]
  },
  {
   "cell_type": "code",
   "execution_count": 83,
   "metadata": {},
   "outputs": [],
   "source": [
    "temp_2 = []\n",
    "for i in range(len(temp)):\n",
    "    if type(temp[i]) != float and temp[i] != []:\n",
    "        temp_2.append(temp[i][0][:-1])\n",
    "    else:\n",
    "        temp_2.append(np.NaN)"
   ]
  },
  {
   "cell_type": "code",
   "execution_count": 84,
   "metadata": {},
   "outputs": [],
   "source": [
    "db['Year'] = temp_2"
   ]
  },
  {
   "attachments": {},
   "cell_type": "markdown",
   "metadata": {},
   "source": [
    "Genre:"
   ]
  },
  {
   "cell_type": "code",
   "execution_count": 85,
   "metadata": {},
   "outputs": [],
   "source": [
    "temp = genre.copy()\n",
    "temp_2 = []\n",
    "for i in temp:\n",
    "    try:\n",
    "        x = i[1:]\n",
    "        temp_2.append(x.rstrip())\n",
    "    except:\n",
    "        temp_2.append(np.NaN)"
   ]
  },
  {
   "cell_type": "code",
   "execution_count": 86,
   "metadata": {},
   "outputs": [],
   "source": [
    "db['Genre'] = temp_2"
   ]
  },
  {
   "attachments": {},
   "cell_type": "markdown",
   "metadata": {},
   "source": [
    "Summary:"
   ]
  },
  {
   "cell_type": "code",
   "execution_count": 87,
   "metadata": {},
   "outputs": [],
   "source": [
    "temp = summary.copy()\n",
    "temp_2 = []\n",
    "for i in temp:\n",
    "    x = i[1:]\n",
    "    temp_2.append(x)"
   ]
  },
  {
   "cell_type": "code",
   "execution_count": 88,
   "metadata": {},
   "outputs": [],
   "source": [
    "db['Summary'] = temp_2"
   ]
  },
  {
   "attachments": {},
   "cell_type": "markdown",
   "metadata": {},
   "source": [
    "Popularity Ranking:"
   ]
  },
  {
   "cell_type": "code",
   "execution_count": 89,
   "metadata": {},
   "outputs": [],
   "source": [
    "temp = popularity_ranking.copy()\n",
    "temp_2 = []\n",
    "for i in temp:\n",
    "    x = int(re.sub(r'[^\\d]', '', i))\n",
    "    temp_2.append(x)"
   ]
  },
  {
   "cell_type": "code",
   "execution_count": 90,
   "metadata": {},
   "outputs": [],
   "source": [
    "db['Popularity Ranking'] = temp_2"
   ]
  },
  {
   "attachments": {},
   "cell_type": "markdown",
   "metadata": {},
   "source": [
    "### Removing some NaN values"
   ]
  },
  {
   "cell_type": "code",
   "execution_count": 91,
   "metadata": {},
   "outputs": [],
   "source": [
    "db.loc[db[\"Runtime\"] == 'Upcoming', \"Certificate\"] = 'Upcoming'\n",
    "db.dropna(subset= ['Certificate', 'Genre'], inplace= True)"
   ]
  },
  {
   "cell_type": "code",
   "execution_count": 92,
   "metadata": {},
   "outputs": [
    {
     "data": {
      "text/html": [
       "<div>\n",
       "<style scoped>\n",
       "    .dataframe tbody tr th:only-of-type {\n",
       "        vertical-align: middle;\n",
       "    }\n",
       "\n",
       "    .dataframe tbody tr th {\n",
       "        vertical-align: top;\n",
       "    }\n",
       "\n",
       "    .dataframe thead th {\n",
       "        text-align: right;\n",
       "    }\n",
       "</style>\n",
       "<table border=\"1\" class=\"dataframe\">\n",
       "  <thead>\n",
       "    <tr style=\"text-align: right;\">\n",
       "      <th></th>\n",
       "      <th>Popularity Ranking</th>\n",
       "      <th>Name</th>\n",
       "      <th>Year</th>\n",
       "      <th>Certificate</th>\n",
       "      <th>Runtime</th>\n",
       "      <th>Genre</th>\n",
       "      <th>Rating</th>\n",
       "      <th>Summary</th>\n",
       "      <th>Director</th>\n",
       "      <th>Stars</th>\n",
       "      <th>Votes</th>\n",
       "      <th>Gross</th>\n",
       "      <th>Type of Content</th>\n",
       "    </tr>\n",
       "  </thead>\n",
       "  <tbody>\n",
       "    <tr>\n",
       "      <th>0</th>\n",
       "      <td>1</td>\n",
       "      <td>Everything Everywhere All at Once</td>\n",
       "      <td>2022</td>\n",
       "      <td>14A</td>\n",
       "      <td>139 min</td>\n",
       "      <td>Action, Adventure, Comedy</td>\n",
       "      <td>7.9</td>\n",
       "      <td>A middle-aged Chinese immigrant is swept up in...</td>\n",
       "      <td>Daniel Kwan</td>\n",
       "      <td>Daniel Scheinert, Michelle Yeoh, Stephanie Hsu...</td>\n",
       "      <td>400,779</td>\n",
       "      <td>$72.86M</td>\n",
       "      <td>Movie</td>\n",
       "    </tr>\n",
       "    <tr>\n",
       "      <th>1</th>\n",
       "      <td>2</td>\n",
       "      <td>Scream VI</td>\n",
       "      <td>2023</td>\n",
       "      <td>14A</td>\n",
       "      <td>122 min</td>\n",
       "      <td>Horror, Mystery, Thriller</td>\n",
       "      <td>7.2</td>\n",
       "      <td>In the next installment, the survivors of the ...</td>\n",
       "      <td>Matt Bettinelli-Olpin</td>\n",
       "      <td>Tyler Gillett, Courteney Cox, Melissa Barrera,...</td>\n",
       "      <td>33,036</td>\n",
       "      <td>NaN</td>\n",
       "      <td>Movie</td>\n",
       "    </tr>\n",
       "    <tr>\n",
       "      <th>2</th>\n",
       "      <td>3</td>\n",
       "      <td>The Whale</td>\n",
       "      <td>2022</td>\n",
       "      <td>14A</td>\n",
       "      <td>117 min</td>\n",
       "      <td>Drama</td>\n",
       "      <td>7.8</td>\n",
       "      <td>A reclusive, morbidly obese English teacher at...</td>\n",
       "      <td>Darren Aronofsky</td>\n",
       "      <td>Brendan Fraser, Sadie Sink, Ty Simpkins, Hong ...</td>\n",
       "      <td>109,463</td>\n",
       "      <td>NaN</td>\n",
       "      <td>Movie</td>\n",
       "    </tr>\n",
       "    <tr>\n",
       "      <th>3</th>\n",
       "      <td>4</td>\n",
       "      <td>Luther: The Fallen Sun</td>\n",
       "      <td>2023</td>\n",
       "      <td>14A</td>\n",
       "      <td>129 min</td>\n",
       "      <td>Crime, Drama, Mystery</td>\n",
       "      <td>6.4</td>\n",
       "      <td>Brilliant but disgraced detective John Luther ...</td>\n",
       "      <td>Jamie Payne</td>\n",
       "      <td>Idris Elba, Cynthia Erivo, Andy Serkis, Dermot...</td>\n",
       "      <td>32,754</td>\n",
       "      <td>NaN</td>\n",
       "      <td>Movie</td>\n",
       "    </tr>\n",
       "    <tr>\n",
       "      <th>4</th>\n",
       "      <td>5</td>\n",
       "      <td>The Little Mermaid</td>\n",
       "      <td>2023</td>\n",
       "      <td>Upcoming</td>\n",
       "      <td>Upcoming</td>\n",
       "      <td>Adventure, Family, Fantasy</td>\n",
       "      <td>NaN</td>\n",
       "      <td>A young mermaid makes a deal with a sea witch ...</td>\n",
       "      <td>Rob Marshall</td>\n",
       "      <td>Halle Bailey, Jonah Hauer-King, Melissa McCart...</td>\n",
       "      <td>Upcoming</td>\n",
       "      <td>NaN</td>\n",
       "      <td>Movie</td>\n",
       "    </tr>\n",
       "    <tr>\n",
       "      <th>5</th>\n",
       "      <td>6</td>\n",
       "      <td>Cocaine Bear</td>\n",
       "      <td>2023</td>\n",
       "      <td>18A</td>\n",
       "      <td>95 min</td>\n",
       "      <td>Comedy, Thriller</td>\n",
       "      <td>6.1</td>\n",
       "      <td>An oddball group of cops, criminals, tourists ...</td>\n",
       "      <td>Elizabeth Banks</td>\n",
       "      <td>Keri Russell, Alden Ehrenreich, O'Shea Jackson...</td>\n",
       "      <td>39,288</td>\n",
       "      <td>NaN</td>\n",
       "      <td>Movie</td>\n",
       "    </tr>\n",
       "    <tr>\n",
       "      <th>6</th>\n",
       "      <td>7</td>\n",
       "      <td>Shazam! Fury of the Gods</td>\n",
       "      <td>2023</td>\n",
       "      <td>PG</td>\n",
       "      <td>130 min</td>\n",
       "      <td>Action, Adventure, Comedy</td>\n",
       "      <td>6.6</td>\n",
       "      <td>The film continues the story of teenage Billy ...</td>\n",
       "      <td>David F. Sandberg</td>\n",
       "      <td>Zachary Levi, Asher Angel, Jack Dylan Grazer, ...</td>\n",
       "      <td>21,285</td>\n",
       "      <td>NaN</td>\n",
       "      <td>Movie</td>\n",
       "    </tr>\n",
       "    <tr>\n",
       "      <th>7</th>\n",
       "      <td>8</td>\n",
       "      <td>Im Westen nichts Neues</td>\n",
       "      <td>2022</td>\n",
       "      <td>14A</td>\n",
       "      <td>148 min</td>\n",
       "      <td>Action, Drama, War</td>\n",
       "      <td>7.8</td>\n",
       "      <td>A young German soldier's terrifying experience...</td>\n",
       "      <td>Edward Berger</td>\n",
       "      <td>Felix Kammerer, Albrecht Schuch, Aaron Hilmer,...</td>\n",
       "      <td>182,055</td>\n",
       "      <td>NaN</td>\n",
       "      <td>Movie</td>\n",
       "    </tr>\n",
       "    <tr>\n",
       "      <th>8</th>\n",
       "      <td>9</td>\n",
       "      <td>The Banshees of Inisherin</td>\n",
       "      <td>2022</td>\n",
       "      <td>14A</td>\n",
       "      <td>114 min</td>\n",
       "      <td>Comedy, Drama</td>\n",
       "      <td>7.7</td>\n",
       "      <td>Two lifelong friends find themselves at an imp...</td>\n",
       "      <td>Martin McDonagh</td>\n",
       "      <td>Colin Farrell, Brendan Gleeson, Kerry Condon, ...</td>\n",
       "      <td>180,383</td>\n",
       "      <td>NaN</td>\n",
       "      <td>Movie</td>\n",
       "    </tr>\n",
       "    <tr>\n",
       "      <th>9</th>\n",
       "      <td>10</td>\n",
       "      <td>Triangle of Sadness</td>\n",
       "      <td>2022</td>\n",
       "      <td>PG</td>\n",
       "      <td>147 min</td>\n",
       "      <td>Comedy, Drama</td>\n",
       "      <td>7.4</td>\n",
       "      <td>A fashion model celebrity couple join an event...</td>\n",
       "      <td>Ruben Östlund</td>\n",
       "      <td>Thobias Thorwid, Harris Dickinson, Charlbi Dea...</td>\n",
       "      <td>112,988</td>\n",
       "      <td>NaN</td>\n",
       "      <td>Movie</td>\n",
       "    </tr>\n",
       "  </tbody>\n",
       "</table>\n",
       "</div>"
      ],
      "text/plain": [
       "   Popularity Ranking                               Name  Year Certificate  \\\n",
       "0                   1  Everything Everywhere All at Once  2022         14A   \n",
       "1                   2                          Scream VI  2023         14A   \n",
       "2                   3                          The Whale  2022         14A   \n",
       "3                   4             Luther: The Fallen Sun  2023         14A   \n",
       "4                   5                 The Little Mermaid  2023    Upcoming   \n",
       "5                   6                       Cocaine Bear  2023         18A   \n",
       "6                   7           Shazam! Fury of the Gods  2023          PG   \n",
       "7                   8             Im Westen nichts Neues  2022         14A   \n",
       "8                   9          The Banshees of Inisherin  2022         14A   \n",
       "9                  10                Triangle of Sadness  2022          PG   \n",
       "\n",
       "    Runtime                       Genre Rating  \\\n",
       "0   139 min   Action, Adventure, Comedy    7.9   \n",
       "1   122 min   Horror, Mystery, Thriller    7.2   \n",
       "2   117 min                       Drama    7.8   \n",
       "3   129 min       Crime, Drama, Mystery    6.4   \n",
       "4  Upcoming  Adventure, Family, Fantasy    NaN   \n",
       "5    95 min            Comedy, Thriller    6.1   \n",
       "6   130 min   Action, Adventure, Comedy    6.6   \n",
       "7   148 min          Action, Drama, War    7.8   \n",
       "8   114 min               Comedy, Drama    7.7   \n",
       "9   147 min               Comedy, Drama    7.4   \n",
       "\n",
       "                                             Summary               Director  \\\n",
       "0  A middle-aged Chinese immigrant is swept up in...            Daniel Kwan   \n",
       "1  In the next installment, the survivors of the ...  Matt Bettinelli-Olpin   \n",
       "2  A reclusive, morbidly obese English teacher at...       Darren Aronofsky   \n",
       "3  Brilliant but disgraced detective John Luther ...            Jamie Payne   \n",
       "4  A young mermaid makes a deal with a sea witch ...           Rob Marshall   \n",
       "5  An oddball group of cops, criminals, tourists ...        Elizabeth Banks   \n",
       "6  The film continues the story of teenage Billy ...      David F. Sandberg   \n",
       "7  A young German soldier's terrifying experience...          Edward Berger   \n",
       "8  Two lifelong friends find themselves at an imp...        Martin McDonagh   \n",
       "9  A fashion model celebrity couple join an event...          Ruben Östlund   \n",
       "\n",
       "                                               Stars     Votes    Gross  \\\n",
       "0  Daniel Scheinert, Michelle Yeoh, Stephanie Hsu...   400,779  $72.86M   \n",
       "1  Tyler Gillett, Courteney Cox, Melissa Barrera,...    33,036      NaN   \n",
       "2  Brendan Fraser, Sadie Sink, Ty Simpkins, Hong ...   109,463      NaN   \n",
       "3  Idris Elba, Cynthia Erivo, Andy Serkis, Dermot...    32,754      NaN   \n",
       "4  Halle Bailey, Jonah Hauer-King, Melissa McCart...  Upcoming      NaN   \n",
       "5  Keri Russell, Alden Ehrenreich, O'Shea Jackson...    39,288      NaN   \n",
       "6  Zachary Levi, Asher Angel, Jack Dylan Grazer, ...    21,285      NaN   \n",
       "7  Felix Kammerer, Albrecht Schuch, Aaron Hilmer,...   182,055      NaN   \n",
       "8  Colin Farrell, Brendan Gleeson, Kerry Condon, ...   180,383      NaN   \n",
       "9  Thobias Thorwid, Harris Dickinson, Charlbi Dea...   112,988      NaN   \n",
       "\n",
       "  Type of Content  \n",
       "0           Movie  \n",
       "1           Movie  \n",
       "2           Movie  \n",
       "3           Movie  \n",
       "4           Movie  \n",
       "5           Movie  \n",
       "6           Movie  \n",
       "7           Movie  \n",
       "8           Movie  \n",
       "9           Movie  "
      ]
     },
     "execution_count": 92,
     "metadata": {},
     "output_type": "execute_result"
    }
   ],
   "source": [
    "db.head(10)"
   ]
  },
  {
   "cell_type": "code",
   "execution_count": 93,
   "metadata": {},
   "outputs": [
    {
     "name": "stdout",
     "output_type": "stream",
     "text": [
      "(7318, 13)\n"
     ]
    }
   ],
   "source": [
    "db.loc[db[\"Runtime\"] == 'Upcoming', \"Rating\"] = 'Upcoming'\n",
    "db.dropna(subset= ['Rating', 'Year'], inplace= True)\n",
    "print(db.shape)"
   ]
  },
  {
   "cell_type": "code",
   "execution_count": 95,
   "metadata": {},
   "outputs": [
    {
     "name": "stdout",
     "output_type": "stream",
     "text": [
      "<class 'pandas.core.frame.DataFrame'>\n",
      "Int64Index: 7318 entries, 0 to 9999\n",
      "Data columns (total 13 columns):\n",
      " #   Column              Non-Null Count  Dtype \n",
      "---  ------              --------------  ----- \n",
      " 0   Popularity Ranking  7318 non-null   int64 \n",
      " 1   Name                7318 non-null   object\n",
      " 2   Year                7318 non-null   object\n",
      " 3   Certificate         7318 non-null   object\n",
      " 4   Runtime             7318 non-null   object\n",
      " 5   Genre               7318 non-null   object\n",
      " 6   Rating              7318 non-null   object\n",
      " 7   Summary             7318 non-null   object\n",
      " 8   Director            4590 non-null   object\n",
      " 9   Stars               7318 non-null   object\n",
      " 10  Votes               7318 non-null   object\n",
      " 11  Gross               3437 non-null   object\n",
      " 12  Type of Content     7318 non-null   object\n",
      "dtypes: int64(1), object(12)\n",
      "memory usage: 800.4+ KB\n"
     ]
    }
   ],
   "source": [
    "db.info()"
   ]
  },
  {
   "cell_type": "code",
   "execution_count": 96,
   "metadata": {},
   "outputs": [
    {
     "data": {
      "text/plain": [
       "Popularity Ranking       0\n",
       "Name                     0\n",
       "Year                     0\n",
       "Certificate              0\n",
       "Runtime                  0\n",
       "Genre                    0\n",
       "Rating                   0\n",
       "Summary                  0\n",
       "Director              2728\n",
       "Stars                    0\n",
       "Votes                    0\n",
       "Gross                 3881\n",
       "Type of Content          0\n",
       "dtype: int64"
      ]
     },
     "execution_count": 96,
     "metadata": {},
     "output_type": "execute_result"
    }
   ],
   "source": [
    "db.isna().sum()"
   ]
  },
  {
   "attachments": {},
   "cell_type": "markdown",
   "metadata": {},
   "source": [
    "### We aren't imputing/changing 'Gross' column since it has large value and mostly consist of Movies series. Similarly, the 'Director' column missing values are from mostly series and removing this value will impact our dataset alot"
   ]
  },
  {
   "cell_type": "code",
   "execution_count": 64,
   "metadata": {},
   "outputs": [
    {
     "data": {
      "text/html": [
       "<div>\n",
       "<style scoped>\n",
       "    .dataframe tbody tr th:only-of-type {\n",
       "        vertical-align: middle;\n",
       "    }\n",
       "\n",
       "    .dataframe tbody tr th {\n",
       "        vertical-align: top;\n",
       "    }\n",
       "\n",
       "    .dataframe thead th {\n",
       "        text-align: right;\n",
       "    }\n",
       "</style>\n",
       "<table border=\"1\" class=\"dataframe\">\n",
       "  <thead>\n",
       "    <tr style=\"text-align: right;\">\n",
       "      <th></th>\n",
       "      <th>Popularity Ranking</th>\n",
       "      <th>Name</th>\n",
       "      <th>Year</th>\n",
       "      <th>Certificate</th>\n",
       "      <th>Runtime</th>\n",
       "      <th>Genre</th>\n",
       "      <th>Rating</th>\n",
       "      <th>Summary</th>\n",
       "      <th>Director</th>\n",
       "      <th>Stars</th>\n",
       "      <th>Votes</th>\n",
       "      <th>Gross</th>\n",
       "      <th>Type of Content</th>\n",
       "    </tr>\n",
       "  </thead>\n",
       "  <tbody>\n",
       "    <tr>\n",
       "      <th>0</th>\n",
       "      <td>1</td>\n",
       "      <td>Everything Everywhere All at Once</td>\n",
       "      <td>2022</td>\n",
       "      <td>14A</td>\n",
       "      <td>139 min</td>\n",
       "      <td>Action, Adventure, Comedy</td>\n",
       "      <td>7.9</td>\n",
       "      <td>A middle-aged Chinese immigrant is swept up in...</td>\n",
       "      <td>Daniel Kwan</td>\n",
       "      <td>Daniel Scheinert, Michelle Yeoh, Stephanie Hsu...</td>\n",
       "      <td>400,779</td>\n",
       "      <td>$72.86M</td>\n",
       "      <td>Movie</td>\n",
       "    </tr>\n",
       "    <tr>\n",
       "      <th>1</th>\n",
       "      <td>2</td>\n",
       "      <td>Scream VI</td>\n",
       "      <td>2023</td>\n",
       "      <td>14A</td>\n",
       "      <td>122 min</td>\n",
       "      <td>Horror, Mystery, Thriller</td>\n",
       "      <td>7.2</td>\n",
       "      <td>In the next installment, the survivors of the ...</td>\n",
       "      <td>Matt Bettinelli-Olpin</td>\n",
       "      <td>Tyler Gillett, Courteney Cox, Melissa Barrera,...</td>\n",
       "      <td>33,036</td>\n",
       "      <td>NaN</td>\n",
       "      <td>Movie</td>\n",
       "    </tr>\n",
       "    <tr>\n",
       "      <th>2</th>\n",
       "      <td>3</td>\n",
       "      <td>The Whale</td>\n",
       "      <td>2022</td>\n",
       "      <td>14A</td>\n",
       "      <td>117 min</td>\n",
       "      <td>Drama</td>\n",
       "      <td>7.8</td>\n",
       "      <td>A reclusive, morbidly obese English teacher at...</td>\n",
       "      <td>Darren Aronofsky</td>\n",
       "      <td>Brendan Fraser, Sadie Sink, Ty Simpkins, Hong ...</td>\n",
       "      <td>109,463</td>\n",
       "      <td>NaN</td>\n",
       "      <td>Movie</td>\n",
       "    </tr>\n",
       "    <tr>\n",
       "      <th>3</th>\n",
       "      <td>4</td>\n",
       "      <td>Luther: The Fallen Sun</td>\n",
       "      <td>2023</td>\n",
       "      <td>14A</td>\n",
       "      <td>129 min</td>\n",
       "      <td>Crime, Drama, Mystery</td>\n",
       "      <td>6.4</td>\n",
       "      <td>Brilliant but disgraced detective John Luther ...</td>\n",
       "      <td>Jamie Payne</td>\n",
       "      <td>Idris Elba, Cynthia Erivo, Andy Serkis, Dermot...</td>\n",
       "      <td>32,754</td>\n",
       "      <td>NaN</td>\n",
       "      <td>Movie</td>\n",
       "    </tr>\n",
       "    <tr>\n",
       "      <th>4</th>\n",
       "      <td>5</td>\n",
       "      <td>The Little Mermaid</td>\n",
       "      <td>2023</td>\n",
       "      <td>Upcoming</td>\n",
       "      <td>Upcoming</td>\n",
       "      <td>Adventure, Family, Fantasy</td>\n",
       "      <td>Upcoming</td>\n",
       "      <td>A young mermaid makes a deal with a sea witch ...</td>\n",
       "      <td>Rob Marshall</td>\n",
       "      <td>Halle Bailey, Jonah Hauer-King, Melissa McCart...</td>\n",
       "      <td>Upcoming</td>\n",
       "      <td>NaN</td>\n",
       "      <td>Movie</td>\n",
       "    </tr>\n",
       "    <tr>\n",
       "      <th>5</th>\n",
       "      <td>6</td>\n",
       "      <td>Cocaine Bear</td>\n",
       "      <td>2023</td>\n",
       "      <td>18A</td>\n",
       "      <td>95 min</td>\n",
       "      <td>Comedy, Thriller</td>\n",
       "      <td>6.1</td>\n",
       "      <td>An oddball group of cops, criminals, tourists ...</td>\n",
       "      <td>Elizabeth Banks</td>\n",
       "      <td>Keri Russell, Alden Ehrenreich, O'Shea Jackson...</td>\n",
       "      <td>39,288</td>\n",
       "      <td>NaN</td>\n",
       "      <td>Movie</td>\n",
       "    </tr>\n",
       "    <tr>\n",
       "      <th>6</th>\n",
       "      <td>7</td>\n",
       "      <td>Shazam! Fury of the Gods</td>\n",
       "      <td>2023</td>\n",
       "      <td>PG</td>\n",
       "      <td>130 min</td>\n",
       "      <td>Action, Adventure, Comedy</td>\n",
       "      <td>6.6</td>\n",
       "      <td>The film continues the story of teenage Billy ...</td>\n",
       "      <td>David F. Sandberg</td>\n",
       "      <td>Zachary Levi, Asher Angel, Jack Dylan Grazer, ...</td>\n",
       "      <td>21,285</td>\n",
       "      <td>NaN</td>\n",
       "      <td>Movie</td>\n",
       "    </tr>\n",
       "    <tr>\n",
       "      <th>7</th>\n",
       "      <td>8</td>\n",
       "      <td>Im Westen nichts Neues</td>\n",
       "      <td>2022</td>\n",
       "      <td>14A</td>\n",
       "      <td>148 min</td>\n",
       "      <td>Action, Drama, War</td>\n",
       "      <td>7.8</td>\n",
       "      <td>A young German soldier's terrifying experience...</td>\n",
       "      <td>Edward Berger</td>\n",
       "      <td>Felix Kammerer, Albrecht Schuch, Aaron Hilmer,...</td>\n",
       "      <td>182,055</td>\n",
       "      <td>NaN</td>\n",
       "      <td>Movie</td>\n",
       "    </tr>\n",
       "    <tr>\n",
       "      <th>8</th>\n",
       "      <td>9</td>\n",
       "      <td>The Banshees of Inisherin</td>\n",
       "      <td>2022</td>\n",
       "      <td>14A</td>\n",
       "      <td>114 min</td>\n",
       "      <td>Comedy, Drama</td>\n",
       "      <td>7.7</td>\n",
       "      <td>Two lifelong friends find themselves at an imp...</td>\n",
       "      <td>Martin McDonagh</td>\n",
       "      <td>Colin Farrell, Brendan Gleeson, Kerry Condon, ...</td>\n",
       "      <td>180,383</td>\n",
       "      <td>NaN</td>\n",
       "      <td>Movie</td>\n",
       "    </tr>\n",
       "    <tr>\n",
       "      <th>9</th>\n",
       "      <td>10</td>\n",
       "      <td>Triangle of Sadness</td>\n",
       "      <td>2022</td>\n",
       "      <td>PG</td>\n",
       "      <td>147 min</td>\n",
       "      <td>Comedy, Drama</td>\n",
       "      <td>7.4</td>\n",
       "      <td>A fashion model celebrity couple join an event...</td>\n",
       "      <td>Ruben Östlund</td>\n",
       "      <td>Thobias Thorwid, Harris Dickinson, Charlbi Dea...</td>\n",
       "      <td>112,988</td>\n",
       "      <td>NaN</td>\n",
       "      <td>Movie</td>\n",
       "    </tr>\n",
       "  </tbody>\n",
       "</table>\n",
       "</div>"
      ],
      "text/plain": [
       "   Popularity Ranking                               Name  Year Certificate  \\\n",
       "0                   1  Everything Everywhere All at Once  2022         14A   \n",
       "1                   2                          Scream VI  2023         14A   \n",
       "2                   3                          The Whale  2022         14A   \n",
       "3                   4             Luther: The Fallen Sun  2023         14A   \n",
       "4                   5                 The Little Mermaid  2023    Upcoming   \n",
       "5                   6                       Cocaine Bear  2023         18A   \n",
       "6                   7           Shazam! Fury of the Gods  2023          PG   \n",
       "7                   8             Im Westen nichts Neues  2022         14A   \n",
       "8                   9          The Banshees of Inisherin  2022         14A   \n",
       "9                  10                Triangle of Sadness  2022          PG   \n",
       "\n",
       "    Runtime                       Genre    Rating  \\\n",
       "0   139 min   Action, Adventure, Comedy       7.9   \n",
       "1   122 min   Horror, Mystery, Thriller       7.2   \n",
       "2   117 min                       Drama       7.8   \n",
       "3   129 min       Crime, Drama, Mystery       6.4   \n",
       "4  Upcoming  Adventure, Family, Fantasy  Upcoming   \n",
       "5    95 min            Comedy, Thriller       6.1   \n",
       "6   130 min   Action, Adventure, Comedy       6.6   \n",
       "7   148 min          Action, Drama, War       7.8   \n",
       "8   114 min               Comedy, Drama       7.7   \n",
       "9   147 min               Comedy, Drama       7.4   \n",
       "\n",
       "                                             Summary               Director  \\\n",
       "0  A middle-aged Chinese immigrant is swept up in...            Daniel Kwan   \n",
       "1  In the next installment, the survivors of the ...  Matt Bettinelli-Olpin   \n",
       "2  A reclusive, morbidly obese English teacher at...       Darren Aronofsky   \n",
       "3  Brilliant but disgraced detective John Luther ...            Jamie Payne   \n",
       "4  A young mermaid makes a deal with a sea witch ...           Rob Marshall   \n",
       "5  An oddball group of cops, criminals, tourists ...        Elizabeth Banks   \n",
       "6  The film continues the story of teenage Billy ...      David F. Sandberg   \n",
       "7  A young German soldier's terrifying experience...          Edward Berger   \n",
       "8  Two lifelong friends find themselves at an imp...        Martin McDonagh   \n",
       "9  A fashion model celebrity couple join an event...          Ruben Östlund   \n",
       "\n",
       "                                               Stars     Votes    Gross  \\\n",
       "0  Daniel Scheinert, Michelle Yeoh, Stephanie Hsu...   400,779  $72.86M   \n",
       "1  Tyler Gillett, Courteney Cox, Melissa Barrera,...    33,036      NaN   \n",
       "2  Brendan Fraser, Sadie Sink, Ty Simpkins, Hong ...   109,463      NaN   \n",
       "3  Idris Elba, Cynthia Erivo, Andy Serkis, Dermot...    32,754      NaN   \n",
       "4  Halle Bailey, Jonah Hauer-King, Melissa McCart...  Upcoming      NaN   \n",
       "5  Keri Russell, Alden Ehrenreich, O'Shea Jackson...    39,288      NaN   \n",
       "6  Zachary Levi, Asher Angel, Jack Dylan Grazer, ...    21,285      NaN   \n",
       "7  Felix Kammerer, Albrecht Schuch, Aaron Hilmer,...   182,055      NaN   \n",
       "8  Colin Farrell, Brendan Gleeson, Kerry Condon, ...   180,383      NaN   \n",
       "9  Thobias Thorwid, Harris Dickinson, Charlbi Dea...   112,988      NaN   \n",
       "\n",
       "  Type of Content  \n",
       "0           Movie  \n",
       "1           Movie  \n",
       "2           Movie  \n",
       "3           Movie  \n",
       "4           Movie  \n",
       "5           Movie  \n",
       "6           Movie  \n",
       "7           Movie  \n",
       "8           Movie  \n",
       "9           Movie  "
      ]
     },
     "execution_count": 64,
     "metadata": {},
     "output_type": "execute_result"
    }
   ],
   "source": [
    "db.head(10)"
   ]
  },
  {
   "attachments": {},
   "cell_type": "markdown",
   "metadata": {},
   "source": [
    "### Now let's update our Year value into 2 different columns, Released and Finished"
   ]
  },
  {
   "cell_type": "code",
   "execution_count": 65,
   "metadata": {},
   "outputs": [
    {
     "data": {
      "text/html": [
       "<div>\n",
       "<style scoped>\n",
       "    .dataframe tbody tr th:only-of-type {\n",
       "        vertical-align: middle;\n",
       "    }\n",
       "\n",
       "    .dataframe tbody tr th {\n",
       "        vertical-align: top;\n",
       "    }\n",
       "\n",
       "    .dataframe thead th {\n",
       "        text-align: right;\n",
       "    }\n",
       "</style>\n",
       "<table border=\"1\" class=\"dataframe\">\n",
       "  <thead>\n",
       "    <tr style=\"text-align: right;\">\n",
       "      <th></th>\n",
       "      <th>Popularity Ranking</th>\n",
       "      <th>Name</th>\n",
       "      <th>Released</th>\n",
       "      <th>Finished</th>\n",
       "      <th>Certificate</th>\n",
       "      <th>Runtime</th>\n",
       "      <th>Genre</th>\n",
       "      <th>Rating</th>\n",
       "      <th>Summary</th>\n",
       "      <th>Director</th>\n",
       "      <th>Stars</th>\n",
       "      <th>Votes</th>\n",
       "      <th>Gross</th>\n",
       "      <th>Type of Content</th>\n",
       "    </tr>\n",
       "  </thead>\n",
       "  <tbody>\n",
       "    <tr>\n",
       "      <th>0</th>\n",
       "      <td>1</td>\n",
       "      <td>Everything Everywhere All at Once</td>\n",
       "      <td>2022</td>\n",
       "      <td>2022</td>\n",
       "      <td>14A</td>\n",
       "      <td>139 min</td>\n",
       "      <td>Action, Adventure, Comedy</td>\n",
       "      <td>7.9</td>\n",
       "      <td>A middle-aged Chinese immigrant is swept up in...</td>\n",
       "      <td>Daniel Kwan</td>\n",
       "      <td>Daniel Scheinert, Michelle Yeoh, Stephanie Hsu...</td>\n",
       "      <td>400,779</td>\n",
       "      <td>$72.86M</td>\n",
       "      <td>Movie</td>\n",
       "    </tr>\n",
       "    <tr>\n",
       "      <th>1</th>\n",
       "      <td>2</td>\n",
       "      <td>Scream VI</td>\n",
       "      <td>2023</td>\n",
       "      <td>2023</td>\n",
       "      <td>14A</td>\n",
       "      <td>122 min</td>\n",
       "      <td>Horror, Mystery, Thriller</td>\n",
       "      <td>7.2</td>\n",
       "      <td>In the next installment, the survivors of the ...</td>\n",
       "      <td>Matt Bettinelli-Olpin</td>\n",
       "      <td>Tyler Gillett, Courteney Cox, Melissa Barrera,...</td>\n",
       "      <td>33,036</td>\n",
       "      <td>NaN</td>\n",
       "      <td>Movie</td>\n",
       "    </tr>\n",
       "    <tr>\n",
       "      <th>2</th>\n",
       "      <td>3</td>\n",
       "      <td>The Whale</td>\n",
       "      <td>2022</td>\n",
       "      <td>2022</td>\n",
       "      <td>14A</td>\n",
       "      <td>117 min</td>\n",
       "      <td>Drama</td>\n",
       "      <td>7.8</td>\n",
       "      <td>A reclusive, morbidly obese English teacher at...</td>\n",
       "      <td>Darren Aronofsky</td>\n",
       "      <td>Brendan Fraser, Sadie Sink, Ty Simpkins, Hong ...</td>\n",
       "      <td>109,463</td>\n",
       "      <td>NaN</td>\n",
       "      <td>Movie</td>\n",
       "    </tr>\n",
       "    <tr>\n",
       "      <th>3</th>\n",
       "      <td>4</td>\n",
       "      <td>Luther: The Fallen Sun</td>\n",
       "      <td>2023</td>\n",
       "      <td>2023</td>\n",
       "      <td>14A</td>\n",
       "      <td>129 min</td>\n",
       "      <td>Crime, Drama, Mystery</td>\n",
       "      <td>6.4</td>\n",
       "      <td>Brilliant but disgraced detective John Luther ...</td>\n",
       "      <td>Jamie Payne</td>\n",
       "      <td>Idris Elba, Cynthia Erivo, Andy Serkis, Dermot...</td>\n",
       "      <td>32,754</td>\n",
       "      <td>NaN</td>\n",
       "      <td>Movie</td>\n",
       "    </tr>\n",
       "    <tr>\n",
       "      <th>4</th>\n",
       "      <td>5</td>\n",
       "      <td>The Little Mermaid</td>\n",
       "      <td>2023</td>\n",
       "      <td>2023</td>\n",
       "      <td>Upcoming</td>\n",
       "      <td>Upcoming</td>\n",
       "      <td>Adventure, Family, Fantasy</td>\n",
       "      <td>Upcoming</td>\n",
       "      <td>A young mermaid makes a deal with a sea witch ...</td>\n",
       "      <td>Rob Marshall</td>\n",
       "      <td>Halle Bailey, Jonah Hauer-King, Melissa McCart...</td>\n",
       "      <td>Upcoming</td>\n",
       "      <td>NaN</td>\n",
       "      <td>Movie</td>\n",
       "    </tr>\n",
       "    <tr>\n",
       "      <th>5</th>\n",
       "      <td>6</td>\n",
       "      <td>Cocaine Bear</td>\n",
       "      <td>2023</td>\n",
       "      <td>2023</td>\n",
       "      <td>18A</td>\n",
       "      <td>95 min</td>\n",
       "      <td>Comedy, Thriller</td>\n",
       "      <td>6.1</td>\n",
       "      <td>An oddball group of cops, criminals, tourists ...</td>\n",
       "      <td>Elizabeth Banks</td>\n",
       "      <td>Keri Russell, Alden Ehrenreich, O'Shea Jackson...</td>\n",
       "      <td>39,288</td>\n",
       "      <td>NaN</td>\n",
       "      <td>Movie</td>\n",
       "    </tr>\n",
       "    <tr>\n",
       "      <th>6</th>\n",
       "      <td>7</td>\n",
       "      <td>Shazam! Fury of the Gods</td>\n",
       "      <td>2023</td>\n",
       "      <td>2023</td>\n",
       "      <td>PG</td>\n",
       "      <td>130 min</td>\n",
       "      <td>Action, Adventure, Comedy</td>\n",
       "      <td>6.6</td>\n",
       "      <td>The film continues the story of teenage Billy ...</td>\n",
       "      <td>David F. Sandberg</td>\n",
       "      <td>Zachary Levi, Asher Angel, Jack Dylan Grazer, ...</td>\n",
       "      <td>21,285</td>\n",
       "      <td>NaN</td>\n",
       "      <td>Movie</td>\n",
       "    </tr>\n",
       "    <tr>\n",
       "      <th>7</th>\n",
       "      <td>8</td>\n",
       "      <td>Im Westen nichts Neues</td>\n",
       "      <td>2022</td>\n",
       "      <td>2022</td>\n",
       "      <td>14A</td>\n",
       "      <td>148 min</td>\n",
       "      <td>Action, Drama, War</td>\n",
       "      <td>7.8</td>\n",
       "      <td>A young German soldier's terrifying experience...</td>\n",
       "      <td>Edward Berger</td>\n",
       "      <td>Felix Kammerer, Albrecht Schuch, Aaron Hilmer,...</td>\n",
       "      <td>182,055</td>\n",
       "      <td>NaN</td>\n",
       "      <td>Movie</td>\n",
       "    </tr>\n",
       "    <tr>\n",
       "      <th>8</th>\n",
       "      <td>9</td>\n",
       "      <td>The Banshees of Inisherin</td>\n",
       "      <td>2022</td>\n",
       "      <td>2022</td>\n",
       "      <td>14A</td>\n",
       "      <td>114 min</td>\n",
       "      <td>Comedy, Drama</td>\n",
       "      <td>7.7</td>\n",
       "      <td>Two lifelong friends find themselves at an imp...</td>\n",
       "      <td>Martin McDonagh</td>\n",
       "      <td>Colin Farrell, Brendan Gleeson, Kerry Condon, ...</td>\n",
       "      <td>180,383</td>\n",
       "      <td>NaN</td>\n",
       "      <td>Movie</td>\n",
       "    </tr>\n",
       "    <tr>\n",
       "      <th>9</th>\n",
       "      <td>10</td>\n",
       "      <td>Triangle of Sadness</td>\n",
       "      <td>2022</td>\n",
       "      <td>2022</td>\n",
       "      <td>PG</td>\n",
       "      <td>147 min</td>\n",
       "      <td>Comedy, Drama</td>\n",
       "      <td>7.4</td>\n",
       "      <td>A fashion model celebrity couple join an event...</td>\n",
       "      <td>Ruben Östlund</td>\n",
       "      <td>Thobias Thorwid, Harris Dickinson, Charlbi Dea...</td>\n",
       "      <td>112,988</td>\n",
       "      <td>NaN</td>\n",
       "      <td>Movie</td>\n",
       "    </tr>\n",
       "  </tbody>\n",
       "</table>\n",
       "</div>"
      ],
      "text/plain": [
       "   Popularity Ranking                               Name Released Finished  \\\n",
       "0                   1  Everything Everywhere All at Once     2022     2022   \n",
       "1                   2                          Scream VI     2023     2023   \n",
       "2                   3                          The Whale     2022     2022   \n",
       "3                   4             Luther: The Fallen Sun     2023     2023   \n",
       "4                   5                 The Little Mermaid     2023     2023   \n",
       "5                   6                       Cocaine Bear     2023     2023   \n",
       "6                   7           Shazam! Fury of the Gods     2023     2023   \n",
       "7                   8             Im Westen nichts Neues     2022     2022   \n",
       "8                   9          The Banshees of Inisherin     2022     2022   \n",
       "9                  10                Triangle of Sadness     2022     2022   \n",
       "\n",
       "  Certificate   Runtime                       Genre    Rating  \\\n",
       "0         14A   139 min   Action, Adventure, Comedy       7.9   \n",
       "1         14A   122 min   Horror, Mystery, Thriller       7.2   \n",
       "2         14A   117 min                       Drama       7.8   \n",
       "3         14A   129 min       Crime, Drama, Mystery       6.4   \n",
       "4    Upcoming  Upcoming  Adventure, Family, Fantasy  Upcoming   \n",
       "5         18A    95 min            Comedy, Thriller       6.1   \n",
       "6          PG   130 min   Action, Adventure, Comedy       6.6   \n",
       "7         14A   148 min          Action, Drama, War       7.8   \n",
       "8         14A   114 min               Comedy, Drama       7.7   \n",
       "9          PG   147 min               Comedy, Drama       7.4   \n",
       "\n",
       "                                             Summary               Director  \\\n",
       "0  A middle-aged Chinese immigrant is swept up in...            Daniel Kwan   \n",
       "1  In the next installment, the survivors of the ...  Matt Bettinelli-Olpin   \n",
       "2  A reclusive, morbidly obese English teacher at...       Darren Aronofsky   \n",
       "3  Brilliant but disgraced detective John Luther ...            Jamie Payne   \n",
       "4  A young mermaid makes a deal with a sea witch ...           Rob Marshall   \n",
       "5  An oddball group of cops, criminals, tourists ...        Elizabeth Banks   \n",
       "6  The film continues the story of teenage Billy ...      David F. Sandberg   \n",
       "7  A young German soldier's terrifying experience...          Edward Berger   \n",
       "8  Two lifelong friends find themselves at an imp...        Martin McDonagh   \n",
       "9  A fashion model celebrity couple join an event...          Ruben Östlund   \n",
       "\n",
       "                                               Stars     Votes    Gross  \\\n",
       "0  Daniel Scheinert, Michelle Yeoh, Stephanie Hsu...   400,779  $72.86M   \n",
       "1  Tyler Gillett, Courteney Cox, Melissa Barrera,...    33,036      NaN   \n",
       "2  Brendan Fraser, Sadie Sink, Ty Simpkins, Hong ...   109,463      NaN   \n",
       "3  Idris Elba, Cynthia Erivo, Andy Serkis, Dermot...    32,754      NaN   \n",
       "4  Halle Bailey, Jonah Hauer-King, Melissa McCart...  Upcoming      NaN   \n",
       "5  Keri Russell, Alden Ehrenreich, O'Shea Jackson...    39,288      NaN   \n",
       "6  Zachary Levi, Asher Angel, Jack Dylan Grazer, ...    21,285      NaN   \n",
       "7  Felix Kammerer, Albrecht Schuch, Aaron Hilmer,...   182,055      NaN   \n",
       "8  Colin Farrell, Brendan Gleeson, Kerry Condon, ...   180,383      NaN   \n",
       "9  Thobias Thorwid, Harris Dickinson, Charlbi Dea...   112,988      NaN   \n",
       "\n",
       "  Type of Content  \n",
       "0           Movie  \n",
       "1           Movie  \n",
       "2           Movie  \n",
       "3           Movie  \n",
       "4           Movie  \n",
       "5           Movie  \n",
       "6           Movie  \n",
       "7           Movie  \n",
       "8           Movie  \n",
       "9           Movie  "
      ]
     },
     "execution_count": 65,
     "metadata": {},
     "output_type": "execute_result"
    }
   ],
   "source": [
    "db.rename(columns= {'Year' : 'Released'}, inplace= True)\n",
    "db.insert(3, 'Finished', db['Released'], True)\n",
    "db.head(10)"
   ]
  },
  {
   "cell_type": "code",
   "execution_count": 66,
   "metadata": {},
   "outputs": [],
   "source": [
    "temp = []\n",
    "for i in db['Released']:\n",
    "    temp.append(re.findall('\\d+.', i))"
   ]
  },
  {
   "cell_type": "code",
   "execution_count": 67,
   "metadata": {},
   "outputs": [],
   "source": [
    "# Updating Released year info\n",
    "\n",
    "temp_2 = []\n",
    "for i in range(len(temp)):\n",
    "    try:\n",
    "        temp_2.append(int(temp[i][0]))\n",
    "    except:\n",
    "        temp_2.append(int(temp[i][0][:4]))\n",
    "db['Released'] = temp_2"
   ]
  },
  {
   "cell_type": "code",
   "execution_count": 68,
   "metadata": {},
   "outputs": [],
   "source": [
    "# Updating Finish year info\n",
    "\n",
    "temp_2 = []\n",
    "for i in range(len(temp)):\n",
    "    try:\n",
    "        temp_2.append(int(temp[i][-1]))\n",
    "    except:\n",
    "        temp_2.append('Running')\n",
    "db['Finished'] = temp_2"
   ]
  },
  {
   "cell_type": "markdown",
   "metadata": {},
   "source": []
  },
  {
   "cell_type": "code",
   "execution_count": null,
   "metadata": {},
   "outputs": [],
   "source": []
  },
  {
   "attachments": {},
   "cell_type": "markdown",
   "metadata": {},
   "source": [
    "## Saving the database"
   ]
  },
  {
   "cell_type": "code",
   "execution_count": 69,
   "metadata": {},
   "outputs": [],
   "source": [
    "# We will save this database now, since the websites overhaul can change and extracting data each time from website will be costly and we will need to validate our code.\n",
    "\n",
    "db.to_csv('main.csv')"
   ]
  },
  {
   "attachments": {},
   "cell_type": "markdown",
   "metadata": {},
   "source": [
    "## Read"
   ]
  },
  {
   "cell_type": "code",
   "execution_count": 152,
   "metadata": {},
   "outputs": [],
   "source": [
    "db = pd.read_csv('main.csv')"
   ]
  },
  {
   "cell_type": "code",
   "execution_count": 153,
   "metadata": {},
   "outputs": [],
   "source": [
    "db.drop(columns= 'Unnamed: 0', inplace= True)"
   ]
  },
  {
   "attachments": {},
   "cell_type": "markdown",
   "metadata": {},
   "source": [
    "## Now before continuing with EDA"
   ]
  },
  {
   "cell_type": "code",
   "execution_count": 161,
   "metadata": {},
   "outputs": [
    {
     "name": "stdout",
     "output_type": "stream",
     "text": [
      "(6754, 14)\n"
     ]
    }
   ],
   "source": [
    "# We are only using those values which doesn't have any 'Upcoming' value in the row\n",
    "\n",
    "X = db[(db['Rating'] != 'Upcoming') & (db['Votes'] != 'Upcoming')]\n",
    "print(X.shape)"
   ]
  },
  {
   "cell_type": "code",
   "execution_count": 162,
   "metadata": {},
   "outputs": [
    {
     "data": {
      "text/html": [
       "<div>\n",
       "<style scoped>\n",
       "    .dataframe tbody tr th:only-of-type {\n",
       "        vertical-align: middle;\n",
       "    }\n",
       "\n",
       "    .dataframe tbody tr th {\n",
       "        vertical-align: top;\n",
       "    }\n",
       "\n",
       "    .dataframe thead th {\n",
       "        text-align: right;\n",
       "    }\n",
       "</style>\n",
       "<table border=\"1\" class=\"dataframe\">\n",
       "  <thead>\n",
       "    <tr style=\"text-align: right;\">\n",
       "      <th></th>\n",
       "      <th>Popularity Ranking</th>\n",
       "      <th>Name</th>\n",
       "      <th>Released</th>\n",
       "      <th>Finished</th>\n",
       "      <th>Certificate</th>\n",
       "      <th>Runtime</th>\n",
       "      <th>Genre</th>\n",
       "      <th>Rating</th>\n",
       "      <th>Summary</th>\n",
       "      <th>Director</th>\n",
       "      <th>Stars</th>\n",
       "      <th>Votes</th>\n",
       "      <th>Gross</th>\n",
       "      <th>Type of Content</th>\n",
       "    </tr>\n",
       "  </thead>\n",
       "  <tbody>\n",
       "    <tr>\n",
       "      <th>0</th>\n",
       "      <td>1</td>\n",
       "      <td>Everything Everywhere All at Once</td>\n",
       "      <td>2022</td>\n",
       "      <td>2022</td>\n",
       "      <td>14A</td>\n",
       "      <td>139 min</td>\n",
       "      <td>Action, Adventure, Comedy</td>\n",
       "      <td>7.9</td>\n",
       "      <td>A middle-aged Chinese immigrant is swept up in...</td>\n",
       "      <td>Daniel Kwan</td>\n",
       "      <td>Daniel Scheinert, Michelle Yeoh, Stephanie Hsu...</td>\n",
       "      <td>400,779</td>\n",
       "      <td>$72.86M</td>\n",
       "      <td>Movie</td>\n",
       "    </tr>\n",
       "    <tr>\n",
       "      <th>1</th>\n",
       "      <td>2</td>\n",
       "      <td>Scream VI</td>\n",
       "      <td>2023</td>\n",
       "      <td>2023</td>\n",
       "      <td>14A</td>\n",
       "      <td>122 min</td>\n",
       "      <td>Horror, Mystery, Thriller</td>\n",
       "      <td>7.2</td>\n",
       "      <td>In the next installment, the survivors of the ...</td>\n",
       "      <td>Matt Bettinelli-Olpin</td>\n",
       "      <td>Tyler Gillett, Courteney Cox, Melissa Barrera,...</td>\n",
       "      <td>33,036</td>\n",
       "      <td>NaN</td>\n",
       "      <td>Movie</td>\n",
       "    </tr>\n",
       "    <tr>\n",
       "      <th>2</th>\n",
       "      <td>3</td>\n",
       "      <td>The Whale</td>\n",
       "      <td>2022</td>\n",
       "      <td>2022</td>\n",
       "      <td>14A</td>\n",
       "      <td>117 min</td>\n",
       "      <td>Drama</td>\n",
       "      <td>7.8</td>\n",
       "      <td>A reclusive, morbidly obese English teacher at...</td>\n",
       "      <td>Darren Aronofsky</td>\n",
       "      <td>Brendan Fraser, Sadie Sink, Ty Simpkins, Hong ...</td>\n",
       "      <td>109,463</td>\n",
       "      <td>NaN</td>\n",
       "      <td>Movie</td>\n",
       "    </tr>\n",
       "    <tr>\n",
       "      <th>3</th>\n",
       "      <td>4</td>\n",
       "      <td>Luther: The Fallen Sun</td>\n",
       "      <td>2023</td>\n",
       "      <td>2023</td>\n",
       "      <td>14A</td>\n",
       "      <td>129 min</td>\n",
       "      <td>Crime, Drama, Mystery</td>\n",
       "      <td>6.4</td>\n",
       "      <td>Brilliant but disgraced detective John Luther ...</td>\n",
       "      <td>Jamie Payne</td>\n",
       "      <td>Idris Elba, Cynthia Erivo, Andy Serkis, Dermot...</td>\n",
       "      <td>32,754</td>\n",
       "      <td>NaN</td>\n",
       "      <td>Movie</td>\n",
       "    </tr>\n",
       "    <tr>\n",
       "      <th>5</th>\n",
       "      <td>6</td>\n",
       "      <td>Cocaine Bear</td>\n",
       "      <td>2023</td>\n",
       "      <td>2023</td>\n",
       "      <td>18A</td>\n",
       "      <td>95 min</td>\n",
       "      <td>Comedy, Thriller</td>\n",
       "      <td>6.1</td>\n",
       "      <td>An oddball group of cops, criminals, tourists ...</td>\n",
       "      <td>Elizabeth Banks</td>\n",
       "      <td>Keri Russell, Alden Ehrenreich, O'Shea Jackson...</td>\n",
       "      <td>39,288</td>\n",
       "      <td>NaN</td>\n",
       "      <td>Movie</td>\n",
       "    </tr>\n",
       "    <tr>\n",
       "      <th>6</th>\n",
       "      <td>7</td>\n",
       "      <td>Shazam! Fury of the Gods</td>\n",
       "      <td>2023</td>\n",
       "      <td>2023</td>\n",
       "      <td>PG</td>\n",
       "      <td>130 min</td>\n",
       "      <td>Action, Adventure, Comedy</td>\n",
       "      <td>6.6</td>\n",
       "      <td>The film continues the story of teenage Billy ...</td>\n",
       "      <td>David F. Sandberg</td>\n",
       "      <td>Zachary Levi, Asher Angel, Jack Dylan Grazer, ...</td>\n",
       "      <td>21,285</td>\n",
       "      <td>NaN</td>\n",
       "      <td>Movie</td>\n",
       "    </tr>\n",
       "    <tr>\n",
       "      <th>7</th>\n",
       "      <td>8</td>\n",
       "      <td>Im Westen nichts Neues</td>\n",
       "      <td>2022</td>\n",
       "      <td>2022</td>\n",
       "      <td>14A</td>\n",
       "      <td>148 min</td>\n",
       "      <td>Action, Drama, War</td>\n",
       "      <td>7.8</td>\n",
       "      <td>A young German soldier's terrifying experience...</td>\n",
       "      <td>Edward Berger</td>\n",
       "      <td>Felix Kammerer, Albrecht Schuch, Aaron Hilmer,...</td>\n",
       "      <td>182,055</td>\n",
       "      <td>NaN</td>\n",
       "      <td>Movie</td>\n",
       "    </tr>\n",
       "    <tr>\n",
       "      <th>8</th>\n",
       "      <td>9</td>\n",
       "      <td>The Banshees of Inisherin</td>\n",
       "      <td>2022</td>\n",
       "      <td>2022</td>\n",
       "      <td>14A</td>\n",
       "      <td>114 min</td>\n",
       "      <td>Comedy, Drama</td>\n",
       "      <td>7.7</td>\n",
       "      <td>Two lifelong friends find themselves at an imp...</td>\n",
       "      <td>Martin McDonagh</td>\n",
       "      <td>Colin Farrell, Brendan Gleeson, Kerry Condon, ...</td>\n",
       "      <td>180,383</td>\n",
       "      <td>NaN</td>\n",
       "      <td>Movie</td>\n",
       "    </tr>\n",
       "    <tr>\n",
       "      <th>9</th>\n",
       "      <td>10</td>\n",
       "      <td>Triangle of Sadness</td>\n",
       "      <td>2022</td>\n",
       "      <td>2022</td>\n",
       "      <td>PG</td>\n",
       "      <td>147 min</td>\n",
       "      <td>Comedy, Drama</td>\n",
       "      <td>7.4</td>\n",
       "      <td>A fashion model celebrity couple join an event...</td>\n",
       "      <td>Ruben Östlund</td>\n",
       "      <td>Thobias Thorwid, Harris Dickinson, Charlbi Dea...</td>\n",
       "      <td>112,988</td>\n",
       "      <td>NaN</td>\n",
       "      <td>Movie</td>\n",
       "    </tr>\n",
       "    <tr>\n",
       "      <th>10</th>\n",
       "      <td>11</td>\n",
       "      <td>65</td>\n",
       "      <td>2023</td>\n",
       "      <td>2023</td>\n",
       "      <td>14A</td>\n",
       "      <td>93 min</td>\n",
       "      <td>Action, Adventure, Drama</td>\n",
       "      <td>5.7</td>\n",
       "      <td>An astronaut crash lands on a mysterious plane...</td>\n",
       "      <td>Scott Beck</td>\n",
       "      <td>Bryan Woods, Adam Driver, Ariana Greenblatt, C...</td>\n",
       "      <td>11,708</td>\n",
       "      <td>NaN</td>\n",
       "      <td>Movie</td>\n",
       "    </tr>\n",
       "  </tbody>\n",
       "</table>\n",
       "</div>"
      ],
      "text/plain": [
       "    Popularity Ranking                               Name  Released Finished  \\\n",
       "0                    1  Everything Everywhere All at Once      2022     2022   \n",
       "1                    2                          Scream VI      2023     2023   \n",
       "2                    3                          The Whale      2022     2022   \n",
       "3                    4             Luther: The Fallen Sun      2023     2023   \n",
       "5                    6                       Cocaine Bear      2023     2023   \n",
       "6                    7           Shazam! Fury of the Gods      2023     2023   \n",
       "7                    8             Im Westen nichts Neues      2022     2022   \n",
       "8                    9          The Banshees of Inisherin      2022     2022   \n",
       "9                   10                Triangle of Sadness      2022     2022   \n",
       "10                  11                                 65      2023     2023   \n",
       "\n",
       "   Certificate  Runtime                      Genre Rating  \\\n",
       "0          14A  139 min  Action, Adventure, Comedy    7.9   \n",
       "1          14A  122 min  Horror, Mystery, Thriller    7.2   \n",
       "2          14A  117 min                      Drama    7.8   \n",
       "3          14A  129 min      Crime, Drama, Mystery    6.4   \n",
       "5          18A   95 min           Comedy, Thriller    6.1   \n",
       "6           PG  130 min  Action, Adventure, Comedy    6.6   \n",
       "7          14A  148 min         Action, Drama, War    7.8   \n",
       "8          14A  114 min              Comedy, Drama    7.7   \n",
       "9           PG  147 min              Comedy, Drama    7.4   \n",
       "10         14A   93 min   Action, Adventure, Drama    5.7   \n",
       "\n",
       "                                              Summary               Director  \\\n",
       "0   A middle-aged Chinese immigrant is swept up in...            Daniel Kwan   \n",
       "1   In the next installment, the survivors of the ...  Matt Bettinelli-Olpin   \n",
       "2   A reclusive, morbidly obese English teacher at...       Darren Aronofsky   \n",
       "3   Brilliant but disgraced detective John Luther ...            Jamie Payne   \n",
       "5   An oddball group of cops, criminals, tourists ...        Elizabeth Banks   \n",
       "6   The film continues the story of teenage Billy ...      David F. Sandberg   \n",
       "7   A young German soldier's terrifying experience...          Edward Berger   \n",
       "8   Two lifelong friends find themselves at an imp...        Martin McDonagh   \n",
       "9   A fashion model celebrity couple join an event...          Ruben Östlund   \n",
       "10  An astronaut crash lands on a mysterious plane...             Scott Beck   \n",
       "\n",
       "                                                Stars    Votes    Gross  \\\n",
       "0   Daniel Scheinert, Michelle Yeoh, Stephanie Hsu...  400,779  $72.86M   \n",
       "1   Tyler Gillett, Courteney Cox, Melissa Barrera,...   33,036      NaN   \n",
       "2   Brendan Fraser, Sadie Sink, Ty Simpkins, Hong ...  109,463      NaN   \n",
       "3   Idris Elba, Cynthia Erivo, Andy Serkis, Dermot...   32,754      NaN   \n",
       "5   Keri Russell, Alden Ehrenreich, O'Shea Jackson...   39,288      NaN   \n",
       "6   Zachary Levi, Asher Angel, Jack Dylan Grazer, ...   21,285      NaN   \n",
       "7   Felix Kammerer, Albrecht Schuch, Aaron Hilmer,...  182,055      NaN   \n",
       "8   Colin Farrell, Brendan Gleeson, Kerry Condon, ...  180,383      NaN   \n",
       "9   Thobias Thorwid, Harris Dickinson, Charlbi Dea...  112,988      NaN   \n",
       "10  Bryan Woods, Adam Driver, Ariana Greenblatt, C...   11,708      NaN   \n",
       "\n",
       "   Type of Content  \n",
       "0            Movie  \n",
       "1            Movie  \n",
       "2            Movie  \n",
       "3            Movie  \n",
       "5            Movie  \n",
       "6            Movie  \n",
       "7            Movie  \n",
       "8            Movie  \n",
       "9            Movie  \n",
       "10           Movie  "
      ]
     },
     "execution_count": 162,
     "metadata": {},
     "output_type": "execute_result"
    }
   ],
   "source": [
    "X.head(10)"
   ]
  },
  {
   "attachments": {},
   "cell_type": "markdown",
   "metadata": {},
   "source": [
    "# Exploratory Data Analysis (STEP 3)"
   ]
  },
  {
   "cell_type": "code",
   "execution_count": 163,
   "metadata": {},
   "outputs": [
    {
     "data": {
      "text/html": [
       "<div>\n",
       "<style scoped>\n",
       "    .dataframe tbody tr th:only-of-type {\n",
       "        vertical-align: middle;\n",
       "    }\n",
       "\n",
       "    .dataframe tbody tr th {\n",
       "        vertical-align: top;\n",
       "    }\n",
       "\n",
       "    .dataframe thead th {\n",
       "        text-align: right;\n",
       "    }\n",
       "</style>\n",
       "<table border=\"1\" class=\"dataframe\">\n",
       "  <thead>\n",
       "    <tr style=\"text-align: right;\">\n",
       "      <th></th>\n",
       "      <th>Popularity Ranking</th>\n",
       "      <th>Name</th>\n",
       "      <th>Released</th>\n",
       "      <th>Finished</th>\n",
       "      <th>Certificate</th>\n",
       "      <th>Runtime</th>\n",
       "      <th>Genre</th>\n",
       "      <th>Rating</th>\n",
       "      <th>Summary</th>\n",
       "      <th>Director</th>\n",
       "      <th>Stars</th>\n",
       "      <th>Votes</th>\n",
       "      <th>Gross</th>\n",
       "      <th>Type of Content</th>\n",
       "    </tr>\n",
       "  </thead>\n",
       "  <tbody>\n",
       "    <tr>\n",
       "      <th>0</th>\n",
       "      <td>1</td>\n",
       "      <td>Everything Everywhere All at Once</td>\n",
       "      <td>2022</td>\n",
       "      <td>2022</td>\n",
       "      <td>14A</td>\n",
       "      <td>139 min</td>\n",
       "      <td>Action, Adventure, Comedy</td>\n",
       "      <td>7.9</td>\n",
       "      <td>A middle-aged Chinese immigrant is swept up in...</td>\n",
       "      <td>Daniel Kwan</td>\n",
       "      <td>Daniel Scheinert, Michelle Yeoh, Stephanie Hsu...</td>\n",
       "      <td>400,779</td>\n",
       "      <td>$72.86M</td>\n",
       "      <td>Movie</td>\n",
       "    </tr>\n",
       "    <tr>\n",
       "      <th>1</th>\n",
       "      <td>2</td>\n",
       "      <td>Scream VI</td>\n",
       "      <td>2023</td>\n",
       "      <td>2023</td>\n",
       "      <td>14A</td>\n",
       "      <td>122 min</td>\n",
       "      <td>Horror, Mystery, Thriller</td>\n",
       "      <td>7.2</td>\n",
       "      <td>In the next installment, the survivors of the ...</td>\n",
       "      <td>Matt Bettinelli-Olpin</td>\n",
       "      <td>Tyler Gillett, Courteney Cox, Melissa Barrera,...</td>\n",
       "      <td>33,036</td>\n",
       "      <td>NaN</td>\n",
       "      <td>Movie</td>\n",
       "    </tr>\n",
       "    <tr>\n",
       "      <th>2</th>\n",
       "      <td>3</td>\n",
       "      <td>The Whale</td>\n",
       "      <td>2022</td>\n",
       "      <td>2022</td>\n",
       "      <td>14A</td>\n",
       "      <td>117 min</td>\n",
       "      <td>Drama</td>\n",
       "      <td>7.8</td>\n",
       "      <td>A reclusive, morbidly obese English teacher at...</td>\n",
       "      <td>Darren Aronofsky</td>\n",
       "      <td>Brendan Fraser, Sadie Sink, Ty Simpkins, Hong ...</td>\n",
       "      <td>109,463</td>\n",
       "      <td>NaN</td>\n",
       "      <td>Movie</td>\n",
       "    </tr>\n",
       "    <tr>\n",
       "      <th>3</th>\n",
       "      <td>4</td>\n",
       "      <td>Luther: The Fallen Sun</td>\n",
       "      <td>2023</td>\n",
       "      <td>2023</td>\n",
       "      <td>14A</td>\n",
       "      <td>129 min</td>\n",
       "      <td>Crime, Drama, Mystery</td>\n",
       "      <td>6.4</td>\n",
       "      <td>Brilliant but disgraced detective John Luther ...</td>\n",
       "      <td>Jamie Payne</td>\n",
       "      <td>Idris Elba, Cynthia Erivo, Andy Serkis, Dermot...</td>\n",
       "      <td>32,754</td>\n",
       "      <td>NaN</td>\n",
       "      <td>Movie</td>\n",
       "    </tr>\n",
       "    <tr>\n",
       "      <th>5</th>\n",
       "      <td>6</td>\n",
       "      <td>Cocaine Bear</td>\n",
       "      <td>2023</td>\n",
       "      <td>2023</td>\n",
       "      <td>18A</td>\n",
       "      <td>95 min</td>\n",
       "      <td>Comedy, Thriller</td>\n",
       "      <td>6.1</td>\n",
       "      <td>An oddball group of cops, criminals, tourists ...</td>\n",
       "      <td>Elizabeth Banks</td>\n",
       "      <td>Keri Russell, Alden Ehrenreich, O'Shea Jackson...</td>\n",
       "      <td>39,288</td>\n",
       "      <td>NaN</td>\n",
       "      <td>Movie</td>\n",
       "    </tr>\n",
       "    <tr>\n",
       "      <th>6</th>\n",
       "      <td>7</td>\n",
       "      <td>Shazam! Fury of the Gods</td>\n",
       "      <td>2023</td>\n",
       "      <td>2023</td>\n",
       "      <td>PG</td>\n",
       "      <td>130 min</td>\n",
       "      <td>Action, Adventure, Comedy</td>\n",
       "      <td>6.6</td>\n",
       "      <td>The film continues the story of teenage Billy ...</td>\n",
       "      <td>David F. Sandberg</td>\n",
       "      <td>Zachary Levi, Asher Angel, Jack Dylan Grazer, ...</td>\n",
       "      <td>21,285</td>\n",
       "      <td>NaN</td>\n",
       "      <td>Movie</td>\n",
       "    </tr>\n",
       "    <tr>\n",
       "      <th>7</th>\n",
       "      <td>8</td>\n",
       "      <td>Im Westen nichts Neues</td>\n",
       "      <td>2022</td>\n",
       "      <td>2022</td>\n",
       "      <td>14A</td>\n",
       "      <td>148 min</td>\n",
       "      <td>Action, Drama, War</td>\n",
       "      <td>7.8</td>\n",
       "      <td>A young German soldier's terrifying experience...</td>\n",
       "      <td>Edward Berger</td>\n",
       "      <td>Felix Kammerer, Albrecht Schuch, Aaron Hilmer,...</td>\n",
       "      <td>182,055</td>\n",
       "      <td>NaN</td>\n",
       "      <td>Movie</td>\n",
       "    </tr>\n",
       "    <tr>\n",
       "      <th>8</th>\n",
       "      <td>9</td>\n",
       "      <td>The Banshees of Inisherin</td>\n",
       "      <td>2022</td>\n",
       "      <td>2022</td>\n",
       "      <td>14A</td>\n",
       "      <td>114 min</td>\n",
       "      <td>Comedy, Drama</td>\n",
       "      <td>7.7</td>\n",
       "      <td>Two lifelong friends find themselves at an imp...</td>\n",
       "      <td>Martin McDonagh</td>\n",
       "      <td>Colin Farrell, Brendan Gleeson, Kerry Condon, ...</td>\n",
       "      <td>180,383</td>\n",
       "      <td>NaN</td>\n",
       "      <td>Movie</td>\n",
       "    </tr>\n",
       "    <tr>\n",
       "      <th>9</th>\n",
       "      <td>10</td>\n",
       "      <td>Triangle of Sadness</td>\n",
       "      <td>2022</td>\n",
       "      <td>2022</td>\n",
       "      <td>PG</td>\n",
       "      <td>147 min</td>\n",
       "      <td>Comedy, Drama</td>\n",
       "      <td>7.4</td>\n",
       "      <td>A fashion model celebrity couple join an event...</td>\n",
       "      <td>Ruben Östlund</td>\n",
       "      <td>Thobias Thorwid, Harris Dickinson, Charlbi Dea...</td>\n",
       "      <td>112,988</td>\n",
       "      <td>NaN</td>\n",
       "      <td>Movie</td>\n",
       "    </tr>\n",
       "    <tr>\n",
       "      <th>10</th>\n",
       "      <td>11</td>\n",
       "      <td>65</td>\n",
       "      <td>2023</td>\n",
       "      <td>2023</td>\n",
       "      <td>14A</td>\n",
       "      <td>93 min</td>\n",
       "      <td>Action, Adventure, Drama</td>\n",
       "      <td>5.7</td>\n",
       "      <td>An astronaut crash lands on a mysterious plane...</td>\n",
       "      <td>Scott Beck</td>\n",
       "      <td>Bryan Woods, Adam Driver, Ariana Greenblatt, C...</td>\n",
       "      <td>11,708</td>\n",
       "      <td>NaN</td>\n",
       "      <td>Movie</td>\n",
       "    </tr>\n",
       "  </tbody>\n",
       "</table>\n",
       "</div>"
      ],
      "text/plain": [
       "    Popularity Ranking                               Name  Released Finished  \\\n",
       "0                    1  Everything Everywhere All at Once      2022     2022   \n",
       "1                    2                          Scream VI      2023     2023   \n",
       "2                    3                          The Whale      2022     2022   \n",
       "3                    4             Luther: The Fallen Sun      2023     2023   \n",
       "5                    6                       Cocaine Bear      2023     2023   \n",
       "6                    7           Shazam! Fury of the Gods      2023     2023   \n",
       "7                    8             Im Westen nichts Neues      2022     2022   \n",
       "8                    9          The Banshees of Inisherin      2022     2022   \n",
       "9                   10                Triangle of Sadness      2022     2022   \n",
       "10                  11                                 65      2023     2023   \n",
       "\n",
       "   Certificate  Runtime                      Genre Rating  \\\n",
       "0          14A  139 min  Action, Adventure, Comedy    7.9   \n",
       "1          14A  122 min  Horror, Mystery, Thriller    7.2   \n",
       "2          14A  117 min                      Drama    7.8   \n",
       "3          14A  129 min      Crime, Drama, Mystery    6.4   \n",
       "5          18A   95 min           Comedy, Thriller    6.1   \n",
       "6           PG  130 min  Action, Adventure, Comedy    6.6   \n",
       "7          14A  148 min         Action, Drama, War    7.8   \n",
       "8          14A  114 min              Comedy, Drama    7.7   \n",
       "9           PG  147 min              Comedy, Drama    7.4   \n",
       "10         14A   93 min   Action, Adventure, Drama    5.7   \n",
       "\n",
       "                                              Summary               Director  \\\n",
       "0   A middle-aged Chinese immigrant is swept up in...            Daniel Kwan   \n",
       "1   In the next installment, the survivors of the ...  Matt Bettinelli-Olpin   \n",
       "2   A reclusive, morbidly obese English teacher at...       Darren Aronofsky   \n",
       "3   Brilliant but disgraced detective John Luther ...            Jamie Payne   \n",
       "5   An oddball group of cops, criminals, tourists ...        Elizabeth Banks   \n",
       "6   The film continues the story of teenage Billy ...      David F. Sandberg   \n",
       "7   A young German soldier's terrifying experience...          Edward Berger   \n",
       "8   Two lifelong friends find themselves at an imp...        Martin McDonagh   \n",
       "9   A fashion model celebrity couple join an event...          Ruben Östlund   \n",
       "10  An astronaut crash lands on a mysterious plane...             Scott Beck   \n",
       "\n",
       "                                                Stars    Votes    Gross  \\\n",
       "0   Daniel Scheinert, Michelle Yeoh, Stephanie Hsu...  400,779  $72.86M   \n",
       "1   Tyler Gillett, Courteney Cox, Melissa Barrera,...   33,036      NaN   \n",
       "2   Brendan Fraser, Sadie Sink, Ty Simpkins, Hong ...  109,463      NaN   \n",
       "3   Idris Elba, Cynthia Erivo, Andy Serkis, Dermot...   32,754      NaN   \n",
       "5   Keri Russell, Alden Ehrenreich, O'Shea Jackson...   39,288      NaN   \n",
       "6   Zachary Levi, Asher Angel, Jack Dylan Grazer, ...   21,285      NaN   \n",
       "7   Felix Kammerer, Albrecht Schuch, Aaron Hilmer,...  182,055      NaN   \n",
       "8   Colin Farrell, Brendan Gleeson, Kerry Condon, ...  180,383      NaN   \n",
       "9   Thobias Thorwid, Harris Dickinson, Charlbi Dea...  112,988      NaN   \n",
       "10  Bryan Woods, Adam Driver, Ariana Greenblatt, C...   11,708      NaN   \n",
       "\n",
       "   Type of Content  \n",
       "0            Movie  \n",
       "1            Movie  \n",
       "2            Movie  \n",
       "3            Movie  \n",
       "5            Movie  \n",
       "6            Movie  \n",
       "7            Movie  \n",
       "8            Movie  \n",
       "9            Movie  \n",
       "10           Movie  "
      ]
     },
     "execution_count": 163,
     "metadata": {},
     "output_type": "execute_result"
    }
   ],
   "source": [
    "(X.head(10))"
   ]
  },
  {
   "attachments": {},
   "cell_type": "markdown",
   "metadata": {},
   "source": [
    "Different 'Certificate' for movie and series in our dataset"
   ]
  },
  {
   "cell_type": "code",
   "execution_count": 164,
   "metadata": {},
   "outputs": [
    {
     "data": {
      "image/png": "[encoded data removed]",
      "text/plain": [
       "<Figure size 600x1000 with 1 Axes>"
      ]
     },
     "metadata": {},
     "output_type": "display_data"
    }
   ],
   "source": [
    "plt.figure(figsize=(6,10))\n",
    "sns.countplot(data= X, y= 'Certificate', hue= 'Type of Content',  palette = \"Set2\")\n",
    "plt.show()"
   ]
  },
  {
   "attachments": {},
   "cell_type": "markdown",
   "metadata": {},
   "source": [
    "Checking different genre for movie and series and comparing them"
   ]
  },
  {
   "cell_type": "code",
   "execution_count": 165,
   "metadata": {},
   "outputs": [
    {
     "name": "stdout",
     "output_type": "stream",
     "text": [
      "{'Crime', 'Drama', 'Sci-Fi', 'Family', 'Film-Noir', 'Sport', 'Adult', 'Thriller', 'Documentary', 'History', 'Fantasy', 'Mystery', 'Reality-TV', 'Animation', 'Action', 'Short', 'News', 'Horror', 'Music', 'Talk-Show', 'Comedy', 'Biography', 'War', 'Western', 'Game-Show', 'Musical', 'Romance', 'Adventure'}\n"
     ]
    }
   ],
   "source": [
    "# Different genre of movies/series in our dataset\n",
    "\n",
    "different_genre = X['Genre'].unique()\n",
    "different_genre_set = []\n",
    "for i in different_genre:\n",
    "    temp = i.split(', ')\n",
    "    different_genre_set.extend(temp)\n",
    "different_genre_set = set(different_genre_set)\n",
    "print(different_genre_set)\n",
    "some_dictonary = {k:0 for k in different_genre_set}"
   ]
  },
  {
   "cell_type": "code",
   "execution_count": 166,
   "metadata": {},
   "outputs": [
    {
     "data": {
      "text/plain": [
       "28"
      ]
     },
     "execution_count": 166,
     "metadata": {},
     "output_type": "execute_result"
    }
   ],
   "source": [
    "len(different_genre_set)"
   ]
  },
  {
   "cell_type": "code",
   "execution_count": 167,
   "metadata": {},
   "outputs": [],
   "source": [
    "for i in list(different_genre_set):\n",
    "    for j in X['Genre']:\n",
    "        if i in j:\n",
    "            some_dictonary[i] += 1"
   ]
  },
  {
   "cell_type": "code",
   "execution_count": 168,
   "metadata": {},
   "outputs": [
    {
     "data": {
      "text/plain": [
       "17389"
      ]
     },
     "execution_count": 168,
     "metadata": {},
     "output_type": "execute_result"
    }
   ],
   "source": [
    "sum(list(some_dictonary.values()))\n",
    "\n",
    "# This is more than double the total number of movies we have, so we can say in average a movie/series contains atleast 2 genre."
   ]
  },
  {
   "cell_type": "code",
   "execution_count": 169,
   "metadata": {},
   "outputs": [
    {
     "data": {
      "image/png": "[encoded data removed]",
      "text/plain": [
       "<Figure size 1200x800 with 1 Axes>"
      ]
     },
     "metadata": {},
     "output_type": "display_data"
    }
   ],
   "source": [
    "plt.figure(figsize=(12,8))\n",
    "plt.barh(list(some_dictonary.keys()), list(some_dictonary.values()),  color='g')\n",
    "plt.title(\"Number of Movie/Series of specific genre\")\n",
    "plt.xlabel('Count')\n",
    "plt.ylabel('Genre')\n",
    "plt.show()"
   ]
  },
  {
   "cell_type": "code",
   "execution_count": 170,
   "metadata": {},
   "outputs": [
    {
     "data": {
      "image/png": "[encoded data removed]",
      "text/plain": [
       "<Figure size 640x480 with 1 Axes>"
      ]
     },
     "metadata": {},
     "output_type": "display_data"
    }
   ],
   "source": [
    "# In drama which is more movie or seires?\n",
    "\n",
    "drama_group = X.loc[X['Genre'].str.contains(\"Drama\")]\n",
    "drama_group = drama_group.groupby('Type of Content')['Type of Content'].count()\n",
    "\n",
    "plt.pie(drama_group, labels= drama_group.index, autopct= lambda x: f'{x*drama_group.sum()/100:.0f}', explode= [0.1, 0], shadow= True)\n",
    "plt.show()"
   ]
  },
  {
   "attachments": {},
   "cell_type": "markdown",
   "metadata": {},
   "source": [
    "Average Rating based on Released Year"
   ]
  },
  {
   "cell_type": "code",
   "execution_count": 171,
   "metadata": {},
   "outputs": [
    {
     "data": {
      "image/png": "[encoded data removed]",
      "text/plain": [
       "<Figure size 640x480 with 1 Axes>"
      ]
     },
     "metadata": {},
     "output_type": "display_data"
    }
   ],
   "source": [
    "plt.scatter((X['Released']), [round(float(x)) for x in (X['Rating'])])\n",
    "plt.title('Number of movie/series with their rating (rounded)')\n",
    "plt.xlabel('Year')\n",
    "plt.ylabel('Rating')\n",
    "plt.show()"
   ]
  },
  {
   "attachments": {},
   "cell_type": "markdown",
   "metadata": {},
   "source": [
    "Average Rating of movie and series"
   ]
  },
  {
   "cell_type": "code",
   "execution_count": 172,
   "metadata": {},
   "outputs": [
    {
     "data": {
      "image/png": "[encoded data removed]",
      "text/plain": [
       "<Figure size 1000x600 with 1 Axes>"
      ]
     },
     "metadata": {},
     "output_type": "display_data"
    }
   ],
   "source": [
    "def convert(x):\n",
    "    return round(float(x))\n",
    "\n",
    "rating_group = X.copy()\n",
    "rating_group['Rating'] = rating_group['Rating'].apply(convert)\n",
    "rating_group = rating_group.groupby('Rating')['Type of Content'].value_counts().reset_index(name= 'count')\n",
    "\n",
    "plt.figure(figsize=(10,6))\n",
    "sns.barplot(data=rating_group, x='Rating', y='count', hue=\"Type of Content\")\n",
    "plt.ylabel(\"Total number\")\n",
    "plt.xlabel(\"Rating (rounded)\")\n",
    "plt.title('Rating of different Movies/Series')\n",
    "plt.show()"
   ]
  },
  {
   "attachments": {},
   "cell_type": "markdown",
   "metadata": {},
   "source": [
    "Checking if there is any change in the runtime for movie and series now compared to 1900s"
   ]
  },
  {
   "cell_type": "code",
   "execution_count": 173,
   "metadata": {},
   "outputs": [
    {
     "name": "stderr",
     "output_type": "stream",
     "text": [
      "C:\\Users\\keera\\AppData\\Local\\Temp\\ipykernel_28628\\2842355289.py:5: SettingWithCopyWarning: \n",
      "A value is trying to be set on a copy of a slice from a DataFrame.\n",
      "Try using .loc[row_indexer,col_indexer] = value instead\n",
      "\n",
      "See the caveats in the documentation: https://pandas.pydata.org/pandas-docs/stable/user_guide/indexing.html#returning-a-view-versus-a-copy\n",
      "  runtime_release['Runtime'] = runtime_release['Runtime'].apply(change_runtime)\n"
     ]
    },
    {
     "data": {
      "image/png": "[encoded data removed]",
      "text/plain": [
       "<Figure size 620.611x500 with 1 Axes>"
      ]
     },
     "metadata": {},
     "output_type": "display_data"
    }
   ],
   "source": [
    "def change_runtime(x):\n",
    "   return int((re.findall(r'\\d+', x))[0])\n",
    "\n",
    "runtime_release = X[['Released', 'Runtime', 'Type of Content']]\n",
    "runtime_release['Runtime'] = runtime_release['Runtime'].apply(change_runtime)\n",
    "sns.lmplot(data= runtime_release, x= 'Released', y= 'Runtime' , hue= 'Type of Content')\n",
    "plt.show()"
   ]
  },
  {
   "attachments": {},
   "cell_type": "markdown",
   "metadata": {},
   "source": [
    "# Pandas Profiling (STEP 4)"
   ]
  },
  {
   "cell_type": "code",
   "execution_count": 174,
   "metadata": {},
   "outputs": [
    {
     "name": "stderr",
     "output_type": "stream",
     "text": [
      "C:\\Users\\keera\\AppData\\Local\\Packages\\PythonSoftwareFoundation.Python.3.9_qbz5n2kfra8p0\\LocalCache\\local-packages\\Python39\\site-packages\\multimethod\\__init__.py:315: SettingWithCopyWarning: \n",
      "A value is trying to be set on a copy of a slice from a DataFrame\n",
      "\n",
      "See the caveats in the documentation: https://pandas.pydata.org/pandas-docs/stable/user_guide/indexing.html#returning-a-view-versus-a-copy\n",
      "  return func(*args, **kwargs)\n",
      "Summarize dataset:  71%|███████▏  | 15/21 [00:01<00:00, 18.49it/s, Calculate auto correlation]         C:\\Users\\keera\\AppData\\Local\\Packages\\PythonSoftwareFoundation.Python.3.9_qbz5n2kfra8p0\\LocalCache\\local-packages\\Python39\\site-packages\\scipy\\stats\\_stats_py.py:110: RuntimeWarning: The input array could not be properly checked for nan values. nan values will be ignored.\n",
      "  warnings.warn(\"The input array could not be properly \"\n",
      "C:\\Users\\keera\\AppData\\Local\\Packages\\PythonSoftwareFoundation.Python.3.9_qbz5n2kfra8p0\\LocalCache\\local-packages\\Python39\\site-packages\\scipy\\stats\\_stats_py.py:110: RuntimeWarning: The input array could not be properly checked for nan values. nan values will be ignored.\n",
      "  warnings.warn(\"The input array could not be properly \"\n",
      "Summarize dataset: 100%|██████████| 33/33 [00:03<00:00,  8.73it/s, Completed]                                     \n",
      "Generate report structure: 100%|██████████| 1/1 [00:02<00:00,  2.82s/it]\n",
      "Render HTML: 100%|██████████| 1/1 [00:00<00:00,  1.39it/s]\n",
      "Export report to file: 100%|██████████| 1/1 [00:00<00:00, 146.18it/s]\n"
     ]
    }
   ],
   "source": [
    "from pandas_profiling import ProfileReport\n",
    "prof = ProfileReport(X)\n",
    "prof.to_file(output_file='output.html')"
   ]
  },
  {
   "attachments": {},
   "cell_type": "markdown",
   "metadata": {},
   "source": [
    "# Encoding methods (STEP 5)"
   ]
  },
  {
   "cell_type": "code",
   "execution_count": 175,
   "metadata": {},
   "outputs": [
    {
     "name": "stdout",
     "output_type": "stream",
     "text": [
      "<class 'pandas.core.frame.DataFrame'>\n",
      "Int64Index: 6754 entries, 0 to 7316\n",
      "Data columns (total 14 columns):\n",
      " #   Column              Non-Null Count  Dtype \n",
      "---  ------              --------------  ----- \n",
      " 0   Popularity Ranking  6754 non-null   int64 \n",
      " 1   Name                6754 non-null   object\n",
      " 2   Released            6754 non-null   int64 \n",
      " 3   Finished            6754 non-null   object\n",
      " 4   Certificate         6754 non-null   object\n",
      " 5   Runtime             6754 non-null   object\n",
      " 6   Genre               6754 non-null   object\n",
      " 7   Rating              6754 non-null   object\n",
      " 8   Summary             6754 non-null   object\n",
      " 9   Director            4472 non-null   object\n",
      " 10  Stars               6754 non-null   object\n",
      " 11  Votes               6754 non-null   object\n",
      " 12  Gross               3437 non-null   object\n",
      " 13  Type of Content     6754 non-null   object\n",
      "dtypes: int64(2), object(12)\n",
      "memory usage: 1.0+ MB\n"
     ]
    }
   ],
   "source": [
    "# We have already done some encoding above (changing Year column to Released and Finish with numerical values)\n",
    "\n",
    "X.info()"
   ]
  },
  {
   "cell_type": "code",
   "execution_count": 176,
   "metadata": {},
   "outputs": [
    {
     "data": {
      "text/html": [
       "<div>\n",
       "<style scoped>\n",
       "    .dataframe tbody tr th:only-of-type {\n",
       "        vertical-align: middle;\n",
       "    }\n",
       "\n",
       "    .dataframe tbody tr th {\n",
       "        vertical-align: top;\n",
       "    }\n",
       "\n",
       "    .dataframe thead th {\n",
       "        text-align: right;\n",
       "    }\n",
       "</style>\n",
       "<table border=\"1\" class=\"dataframe\">\n",
       "  <thead>\n",
       "    <tr style=\"text-align: right;\">\n",
       "      <th></th>\n",
       "      <th>Popularity Ranking</th>\n",
       "      <th>Name</th>\n",
       "      <th>Released</th>\n",
       "      <th>Finished</th>\n",
       "      <th>Certificate</th>\n",
       "      <th>Runtime</th>\n",
       "      <th>Genre</th>\n",
       "      <th>Rating</th>\n",
       "      <th>Summary</th>\n",
       "      <th>Director</th>\n",
       "      <th>Stars</th>\n",
       "      <th>Votes</th>\n",
       "      <th>Gross</th>\n",
       "      <th>Type of Content</th>\n",
       "    </tr>\n",
       "  </thead>\n",
       "  <tbody>\n",
       "    <tr>\n",
       "      <th>0</th>\n",
       "      <td>1</td>\n",
       "      <td>Everything Everywhere All at Once</td>\n",
       "      <td>2022</td>\n",
       "      <td>2022</td>\n",
       "      <td>14A</td>\n",
       "      <td>139 min</td>\n",
       "      <td>Action, Adventure, Comedy</td>\n",
       "      <td>7.9</td>\n",
       "      <td>A middle-aged Chinese immigrant is swept up in...</td>\n",
       "      <td>Daniel Kwan</td>\n",
       "      <td>Daniel Scheinert, Michelle Yeoh, Stephanie Hsu...</td>\n",
       "      <td>400,779</td>\n",
       "      <td>$72.86M</td>\n",
       "      <td>Movie</td>\n",
       "    </tr>\n",
       "    <tr>\n",
       "      <th>1</th>\n",
       "      <td>2</td>\n",
       "      <td>Scream VI</td>\n",
       "      <td>2023</td>\n",
       "      <td>2023</td>\n",
       "      <td>14A</td>\n",
       "      <td>122 min</td>\n",
       "      <td>Horror, Mystery, Thriller</td>\n",
       "      <td>7.2</td>\n",
       "      <td>In the next installment, the survivors of the ...</td>\n",
       "      <td>Matt Bettinelli-Olpin</td>\n",
       "      <td>Tyler Gillett, Courteney Cox, Melissa Barrera,...</td>\n",
       "      <td>33,036</td>\n",
       "      <td>NaN</td>\n",
       "      <td>Movie</td>\n",
       "    </tr>\n",
       "    <tr>\n",
       "      <th>2</th>\n",
       "      <td>3</td>\n",
       "      <td>The Whale</td>\n",
       "      <td>2022</td>\n",
       "      <td>2022</td>\n",
       "      <td>14A</td>\n",
       "      <td>117 min</td>\n",
       "      <td>Drama</td>\n",
       "      <td>7.8</td>\n",
       "      <td>A reclusive, morbidly obese English teacher at...</td>\n",
       "      <td>Darren Aronofsky</td>\n",
       "      <td>Brendan Fraser, Sadie Sink, Ty Simpkins, Hong ...</td>\n",
       "      <td>109,463</td>\n",
       "      <td>NaN</td>\n",
       "      <td>Movie</td>\n",
       "    </tr>\n",
       "    <tr>\n",
       "      <th>3</th>\n",
       "      <td>4</td>\n",
       "      <td>Luther: The Fallen Sun</td>\n",
       "      <td>2023</td>\n",
       "      <td>2023</td>\n",
       "      <td>14A</td>\n",
       "      <td>129 min</td>\n",
       "      <td>Crime, Drama, Mystery</td>\n",
       "      <td>6.4</td>\n",
       "      <td>Brilliant but disgraced detective John Luther ...</td>\n",
       "      <td>Jamie Payne</td>\n",
       "      <td>Idris Elba, Cynthia Erivo, Andy Serkis, Dermot...</td>\n",
       "      <td>32,754</td>\n",
       "      <td>NaN</td>\n",
       "      <td>Movie</td>\n",
       "    </tr>\n",
       "    <tr>\n",
       "      <th>5</th>\n",
       "      <td>6</td>\n",
       "      <td>Cocaine Bear</td>\n",
       "      <td>2023</td>\n",
       "      <td>2023</td>\n",
       "      <td>18A</td>\n",
       "      <td>95 min</td>\n",
       "      <td>Comedy, Thriller</td>\n",
       "      <td>6.1</td>\n",
       "      <td>An oddball group of cops, criminals, tourists ...</td>\n",
       "      <td>Elizabeth Banks</td>\n",
       "      <td>Keri Russell, Alden Ehrenreich, O'Shea Jackson...</td>\n",
       "      <td>39,288</td>\n",
       "      <td>NaN</td>\n",
       "      <td>Movie</td>\n",
       "    </tr>\n",
       "  </tbody>\n",
       "</table>\n",
       "</div>"
      ],
      "text/plain": [
       "   Popularity Ranking                               Name  Released Finished  \\\n",
       "0                   1  Everything Everywhere All at Once      2022     2022   \n",
       "1                   2                          Scream VI      2023     2023   \n",
       "2                   3                          The Whale      2022     2022   \n",
       "3                   4             Luther: The Fallen Sun      2023     2023   \n",
       "5                   6                       Cocaine Bear      2023     2023   \n",
       "\n",
       "  Certificate  Runtime                      Genre Rating  \\\n",
       "0         14A  139 min  Action, Adventure, Comedy    7.9   \n",
       "1         14A  122 min  Horror, Mystery, Thriller    7.2   \n",
       "2         14A  117 min                      Drama    7.8   \n",
       "3         14A  129 min      Crime, Drama, Mystery    6.4   \n",
       "5         18A   95 min           Comedy, Thriller    6.1   \n",
       "\n",
       "                                             Summary               Director  \\\n",
       "0  A middle-aged Chinese immigrant is swept up in...            Daniel Kwan   \n",
       "1  In the next installment, the survivors of the ...  Matt Bettinelli-Olpin   \n",
       "2  A reclusive, morbidly obese English teacher at...       Darren Aronofsky   \n",
       "3  Brilliant but disgraced detective John Luther ...            Jamie Payne   \n",
       "5  An oddball group of cops, criminals, tourists ...        Elizabeth Banks   \n",
       "\n",
       "                                               Stars    Votes    Gross  \\\n",
       "0  Daniel Scheinert, Michelle Yeoh, Stephanie Hsu...  400,779  $72.86M   \n",
       "1  Tyler Gillett, Courteney Cox, Melissa Barrera,...   33,036      NaN   \n",
       "2  Brendan Fraser, Sadie Sink, Ty Simpkins, Hong ...  109,463      NaN   \n",
       "3  Idris Elba, Cynthia Erivo, Andy Serkis, Dermot...   32,754      NaN   \n",
       "5  Keri Russell, Alden Ehrenreich, O'Shea Jackson...   39,288      NaN   \n",
       "\n",
       "  Type of Content  \n",
       "0           Movie  \n",
       "1           Movie  \n",
       "2           Movie  \n",
       "3           Movie  \n",
       "5           Movie  "
      ]
     },
     "execution_count": 176,
     "metadata": {},
     "output_type": "execute_result"
    }
   ],
   "source": [
    "X.head() "
   ]
  },
  {
   "cell_type": "code",
   "execution_count": 177,
   "metadata": {},
   "outputs": [
    {
     "name": "stderr",
     "output_type": "stream",
     "text": [
      "C:\\Users\\keera\\AppData\\Local\\Temp\\ipykernel_28628\\294469746.py:19: SettingWithCopyWarning: \n",
      "A value is trying to be set on a copy of a slice from a DataFrame.\n",
      "Try using .loc[row_indexer,col_indexer] = value instead\n",
      "\n",
      "See the caveats in the documentation: https://pandas.pydata.org/pandas-docs/stable/user_guide/indexing.html#returning-a-view-versus-a-copy\n",
      "  X['Votes'] = X['Votes'].apply(change_votes)\n",
      "C:\\Users\\keera\\AppData\\Local\\Temp\\ipykernel_28628\\294469746.py:20: SettingWithCopyWarning: \n",
      "A value is trying to be set on a copy of a slice from a DataFrame.\n",
      "Try using .loc[row_indexer,col_indexer] = value instead\n",
      "\n",
      "See the caveats in the documentation: https://pandas.pydata.org/pandas-docs/stable/user_guide/indexing.html#returning-a-view-versus-a-copy\n",
      "  X['Gross'] = X['Gross'].apply(change_gross)\n",
      "C:\\Users\\keera\\AppData\\Local\\Temp\\ipykernel_28628\\294469746.py:21: SettingWithCopyWarning: \n",
      "A value is trying to be set on a copy of a slice from a DataFrame.\n",
      "Try using .loc[row_indexer,col_indexer] = value instead\n",
      "\n",
      "See the caveats in the documentation: https://pandas.pydata.org/pandas-docs/stable/user_guide/indexing.html#returning-a-view-versus-a-copy\n",
      "  X['Runtime'] = X['Runtime'].apply(change_runtime)\n",
      "C:\\Users\\keera\\AppData\\Local\\Temp\\ipykernel_28628\\294469746.py:22: SettingWithCopyWarning: \n",
      "A value is trying to be set on a copy of a slice from a DataFrame.\n",
      "Try using .loc[row_indexer,col_indexer] = value instead\n",
      "\n",
      "See the caveats in the documentation: https://pandas.pydata.org/pandas-docs/stable/user_guide/indexing.html#returning-a-view-versus-a-copy\n",
      "  X['Rating'] = X['Rating'].apply(change_rating)\n",
      "C:\\Users\\keera\\AppData\\Local\\Temp\\ipykernel_28628\\294469746.py:24: SettingWithCopyWarning: \n",
      "A value is trying to be set on a copy of a slice from a DataFrame\n",
      "\n",
      "See the caveats in the documentation: https://pandas.pydata.org/pandas-docs/stable/user_guide/indexing.html#returning-a-view-versus-a-copy\n",
      "  X.rename(columns= {'Runtime' : 'Runtime (Minutes)', 'Gross' : 'Gross (M)'}, inplace= True)\n",
      "C:\\Users\\keera\\AppData\\Local\\Temp\\ipykernel_28628\\294469746.py:26: SettingWithCopyWarning: \n",
      "A value is trying to be set on a copy of a slice from a DataFrame\n",
      "\n",
      "See the caveats in the documentation: https://pandas.pydata.org/pandas-docs/stable/user_guide/indexing.html#returning-a-view-versus-a-copy\n",
      "  X['Type of Content'].replace(['Movie', 'Series'], [0, 1], inplace=True)\n"
     ]
    }
   ],
   "source": [
    "# Lets convert Votes/Gross/Rating/Runtime into other Dtype first\n",
    "\n",
    "def change_votes(x):\n",
    "   return int(re.sub(r'\\D' , '', x))\n",
    "\n",
    "def change_runtime(x):\n",
    "   return int((re.findall(r'\\d+', x))[0])\n",
    "\n",
    "def change_rating(x):\n",
    "   return round(float(x))\n",
    "\n",
    "def change_gross(x):\n",
    "   try:\n",
    "      return float((re.findall(r'\\d+.\\d+' , x))[0])\n",
    "   except:\n",
    "      return np.NaN\n",
    "    \n",
    "\n",
    "X['Votes'] = X['Votes'].apply(change_votes)\n",
    "X['Gross'] = X['Gross'].apply(change_gross)\n",
    "X['Runtime'] = X['Runtime'].apply(change_runtime)\n",
    "X['Rating'] = X['Rating'].apply(change_rating)\n",
    "\n",
    "X.rename(columns= {'Runtime' : 'Runtime (Minutes)', 'Gross' : 'Gross (M)'}, inplace= True)\n",
    "\n",
    "X['Type of Content'].replace(['Movie', 'Series'], [0, 1], inplace=True)"
   ]
  },
  {
   "cell_type": "code",
   "execution_count": 178,
   "metadata": {},
   "outputs": [
    {
     "name": "stdout",
     "output_type": "stream",
     "text": [
      "<class 'pandas.core.frame.DataFrame'>\n",
      "Int64Index: 6754 entries, 0 to 7316\n",
      "Data columns (total 14 columns):\n",
      " #   Column              Non-Null Count  Dtype  \n",
      "---  ------              --------------  -----  \n",
      " 0   Popularity Ranking  6754 non-null   int64  \n",
      " 1   Name                6754 non-null   object \n",
      " 2   Released            6754 non-null   int64  \n",
      " 3   Finished            6754 non-null   object \n",
      " 4   Certificate         6754 non-null   object \n",
      " 5   Runtime (Minutes)   6754 non-null   int64  \n",
      " 6   Genre               6754 non-null   object \n",
      " 7   Rating              6754 non-null   int64  \n",
      " 8   Summary             6754 non-null   object \n",
      " 9   Director            4472 non-null   object \n",
      " 10  Stars               6754 non-null   object \n",
      " 11  Votes               6754 non-null   int64  \n",
      " 12  Gross (M)           3437 non-null   float64\n",
      " 13  Type of Content     6754 non-null   int64  \n",
      "dtypes: float64(1), int64(6), object(7)\n",
      "memory usage: 1.0+ MB\n"
     ]
    }
   ],
   "source": [
    "X.info()"
   ]
  },
  {
   "cell_type": "code",
   "execution_count": 179,
   "metadata": {},
   "outputs": [
    {
     "data": {
      "text/plain": [
       "Name           6472\n",
       "Finished         97\n",
       "Certificate      33\n",
       "Genre           435\n",
       "Summary        6753\n",
       "Director       2011\n",
       "Stars          6722\n",
       "dtype: int64"
      ]
     },
     "execution_count": 179,
     "metadata": {},
     "output_type": "execute_result"
    }
   ],
   "source": [
    "X[['Name', 'Finished', 'Certificate', 'Genre', 'Summary', 'Director', 'Stars']].nunique()"
   ]
  },
  {
   "attachments": {},
   "cell_type": "markdown",
   "metadata": {},
   "source": [
    "Since there are alot of unique values which will incerease the features in our dataset drastically, so we are not converting any more values to int/float. We can apply it on Certificate, but that will be extended on the project"
   ]
  },
  {
   "attachments": {},
   "cell_type": "markdown",
   "metadata": {},
   "source": [
    "# Checking outliers (STEP 6)"
   ]
  },
  {
   "cell_type": "code",
   "execution_count": 117,
   "metadata": {},
   "outputs": [
    {
     "data": {
      "text/html": [
       "<div>\n",
       "<style scoped>\n",
       "    .dataframe tbody tr th:only-of-type {\n",
       "        vertical-align: middle;\n",
       "    }\n",
       "\n",
       "    .dataframe tbody tr th {\n",
       "        vertical-align: top;\n",
       "    }\n",
       "\n",
       "    .dataframe thead th {\n",
       "        text-align: right;\n",
       "    }\n",
       "</style>\n",
       "<table border=\"1\" class=\"dataframe\">\n",
       "  <thead>\n",
       "    <tr style=\"text-align: right;\">\n",
       "      <th></th>\n",
       "      <th>Popularity Ranking</th>\n",
       "      <th>Released</th>\n",
       "    </tr>\n",
       "  </thead>\n",
       "  <tbody>\n",
       "    <tr>\n",
       "      <th>count</th>\n",
       "      <td>6755.000000</td>\n",
       "      <td>6755.000000</td>\n",
       "    </tr>\n",
       "    <tr>\n",
       "      <th>mean</th>\n",
       "      <td>2222.645744</td>\n",
       "      <td>2006.920207</td>\n",
       "    </tr>\n",
       "    <tr>\n",
       "      <th>std</th>\n",
       "      <td>1431.393374</td>\n",
       "      <td>15.651350</td>\n",
       "    </tr>\n",
       "    <tr>\n",
       "      <th>min</th>\n",
       "      <td>1.000000</td>\n",
       "      <td>1920.000000</td>\n",
       "    </tr>\n",
       "    <tr>\n",
       "      <th>25%</th>\n",
       "      <td>962.000000</td>\n",
       "      <td>1999.000000</td>\n",
       "    </tr>\n",
       "    <tr>\n",
       "      <th>50%</th>\n",
       "      <td>2087.000000</td>\n",
       "      <td>2012.000000</td>\n",
       "    </tr>\n",
       "    <tr>\n",
       "      <th>75%</th>\n",
       "      <td>3415.500000</td>\n",
       "      <td>2019.000000</td>\n",
       "    </tr>\n",
       "    <tr>\n",
       "      <th>max</th>\n",
       "      <td>5000.000000</td>\n",
       "      <td>2023.000000</td>\n",
       "    </tr>\n",
       "  </tbody>\n",
       "</table>\n",
       "</div>"
      ],
      "text/plain": [
       "       Popularity Ranking     Released\n",
       "count         6755.000000  6755.000000\n",
       "mean          2222.645744  2006.920207\n",
       "std           1431.393374    15.651350\n",
       "min              1.000000  1920.000000\n",
       "25%            962.000000  1999.000000\n",
       "50%           2087.000000  2012.000000\n",
       "75%           3415.500000  2019.000000\n",
       "max           5000.000000  2023.000000"
      ]
     },
     "execution_count": 117,
     "metadata": {},
     "output_type": "execute_result"
    }
   ],
   "source": [
    "X.describe()"
   ]
  },
  {
   "cell_type": "code",
   "execution_count": 118,
   "metadata": {},
   "outputs": [
    {
     "ename": "KeyError",
     "evalue": "'Runtime (Minutes)'",
     "output_type": "error",
     "traceback": [
      "\u001b[1;31m---------------------------------------------------------------------------\u001b[0m",
      "\u001b[1;31mKeyError\u001b[0m                                  Traceback (most recent call last)",
      "File \u001b[1;32m~\\AppData\\Local\\Packages\\PythonSoftwareFoundation.Python.3.9_qbz5n2kfra8p0\\LocalCache\\local-packages\\Python39\\site-packages\\pandas\\core\\indexes\\base.py:3629\u001b[0m, in \u001b[0;36mIndex.get_loc\u001b[1;34m(self, key, method, tolerance)\u001b[0m\n\u001b[0;32m   3628\u001b[0m \u001b[39mtry\u001b[39;00m:\n\u001b[1;32m-> 3629\u001b[0m     \u001b[39mreturn\u001b[39;00m \u001b[39mself\u001b[39;49m\u001b[39m.\u001b[39;49m_engine\u001b[39m.\u001b[39;49mget_loc(casted_key)\n\u001b[0;32m   3630\u001b[0m \u001b[39mexcept\u001b[39;00m \u001b[39mKeyError\u001b[39;00m \u001b[39mas\u001b[39;00m err:\n",
      "File \u001b[1;32m~\\AppData\\Local\\Packages\\PythonSoftwareFoundation.Python.3.9_qbz5n2kfra8p0\\LocalCache\\local-packages\\Python39\\site-packages\\pandas\\_libs\\index.pyx:136\u001b[0m, in \u001b[0;36mpandas._libs.index.IndexEngine.get_loc\u001b[1;34m()\u001b[0m\n",
      "File \u001b[1;32m~\\AppData\\Local\\Packages\\PythonSoftwareFoundation.Python.3.9_qbz5n2kfra8p0\\LocalCache\\local-packages\\Python39\\site-packages\\pandas\\_libs\\index.pyx:163\u001b[0m, in \u001b[0;36mpandas._libs.index.IndexEngine.get_loc\u001b[1;34m()\u001b[0m\n",
      "File \u001b[1;32mpandas\\_libs\\hashtable_class_helper.pxi:5198\u001b[0m, in \u001b[0;36mpandas._libs.hashtable.PyObjectHashTable.get_item\u001b[1;34m()\u001b[0m\n",
      "File \u001b[1;32mpandas\\_libs\\hashtable_class_helper.pxi:5206\u001b[0m, in \u001b[0;36mpandas._libs.hashtable.PyObjectHashTable.get_item\u001b[1;34m()\u001b[0m\n",
      "\u001b[1;31mKeyError\u001b[0m: 'Runtime (Minutes)'",
      "\nThe above exception was the direct cause of the following exception:\n",
      "\u001b[1;31mKeyError\u001b[0m                                  Traceback (most recent call last)",
      "\u001b[1;32md:\\Projects\\Advanced Python AI and ML Tools\\main.ipynb Cell 101\u001b[0m in \u001b[0;36m2\n\u001b[0;32m      <a href='vscode-notebook-cell:/d%3A/Projects/Advanced%20Python%20AI%20and%20ML%20Tools/main.ipynb#Y166sZmlsZQ%3D%3D?line=0'>1</a>\u001b[0m fig, ax \u001b[39m=\u001b[39m plt\u001b[39m.\u001b[39msubplots(\u001b[39m2\u001b[39m,\u001b[39m2\u001b[39m)\n\u001b[1;32m----> <a href='vscode-notebook-cell:/d%3A/Projects/Advanced%20Python%20AI%20and%20ML%20Tools/main.ipynb#Y166sZmlsZQ%3D%3D?line=1'>2</a>\u001b[0m boxplot_data \u001b[39m=\u001b[39m X[\u001b[39m'\u001b[39;49m\u001b[39mRuntime (Minutes)\u001b[39;49m\u001b[39m'\u001b[39;49m]\u001b[39m.\u001b[39mvalues\n\u001b[0;32m      <a href='vscode-notebook-cell:/d%3A/Projects/Advanced%20Python%20AI%20and%20ML%20Tools/main.ipynb#Y166sZmlsZQ%3D%3D?line=2'>3</a>\u001b[0m rating_data \u001b[39m=\u001b[39m X[\u001b[39m'\u001b[39m\u001b[39mRating\u001b[39m\u001b[39m'\u001b[39m]\u001b[39m.\u001b[39mvalues\n\u001b[0;32m      <a href='vscode-notebook-cell:/d%3A/Projects/Advanced%20Python%20AI%20and%20ML%20Tools/main.ipynb#Y166sZmlsZQ%3D%3D?line=3'>4</a>\u001b[0m votes_data \u001b[39m=\u001b[39m X[\u001b[39m'\u001b[39m\u001b[39mVotes\u001b[39m\u001b[39m'\u001b[39m]\u001b[39m.\u001b[39mvalues\n",
      "File \u001b[1;32m~\\AppData\\Local\\Packages\\PythonSoftwareFoundation.Python.3.9_qbz5n2kfra8p0\\LocalCache\\local-packages\\Python39\\site-packages\\pandas\\core\\frame.py:3505\u001b[0m, in \u001b[0;36mDataFrame.__getitem__\u001b[1;34m(self, key)\u001b[0m\n\u001b[0;32m   3503\u001b[0m \u001b[39mif\u001b[39;00m \u001b[39mself\u001b[39m\u001b[39m.\u001b[39mcolumns\u001b[39m.\u001b[39mnlevels \u001b[39m>\u001b[39m \u001b[39m1\u001b[39m:\n\u001b[0;32m   3504\u001b[0m     \u001b[39mreturn\u001b[39;00m \u001b[39mself\u001b[39m\u001b[39m.\u001b[39m_getitem_multilevel(key)\n\u001b[1;32m-> 3505\u001b[0m indexer \u001b[39m=\u001b[39m \u001b[39mself\u001b[39;49m\u001b[39m.\u001b[39;49mcolumns\u001b[39m.\u001b[39;49mget_loc(key)\n\u001b[0;32m   3506\u001b[0m \u001b[39mif\u001b[39;00m is_integer(indexer):\n\u001b[0;32m   3507\u001b[0m     indexer \u001b[39m=\u001b[39m [indexer]\n",
      "File \u001b[1;32m~\\AppData\\Local\\Packages\\PythonSoftwareFoundation.Python.3.9_qbz5n2kfra8p0\\LocalCache\\local-packages\\Python39\\site-packages\\pandas\\core\\indexes\\base.py:3631\u001b[0m, in \u001b[0;36mIndex.get_loc\u001b[1;34m(self, key, method, tolerance)\u001b[0m\n\u001b[0;32m   3629\u001b[0m     \u001b[39mreturn\u001b[39;00m \u001b[39mself\u001b[39m\u001b[39m.\u001b[39m_engine\u001b[39m.\u001b[39mget_loc(casted_key)\n\u001b[0;32m   3630\u001b[0m \u001b[39mexcept\u001b[39;00m \u001b[39mKeyError\u001b[39;00m \u001b[39mas\u001b[39;00m err:\n\u001b[1;32m-> 3631\u001b[0m     \u001b[39mraise\u001b[39;00m \u001b[39mKeyError\u001b[39;00m(key) \u001b[39mfrom\u001b[39;00m \u001b[39merr\u001b[39;00m\n\u001b[0;32m   3632\u001b[0m \u001b[39mexcept\u001b[39;00m \u001b[39mTypeError\u001b[39;00m:\n\u001b[0;32m   3633\u001b[0m     \u001b[39m# If we have a listlike key, _check_indexing_error will raise\u001b[39;00m\n\u001b[0;32m   3634\u001b[0m     \u001b[39m#  InvalidIndexError. Otherwise we fall through and re-raise\u001b[39;00m\n\u001b[0;32m   3635\u001b[0m     \u001b[39m#  the TypeError.\u001b[39;00m\n\u001b[0;32m   3636\u001b[0m     \u001b[39mself\u001b[39m\u001b[39m.\u001b[39m_check_indexing_error(key)\n",
      "\u001b[1;31mKeyError\u001b[0m: 'Runtime (Minutes)'"
     ]
    },
    {
     "data": {
      "image/png": "[encoded data removed]",
      "text/plain": [
       "<Figure size 640x480 with 4 Axes>"
      ]
     },
     "metadata": {},
     "output_type": "display_data"
    }
   ],
   "source": [
    "fig, ax = plt.subplots(2,2)\n",
    "boxplot_data = X['Runtime (Minutes)'].values\n",
    "rating_data = X['Rating'].values\n",
    "votes_data = X['Votes'].values\n",
    "runtime_data = X['Released'].values\n",
    "ax[0,0].boxplot(boxplot_data)\n",
    "ax[0,1].boxplot(rating_data)\n",
    "ax[1,0].boxplot(votes_data)\n",
    "ax[1,1].boxplot(runtime_data)\n",
    "plt.show()"
   ]
  },
  {
   "cell_type": "code",
   "execution_count": 237,
   "metadata": {},
   "outputs": [
    {
     "name": "stdout",
     "output_type": "stream",
     "text": [
      "Popularity Ranking      2457.50\n",
      "Released                  20.00\n",
      "Runtime (Minutes)         61.00\n",
      "Rating                     2.00\n",
      "Votes                 128989.50\n",
      "Gross (M)                 73.95\n",
      "Type of Content            1.00\n",
      "dtype: float64\n"
     ]
    }
   ],
   "source": [
    "Q1 = X.quantile(0.25)\n",
    "Q3 = X.quantile(0.75)\n",
    "IQR = Q3 - Q1\n",
    "LW = Q1 - 1.5*IQR\n",
    "UW = Q3 + 1.5*IQR\n",
    "print(IQR)"
   ]
  },
  {
   "cell_type": "code",
   "execution_count": 238,
   "metadata": {},
   "outputs": [
    {
     "name": "stderr",
     "output_type": "stream",
     "text": [
      "C:\\Users\\keera\\AppData\\Local\\Temp\\ipykernel_20872\\4158904436.py:1: FutureWarning: Automatic reindexing on DataFrame vs Series comparisons is deprecated and will raise ValueError in a future version. Do `left, right = left.align(right, axis=1, copy=False)` before e.g. `left == right`\n",
      "  (((X < LW) | (X > UW))).value_counts()\n"
     ]
    },
    {
     "data": {
      "text/plain": [
       "Certificate  Director  Finished  Genre  Gross (M)  Name   Popularity Ranking  Rating  Released  Runtime (Minutes)  Stars  Summary  Type of Content  Votes\n",
       "False        False     False     False  False      False  False               False   False     False              False  False    False            False    5867\n",
       "                                                                                                                                                    True      397\n",
       "                                                                                      True      False              False  False    False            False     198\n",
       "                                        True       False  False               False   False     False              False  False    False            True      175\n",
       "                                                                                                                                                    False      52\n",
       "                                        False      False  False               False   False     True               False  False    False            False      46\n",
       "                                                                                      True      False              False  False    False            True       12\n",
       "                                                                              True    False     False              False  False    False            False       8\n",
       "                                                                              False   True      True               False  False    False            False       5\n",
       "                                                                                      False     True               False  False    False            True        3\n",
       "dtype: int64"
      ]
     },
     "execution_count": 238,
     "metadata": {},
     "output_type": "execute_result"
    }
   ],
   "source": [
    "(((X < LW) | (X > UW))).value_counts()"
   ]
  },
  {
   "attachments": {},
   "cell_type": "markdown",
   "metadata": {},
   "source": [
    "# Addressing Outliers (STEP 7)"
   ]
  },
  {
   "cell_type": "code",
   "execution_count": 198,
   "metadata": {},
   "outputs": [],
   "source": [
    "outliers_column_name = LW.index"
   ]
  },
  {
   "attachments": {},
   "cell_type": "markdown",
   "metadata": {},
   "source": [
    "### Now lets address outliers using Quantile-based Flooring and Capping first"
   ]
  },
  {
   "cell_type": "code",
   "execution_count": 239,
   "metadata": {},
   "outputs": [],
   "source": [
    "dummy_db = X.copy()"
   ]
  },
  {
   "cell_type": "code",
   "execution_count": 240,
   "metadata": {},
   "outputs": [],
   "source": [
    "floor_value = dummy_db.quantile(0.01)\n",
    "ceiling_value = dummy_db.quantile(0.99)"
   ]
  },
  {
   "cell_type": "code",
   "execution_count": null,
   "metadata": {},
   "outputs": [],
   "source": [
    "for i, j in zip(outliers_column_name, range(len(outliers_column_name))):\n",
    "    \n",
    "    dummy_db[i] = np.where(dummy_db[i] < floor_value[j], floor_value[j], dummy_db[i])\n",
    "    dummy_db[i] = np.where(dummy_db[i] > ceiling_value[j], ceiling_value[j], dummy_db[i])"
   ]
  },
  {
   "cell_type": "code",
   "execution_count": 226,
   "metadata": {},
   "outputs": [
    {
     "data": {
      "image/png": "[encoded data removed]",
      "text/plain": [
       "<Figure size 640x480 with 4 Axes>"
      ]
     },
     "metadata": {},
     "output_type": "display_data"
    }
   ],
   "source": [
    "fig, ax = plt.subplots(2,2)\n",
    "boxplot_data = dummy_db['Runtime (Minutes)'].values\n",
    "rating_data = dummy_db['Rating'].values\n",
    "votes_data = dummy_db['Votes'].values\n",
    "runtime_data = dummy_db['Released'].values\n",
    "ax[0,0].boxplot(boxplot_data)\n",
    "ax[0,1].boxplot(rating_data)\n",
    "ax[1,0].boxplot(votes_data)\n",
    "ax[1,1].boxplot(runtime_data)\n",
    "plt.show()"
   ]
  },
  {
   "cell_type": "code",
   "execution_count": 243,
   "metadata": {},
   "outputs": [
    {
     "name": "stderr",
     "output_type": "stream",
     "text": [
      "C:\\Users\\keera\\AppData\\Local\\Temp\\ipykernel_20872\\1515554613.py:1: FutureWarning: Automatic reindexing on DataFrame vs Series comparisons is deprecated and will raise ValueError in a future version. Do `left, right = left.align(right, axis=1, copy=False)` before e.g. `left == right`\n",
      "  (((dummy_db < LW) | (dummy_db > UW))).value_counts()\n"
     ]
    },
    {
     "data": {
      "text/plain": [
       "Certificate  Director  Finished  Genre  Gross (M)  Name   Popularity Ranking  Rating  Released  Runtime (Minutes)  Stars  Summary  Type of Content  Votes\n",
       "False        False     False     False  False      False  False               False   False     False              False  False    False            False    5921\n",
       "                                                                                                                                                    True      400\n",
       "                                                                                      True      False              False  False    False            False     203\n",
       "                                        True       False  False               False   False     False              False  False    False            True      175\n",
       "                                                                                                                                                    False      52\n",
       "                                        False      False  False               False   True      False              False  False    False            True       12\n",
       "dtype: int64"
      ]
     },
     "execution_count": 243,
     "metadata": {},
     "output_type": "execute_result"
    }
   ],
   "source": [
    "(((dummy_db < LW) | (dummy_db > UW))).value_counts()"
   ]
  },
  {
   "attachments": {},
   "cell_type": "markdown",
   "metadata": {},
   "source": [
    "By converting .1% of our outliers we are only able to remove ~100 outliers "
   ]
  },
  {
   "attachments": {},
   "cell_type": "markdown",
   "metadata": {},
   "source": [
    "### Trimming"
   ]
  },
  {
   "cell_type": "code",
   "execution_count": 244,
   "metadata": {},
   "outputs": [
    {
     "name": "stdout",
     "output_type": "stream",
     "text": [
      "Popularity Ranking      2457.50\n",
      "Released                  20.00\n",
      "Runtime (Minutes)         61.00\n",
      "Rating                     2.00\n",
      "Votes                 128989.50\n",
      "Gross (M)                 73.95\n",
      "Type of Content            1.00\n",
      "dtype: float64\n"
     ]
    }
   ],
   "source": [
    "# Now lets trim on the above dummy db\n",
    "\n",
    "D_Q1 = dummy_db.quantile(0.25)\n",
    "D_Q3 = dummy_db.quantile(0.75)\n",
    "D_IQR = D_Q3 - D_Q1\n",
    "D_LW = D_Q1 - 1.5*D_IQR\n",
    "D_UW = D_Q3 + 1.5*D_IQR\n",
    "print(D_IQR)"
   ]
  },
  {
   "cell_type": "code",
   "execution_count": 252,
   "metadata": {},
   "outputs": [
    {
     "data": {
      "text/plain": [
       "1046"
      ]
     },
     "execution_count": 252,
     "metadata": {},
     "output_type": "execute_result"
    }
   ],
   "source": [
    "index = []\n",
    "for i, j in zip(outliers_column_name, range(len(outliers_column_name))):\n",
    "    index.extend(dummy_db[(dummy_db[i] >= D_UW[j]) | (dummy_db[i] <= D_LW[j])].index)\n",
    "\n",
    "len((index))"
   ]
  },
  {
   "cell_type": "code",
   "execution_count": 253,
   "metadata": {},
   "outputs": [
    {
     "data": {
      "text/plain": [
       "859"
      ]
     },
     "execution_count": 253,
     "metadata": {},
     "output_type": "execute_result"
    }
   ],
   "source": [
    "# There might be some index which have 2 outliers so they are appearing twice, lets first handle this\n",
    "\n",
    "index = list(set(index))\n",
    "len(index)"
   ]
  },
  {
   "cell_type": "code",
   "execution_count": 254,
   "metadata": {},
   "outputs": [],
   "source": [
    "dummy_db.drop(index, inplace= True)"
   ]
  },
  {
   "cell_type": "code",
   "execution_count": 257,
   "metadata": {},
   "outputs": [
    {
     "name": "stdout",
     "output_type": "stream",
     "text": [
      "(6763, 14)\n",
      "(5904, 14)\n"
     ]
    }
   ],
   "source": [
    "print(X.shape)\n",
    "print(dummy_db.shape)"
   ]
  },
  {
   "attachments": {},
   "cell_type": "markdown",
   "metadata": {},
   "source": [
    "### Log Transformation"
   ]
  },
  {
   "cell_type": "code",
   "execution_count": 258,
   "metadata": {},
   "outputs": [],
   "source": [
    "dummy_db = X.copy()"
   ]
  },
  {
   "cell_type": "code",
   "execution_count": 268,
   "metadata": {},
   "outputs": [
    {
     "data": {
      "image/png": "[encoded data removed]",
      "text/plain": [
       "<Figure size 1000x500 with 8 Axes>"
      ]
     },
     "metadata": {},
     "output_type": "display_data"
    }
   ],
   "source": [
    "dummy_db.hist(bins= 10, layout= (2, 4), figsize= (10,5))\n",
    "plt.show()"
   ]
  },
  {
   "cell_type": "code",
   "execution_count": 270,
   "metadata": {},
   "outputs": [
    {
     "name": "stderr",
     "output_type": "stream",
     "text": [
      "C:\\Users\\keera\\AppData\\Local\\Temp\\ipykernel_20872\\755786058.py:1: FutureWarning: Dropping of nuisance columns in DataFrame reductions (with 'numeric_only=None') is deprecated; in a future version this will raise TypeError.  Select only valid columns before calling the reduction.\n",
      "  dummy_db.skew()\n"
     ]
    },
    {
     "data": {
      "text/plain": [
       "Popularity Ranking    0.245950\n",
       "Released             -1.534668\n",
       "Runtime (Minutes)     1.725246\n",
       "Rating               -0.603475\n",
       "Votes                 4.382128\n",
       "Gross (M)             3.222317\n",
       "Type of Content       0.684327\n",
       "dtype: float64"
      ]
     },
     "execution_count": 270,
     "metadata": {},
     "output_type": "execute_result"
    }
   ],
   "source": [
    "dummy_db.skew()"
   ]
  },
  {
   "cell_type": "code",
   "execution_count": 271,
   "metadata": {},
   "outputs": [
    {
     "name": "stderr",
     "output_type": "stream",
     "text": [
      "C:\\Users\\keera\\AppData\\Local\\Temp\\ipykernel_20872\\1091718876.py:3: FutureWarning: Dropping of nuisance columns in DataFrame reductions (with 'numeric_only=None') is deprecated; in a future version this will raise TypeError.  Select only valid columns before calling the reduction.\n",
      "  dummy_db.skew()\n"
     ]
    },
    {
     "data": {
      "text/plain": [
       "Popularity Ranking   -1.688582\n",
       "Released             -1.562210\n",
       "Runtime (Minutes)    -0.992233\n",
       "Rating               -1.475190\n",
       "Votes                -0.599974\n",
       "Gross (M)             0.361894\n",
       "Type of Content       0.000000\n",
       "dtype: float64"
      ]
     },
     "execution_count": 271,
     "metadata": {},
     "output_type": "execute_result"
    }
   ],
   "source": [
    "for i in outliers_column_name:\n",
    "    dummy_db[i] = dummy_db[i].map(lambda x: np.log(x) if x > 0 else 0)\n",
    "dummy_db.skew()"
   ]
  },
  {
   "cell_type": "code",
   "execution_count": 272,
   "metadata": {},
   "outputs": [
    {
     "data": {
      "image/png": "[encoded data removed]",
      "text/plain": [
       "<Figure size 1000x500 with 8 Axes>"
      ]
     },
     "metadata": {},
     "output_type": "display_data"
    }
   ],
   "source": [
    "dummy_db.hist(bins= 10, layout= (2, 4), figsize= (10,5))\n",
    "plt.show()"
   ]
  },
  {
   "attachments": {},
   "cell_type": "markdown",
   "metadata": {},
   "source": [
    "After seeing the data columns above and data; we will not remove outliers since those data does make sense in our data"
   ]
  },
  {
   "attachments": {},
   "cell_type": "markdown",
   "metadata": {},
   "source": [
    "# Unsupervised Learning K-Means (STEP 8)"
   ]
  },
  {
   "cell_type": "code",
   "execution_count": 53,
   "metadata": {},
   "outputs": [],
   "source": [
    "from sklearn.cluster import KMeans"
   ]
  },
  {
   "cell_type": "code",
   "execution_count": 54,
   "metadata": {},
   "outputs": [
    {
     "name": "stdout",
     "output_type": "stream",
     "text": [
      "<class 'pandas.core.frame.DataFrame'>\n",
      "Int64Index: 6763 entries, 0 to 7302\n",
      "Data columns (total 14 columns):\n",
      " #   Column              Non-Null Count  Dtype  \n",
      "---  ------              --------------  -----  \n",
      " 0   Popularity Ranking  6763 non-null   int64  \n",
      " 1   Name                6763 non-null   object \n",
      " 2   Released            6763 non-null   int64  \n",
      " 3   Finished            6763 non-null   object \n",
      " 4   Certificate         6763 non-null   object \n",
      " 5   Runtime (Minutes)   6763 non-null   int64  \n",
      " 6   Genre               6763 non-null   object \n",
      " 7   Rating              6763 non-null   int64  \n",
      " 8   Summary             6763 non-null   object \n",
      " 9   Director            4476 non-null   object \n",
      " 10  Stars               6762 non-null   object \n",
      " 11  Votes               6763 non-null   int64  \n",
      " 12  Gross (M)           3436 non-null   float64\n",
      " 13  Type of Content     6763 non-null   int64  \n",
      "dtypes: float64(1), int64(6), object(7)\n",
      "memory usage: 792.5+ KB\n"
     ]
    }
   ],
   "source": [
    "# Not using float64 as it contains NaN values\n",
    "\n",
    "X.info()"
   ]
  },
  {
   "cell_type": "code",
   "execution_count": 128,
   "metadata": {},
   "outputs": [],
   "source": [
    "data = X.select_dtypes(include= ['int64'])"
   ]
  },
  {
   "cell_type": "code",
   "execution_count": 129,
   "metadata": {},
   "outputs": [
    {
     "data": {
      "image/png": "[encoded data removed]",
      "text/plain": [
       "<Figure size 640x480 with 2 Axes>"
      ]
     },
     "metadata": {},
     "output_type": "display_data"
    }
   ],
   "source": [
    "corr = data.corr()\n",
    "sns.heatmap(corr)\n",
    "plt.show()"
   ]
  },
  {
   "cell_type": "code",
   "execution_count": 130,
   "metadata": {},
   "outputs": [
    {
     "data": {
      "image/png": "[encoded data removed]",
      "text/plain": [
       "<Figure size 640x480 with 1 Axes>"
      ]
     },
     "metadata": {},
     "output_type": "display_data"
    }
   ],
   "source": [
    "inertias = []\n",
    "\n",
    "for i in range(1,10):\n",
    "    kmeans = KMeans(n_clusters=i)\n",
    "    kmeans.fit(data)\n",
    "    inertias.append(kmeans.inertia_)\n",
    "\n",
    "plt.plot(range(1,10), inertias, marker='o')\n",
    "plt.title('Elbow method')\n",
    "plt.xlabel('Number of clusters')\n",
    "plt.ylabel('Inertia')\n",
    "plt.show()"
   ]
  },
  {
   "cell_type": "code",
   "execution_count": 131,
   "metadata": {},
   "outputs": [],
   "source": [
    "kmeans = KMeans(n_clusters= 4)\n",
    "kmeans.fit(data)\n",
    "data['Group'] = kmeans.labels_.astype(int)"
   ]
  },
  {
   "cell_type": "code",
   "execution_count": 132,
   "metadata": {},
   "outputs": [
    {
     "data": {
      "text/plain": [
       "0    5072\n",
       "2    1308\n",
       "1     331\n",
       "3      52\n",
       "Name: Group, dtype: int64"
      ]
     },
     "execution_count": 132,
     "metadata": {},
     "output_type": "execute_result"
    }
   ],
   "source": [
    "data['Group'].value_counts()"
   ]
  },
  {
   "cell_type": "code",
   "execution_count": 133,
   "metadata": {},
   "outputs": [
    {
     "data": {
      "text/html": [
       "<div>\n",
       "<style scoped>\n",
       "    .dataframe tbody tr th:only-of-type {\n",
       "        vertical-align: middle;\n",
       "    }\n",
       "\n",
       "    .dataframe tbody tr th {\n",
       "        vertical-align: top;\n",
       "    }\n",
       "\n",
       "    .dataframe thead th {\n",
       "        text-align: right;\n",
       "    }\n",
       "</style>\n",
       "<table border=\"1\" class=\"dataframe\">\n",
       "  <thead>\n",
       "    <tr style=\"text-align: right;\">\n",
       "      <th></th>\n",
       "      <th>Popularity Ranking</th>\n",
       "      <th>Released</th>\n",
       "      <th>Runtime (Minutes)</th>\n",
       "      <th>Rating</th>\n",
       "      <th>Votes</th>\n",
       "      <th>Type of Content</th>\n",
       "      <th>Group</th>\n",
       "    </tr>\n",
       "  </thead>\n",
       "  <tbody>\n",
       "    <tr>\n",
       "      <th>0</th>\n",
       "      <td>1</td>\n",
       "      <td>2023</td>\n",
       "      <td>122</td>\n",
       "      <td>7</td>\n",
       "      <td>20665</td>\n",
       "      <td>0</td>\n",
       "      <td>0</td>\n",
       "    </tr>\n",
       "    <tr>\n",
       "      <th>1</th>\n",
       "      <td>2</td>\n",
       "      <td>2023</td>\n",
       "      <td>116</td>\n",
       "      <td>7</td>\n",
       "      <td>21205</td>\n",
       "      <td>0</td>\n",
       "      <td>0</td>\n",
       "    </tr>\n",
       "    <tr>\n",
       "      <th>2</th>\n",
       "      <td>3</td>\n",
       "      <td>2022</td>\n",
       "      <td>139</td>\n",
       "      <td>8</td>\n",
       "      <td>371173</td>\n",
       "      <td>0</td>\n",
       "      <td>2</td>\n",
       "    </tr>\n",
       "    <tr>\n",
       "      <th>3</th>\n",
       "      <td>4</td>\n",
       "      <td>2023</td>\n",
       "      <td>95</td>\n",
       "      <td>6</td>\n",
       "      <td>22380</td>\n",
       "      <td>0</td>\n",
       "      <td>0</td>\n",
       "    </tr>\n",
       "    <tr>\n",
       "      <th>4</th>\n",
       "      <td>5</td>\n",
       "      <td>2022</td>\n",
       "      <td>117</td>\n",
       "      <td>8</td>\n",
       "      <td>89630</td>\n",
       "      <td>0</td>\n",
       "      <td>0</td>\n",
       "    </tr>\n",
       "  </tbody>\n",
       "</table>\n",
       "</div>"
      ],
      "text/plain": [
       "   Popularity Ranking  Released  Runtime (Minutes)  Rating   Votes  \\\n",
       "0                   1      2023                122       7   20665   \n",
       "1                   2      2023                116       7   21205   \n",
       "2                   3      2022                139       8  371173   \n",
       "3                   4      2023                 95       6   22380   \n",
       "4                   5      2022                117       8   89630   \n",
       "\n",
       "   Type of Content  Group  \n",
       "0                0      0  \n",
       "1                0      0  \n",
       "2                0      2  \n",
       "3                0      0  \n",
       "4                0      0  "
      ]
     },
     "execution_count": 133,
     "metadata": {},
     "output_type": "execute_result"
    }
   ],
   "source": [
    "data.head(5)"
   ]
  },
  {
   "cell_type": "code",
   "execution_count": 134,
   "metadata": {},
   "outputs": [
    {
     "data": {
      "image/png": "[encoded data removed]",
      "text/plain": [
       "<Figure size 640x480 with 1 Axes>"
      ]
     },
     "metadata": {},
     "output_type": "display_data"
    }
   ],
   "source": [
    "sns.scatterplot(data= data, y= 'Votes', x= 'Released', hue= 'Group')\n",
    "plt.legend(loc='upper left')\n",
    "plt.show()"
   ]
  },
  {
   "attachments": {},
   "cell_type": "markdown",
   "metadata": {},
   "source": [
    "# Some NLP Techniques (STEP 9)"
   ]
  },
  {
   "cell_type": "code",
   "execution_count": 155,
   "metadata": {},
   "outputs": [],
   "source": [
    "import nltk\n",
    "from nltk.tokenize import word_tokenize\n",
    "from nltk.stem import PorterStemmer\n",
    "from nltk.stem import WordNetLemmatizer\n",
    "from nltk.corpus import stopwords\n",
    "from string import punctuation"
   ]
  },
  {
   "attachments": {},
   "cell_type": "markdown",
   "metadata": {},
   "source": [
    "#### Tokenizing"
   ]
  },
  {
   "cell_type": "code",
   "execution_count": 143,
   "metadata": {},
   "outputs": [
    {
     "name": "stderr",
     "output_type": "stream",
     "text": [
      "C:\\Users\\keera\\AppData\\Local\\Temp\\ipykernel_3060\\689665636.py:2: SettingWithCopyWarning: \n",
      "A value is trying to be set on a copy of a slice from a DataFrame.\n",
      "Try using .loc[row_indexer,col_indexer] = value instead\n",
      "\n",
      "See the caveats in the documentation: https://pandas.pydata.org/pandas-docs/stable/user_guide/indexing.html#returning-a-view-versus-a-copy\n",
      "  X['Tokenized_Word'] = X['Summary'].apply(lambda x: word_tokenize(x))\n"
     ]
    }
   ],
   "source": [
    "# Tokenizing\n",
    "X['Tokenized_Word'] = X['Summary'].apply(lambda x: word_tokenize(x))"
   ]
  },
  {
   "attachments": {},
   "cell_type": "markdown",
   "metadata": {},
   "source": [
    "####  Removing Stopwords and punctuations"
   ]
  },
  {
   "cell_type": "code",
   "execution_count": 172,
   "metadata": {},
   "outputs": [
    {
     "name": "stderr",
     "output_type": "stream",
     "text": [
      "[nltk_data] Downloading package stopwords to\n",
      "[nltk_data]     C:\\Users\\keera\\AppData\\Roaming\\nltk_data...\n",
      "[nltk_data]   Package stopwords is already up-to-date!\n"
     ]
    }
   ],
   "source": [
    "nltk.download('stopwords')\n",
    "stopword = stopwords.words('english')\n",
    "punctuation = list(punctuation)"
   ]
  },
  {
   "cell_type": "code",
   "execution_count": 173,
   "metadata": {},
   "outputs": [
    {
     "name": "stderr",
     "output_type": "stream",
     "text": [
      "C:\\Users\\keera\\AppData\\Local\\Temp\\ipykernel_3060\\1023688729.py:10: SettingWithCopyWarning: \n",
      "A value is trying to be set on a copy of a slice from a DataFrame.\n",
      "Try using .loc[row_indexer,col_indexer] = value instead\n",
      "\n",
      "See the caveats in the documentation: https://pandas.pydata.org/pandas-docs/stable/user_guide/indexing.html#returning-a-view-versus-a-copy\n",
      "  X['Cleaned_Token'] = X['Tokenized_Word'].apply(lambda x: clean(x))\n"
     ]
    }
   ],
   "source": [
    "#  Removing Stopwords and punctuations\n",
    "\n",
    "def clean(x):\n",
    "    token = []\n",
    "    for i in x:\n",
    "        if (i not in stopword) and (i not in punctuation):\n",
    "            token.append(i)\n",
    "    return token\n",
    "\n",
    "X['Cleaned_Token'] = X['Tokenized_Word'].apply(lambda x: clean(x))"
   ]
  },
  {
   "attachments": {},
   "cell_type": "markdown",
   "metadata": {},
   "source": [
    "#### Stemming"
   ]
  },
  {
   "cell_type": "code",
   "execution_count": 175,
   "metadata": {},
   "outputs": [
    {
     "name": "stderr",
     "output_type": "stream",
     "text": [
      "C:\\Users\\keera\\AppData\\Local\\Temp\\ipykernel_3060\\1870536170.py:5: SettingWithCopyWarning: \n",
      "A value is trying to be set on a copy of a slice from a DataFrame.\n",
      "Try using .loc[row_indexer,col_indexer] = value instead\n",
      "\n",
      "See the caveats in the documentation: https://pandas.pydata.org/pandas-docs/stable/user_guide/indexing.html#returning-a-view-versus-a-copy\n",
      "  X['Stem_Token'] = X['Cleaned_Token'].apply(lambda x: stemming(x))\n"
     ]
    }
   ],
   "source": [
    "def stemming(x):\n",
    "    return [porter.stem(z) for z in x]\n",
    "\n",
    "porter = PorterStemmer()\n",
    "X['Stem_Token'] = X['Cleaned_Token'].apply(lambda x: stemming(x))"
   ]
  },
  {
   "attachments": {},
   "cell_type": "markdown",
   "metadata": {},
   "source": [
    "#### Lemmatization"
   ]
  },
  {
   "cell_type": "code",
   "execution_count": 178,
   "metadata": {},
   "outputs": [
    {
     "name": "stderr",
     "output_type": "stream",
     "text": [
      "C:\\Users\\keera\\AppData\\Local\\Temp\\ipykernel_3060\\1065949274.py:5: SettingWithCopyWarning: \n",
      "A value is trying to be set on a copy of a slice from a DataFrame.\n",
      "Try using .loc[row_indexer,col_indexer] = value instead\n",
      "\n",
      "See the caveats in the documentation: https://pandas.pydata.org/pandas-docs/stable/user_guide/indexing.html#returning-a-view-versus-a-copy\n",
      "  X['Lem_Token'] = X['Cleaned_Token'].apply(lambda x: lemmatization(x))\n"
     ]
    }
   ],
   "source": [
    "def lemmatization(x):\n",
    "    return [lem.lemmatize(z, pos='a') for z in x]\n",
    "\n",
    "lem = WordNetLemmatizer()\n",
    "X['Lem_Token'] = X['Cleaned_Token'].apply(lambda x: lemmatization(x))"
   ]
  },
  {
   "cell_type": "code",
   "execution_count": 185,
   "metadata": {},
   "outputs": [
    {
     "data": {
      "text/html": [
       "<div>\n",
       "<style scoped>\n",
       "    .dataframe tbody tr th:only-of-type {\n",
       "        vertical-align: middle;\n",
       "    }\n",
       "\n",
       "    .dataframe tbody tr th {\n",
       "        vertical-align: top;\n",
       "    }\n",
       "\n",
       "    .dataframe thead th {\n",
       "        text-align: right;\n",
       "    }\n",
       "</style>\n",
       "<table border=\"1\" class=\"dataframe\">\n",
       "  <thead>\n",
       "    <tr style=\"text-align: right;\">\n",
       "      <th></th>\n",
       "      <th>Tokenized_Word</th>\n",
       "      <th>Cleaned_Token</th>\n",
       "      <th>Stem_Token</th>\n",
       "      <th>Lem_Token</th>\n",
       "    </tr>\n",
       "  </thead>\n",
       "  <tbody>\n",
       "    <tr>\n",
       "      <th>0</th>\n",
       "      <td>[In, the, next, installment, ,, the, survivors...</td>\n",
       "      <td>[In, next, installment, survivors, Ghostface, ...</td>\n",
       "      <td>[in, next, instal, survivor, ghostfac, kill, l...</td>\n",
       "      <td>[In, next, installment, survivors, Ghostface, ...</td>\n",
       "    </tr>\n",
       "    <tr>\n",
       "      <th>1</th>\n",
       "      <td>[Adonis, has, been, thriving, in, both, his, c...</td>\n",
       "      <td>[Adonis, thriving, career, family, life, child...</td>\n",
       "      <td>[adoni, thrive, career, famili, life, childhoo...</td>\n",
       "      <td>[Adonis, thriving, career, family, life, child...</td>\n",
       "    </tr>\n",
       "    <tr>\n",
       "      <th>2</th>\n",
       "      <td>[A, middle-aged, Chinese, immigrant, is, swept...</td>\n",
       "      <td>[A, middle-aged, Chinese, immigrant, swept, in...</td>\n",
       "      <td>[a, middle-ag, chines, immigr, swept, insan, a...</td>\n",
       "      <td>[A, middle-aged, Chinese, immigrant, swept, in...</td>\n",
       "    </tr>\n",
       "    <tr>\n",
       "      <th>3</th>\n",
       "      <td>[An, oddball, group, of, cops, ,, criminals, ,...</td>\n",
       "      <td>[An, oddball, group, cops, criminals, tourists...</td>\n",
       "      <td>[an, oddbal, group, cop, crimin, tourist, teen...</td>\n",
       "      <td>[An, oddball, group, cops, criminals, tourists...</td>\n",
       "    </tr>\n",
       "    <tr>\n",
       "      <th>4</th>\n",
       "      <td>[A, reclusive, ,, morbidly, obese, English, te...</td>\n",
       "      <td>[A, reclusive, morbidly, obese, English, teach...</td>\n",
       "      <td>[a, reclus, morbidli, obes, english, teacher, ...</td>\n",
       "      <td>[A, reclusive, morbidly, obese, English, teach...</td>\n",
       "    </tr>\n",
       "  </tbody>\n",
       "</table>\n",
       "</div>"
      ],
      "text/plain": [
       "                                      Tokenized_Word  \\\n",
       "0  [In, the, next, installment, ,, the, survivors...   \n",
       "1  [Adonis, has, been, thriving, in, both, his, c...   \n",
       "2  [A, middle-aged, Chinese, immigrant, is, swept...   \n",
       "3  [An, oddball, group, of, cops, ,, criminals, ,...   \n",
       "4  [A, reclusive, ,, morbidly, obese, English, te...   \n",
       "\n",
       "                                       Cleaned_Token  \\\n",
       "0  [In, next, installment, survivors, Ghostface, ...   \n",
       "1  [Adonis, thriving, career, family, life, child...   \n",
       "2  [A, middle-aged, Chinese, immigrant, swept, in...   \n",
       "3  [An, oddball, group, cops, criminals, tourists...   \n",
       "4  [A, reclusive, morbidly, obese, English, teach...   \n",
       "\n",
       "                                          Stem_Token  \\\n",
       "0  [in, next, instal, survivor, ghostfac, kill, l...   \n",
       "1  [adoni, thrive, career, famili, life, childhoo...   \n",
       "2  [a, middle-ag, chines, immigr, swept, insan, a...   \n",
       "3  [an, oddbal, group, cop, crimin, tourist, teen...   \n",
       "4  [a, reclus, morbidli, obes, english, teacher, ...   \n",
       "\n",
       "                                           Lem_Token  \n",
       "0  [In, next, installment, survivors, Ghostface, ...  \n",
       "1  [Adonis, thriving, career, family, life, child...  \n",
       "2  [A, middle-aged, Chinese, immigrant, swept, in...  \n",
       "3  [An, oddball, group, cops, criminals, tourists...  \n",
       "4  [A, reclusive, morbidly, obese, English, teach...  "
      ]
     },
     "execution_count": 185,
     "metadata": {},
     "output_type": "execute_result"
    }
   ],
   "source": [
    "X[['Tokenized_Word', 'Cleaned_Token', 'Stem_Token', 'Lem_Token']].head(5)"
   ]
  },
  {
   "cell_type": "code",
   "execution_count": null,
   "metadata": {},
   "outputs": [],
   "source": []
  }
 ],
 "metadata": {
  "kernelspec": {
   "display_name": "Python 3",
   "language": "python",
   "name": "python3"
  },
  "language_info": {
   "codemirror_mode": {
    "name": "ipython",
    "version": 3
   },
   "file_extension": ".py",
   "mimetype": "text/x-python",
   "name": "python",
   "nbconvert_exporter": "python",
   "pygments_lexer": "ipython3",
   "version": "3.9.13"
  },
  "orig_nbformat": 4,
  "vscode": {
   "interpreter": {
    "hash": "f94b310636db8c203112c87d09ac8d05a463efd75a9987ba0e0d70e3e736fc47"
   }
  }
 },
 "nbformat": 4,
 "nbformat_minor": 2
}
